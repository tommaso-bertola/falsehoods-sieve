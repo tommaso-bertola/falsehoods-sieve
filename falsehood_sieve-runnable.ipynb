{
 "cells": [
  {
   "cell_type": "markdown",
   "id": "2846428f",
   "metadata": {},
   "source": [
    "# Naive Classifier for Fake news recognition"
   ]
  },
  {
   "cell_type": "code",
   "execution_count": 1,
   "id": "1cb0e03c",
   "metadata": {},
   "outputs": [
    {
     "name": "stderr",
     "output_type": "stream",
     "text": [
      "Warning message in system(\"timedatectl\", intern = TRUE):\n",
      "“running command 'timedatectl' had status 1”\n",
      "── \u001b[1mAttaching packages\u001b[22m ─────────────────────────────────────────────────────────────────────────────── tidyverse 1.3.1 ──\n",
      "\n",
      "\u001b[32m✔\u001b[39m \u001b[34mggplot2\u001b[39m 3.4.1     \u001b[32m✔\u001b[39m \u001b[34mpurrr  \u001b[39m 1.0.1\n",
      "\u001b[32m✔\u001b[39m \u001b[34mtibble \u001b[39m 3.2.0     \u001b[32m✔\u001b[39m \u001b[34mdplyr  \u001b[39m 1.1.0\n",
      "\u001b[32m✔\u001b[39m \u001b[34mtidyr  \u001b[39m 1.3.0     \u001b[32m✔\u001b[39m \u001b[34mstringr\u001b[39m 1.5.0\n",
      "\u001b[32m✔\u001b[39m \u001b[34mreadr  \u001b[39m 2.1.4     \u001b[32m✔\u001b[39m \u001b[34mforcats\u001b[39m 1.0.0\n",
      "\n",
      "── \u001b[1mConflicts\u001b[22m ────────────────────────────────────────────────────────────────────────────────── tidyverse_conflicts() ──\n",
      "\u001b[31m✖\u001b[39m \u001b[34mdplyr\u001b[39m::\u001b[32mfilter()\u001b[39m  masks \u001b[34mstats\u001b[39m::filter()\n",
      "\u001b[31m✖\u001b[39m \u001b[34mpurrr\u001b[39m::\u001b[32mflatten()\u001b[39m masks \u001b[34mjsonlite\u001b[39m::flatten()\n",
      "\u001b[31m✖\u001b[39m \u001b[34mdplyr\u001b[39m::\u001b[32mlag()\u001b[39m     masks \u001b[34mstats\u001b[39m::lag()\n",
      "\n",
      "\n",
      "Attaching package: ‘magrittr’\n",
      "\n",
      "\n",
      "The following object is masked from ‘package:purrr’:\n",
      "\n",
      "    set_names\n",
      "\n",
      "\n",
      "The following object is masked from ‘package:tidyr’:\n",
      "\n",
      "    extract\n",
      "\n",
      "\n"
     ]
    }
   ],
   "source": [
    "source('naive_bayes.R') # load the proper functions to perform the computations"
   ]
  },
  {
   "cell_type": "code",
   "execution_count": 2,
   "id": "f4c6d5ad",
   "metadata": {},
   "outputs": [],
   "source": [
    "numCores <- detectCores() # for the parallel execution of code later on"
   ]
  },
  {
   "cell_type": "markdown",
   "id": "5b1142bb",
   "metadata": {},
   "source": [
    "# Reading the data\n",
    "Here we first load the dataset in order to explore its columns and perform some normalization"
   ]
  },
  {
   "cell_type": "code",
   "execution_count": 3,
   "id": "93c0eec7",
   "metadata": {},
   "outputs": [],
   "source": [
    "train.filename <- \"dataset/archive/train.csv\"  # paths to dataset files\n",
    "test.filename <- \"dataset/archive/test.csv\"  #"
   ]
  },
  {
   "cell_type": "code",
   "execution_count": 4,
   "id": "a20924a0",
   "metadata": {},
   "outputs": [],
   "source": [
    "train.df <- read.delim(train.filename, sep = \",\")  # actually load the files\n",
    "test.df <- read.delim(test.filename, sep = \",\")  #"
   ]
  },
  {
   "cell_type": "markdown",
   "id": "5b6efc43",
   "metadata": {},
   "source": [
    "## Display the train and test datasets\n",
    "This is done in order to check the dataset schema.\n",
    "\n",
    "`test.df` does not have the assigned Labels. We therefore are going to split the training dataset in actual training and validation sets to check the accuracy of the algorithm. "
   ]
  },
  {
   "cell_type": "code",
   "execution_count": 5,
   "id": "42ff4e60",
   "metadata": {},
   "outputs": [
    {
     "data": {
      "text/html": [
       "<table class=\"dataframe\">\n",
       "<caption>A data.frame: 6 × 3</caption>\n",
       "<thead>\n",
       "\t<tr><th></th><th scope=col>Labels</th><th scope=col>Text</th><th scope=col>Text_Tag</th></tr>\n",
       "\t<tr><th></th><th scope=col>&lt;int&gt;</th><th scope=col>&lt;chr&gt;</th><th scope=col>&lt;chr&gt;</th></tr>\n",
       "</thead>\n",
       "<tbody>\n",
       "\t<tr><th scope=row>1</th><td>1</td><td>Says the Annies List political group supports third-trimester abortions on demand.                                                                         </td><td>abortion                          </td></tr>\n",
       "\t<tr><th scope=row>2</th><td>2</td><td>When did the decline of coal start? It started when natural gas took off that started to begin in (President George W.) Bushs administration.              </td><td>energy,history,job-accomplishments</td></tr>\n",
       "\t<tr><th scope=row>3</th><td>3</td><td>Hillary Clinton agrees with John McCain \"by voting to give George Bush the benefit of the doubt on Iran.\"                                                  </td><td>foreign-policy                    </td></tr>\n",
       "\t<tr><th scope=row>4</th><td>1</td><td>Health care reform legislation is likely to mandate free sex change surgeries.                                                                             </td><td>health-care                       </td></tr>\n",
       "\t<tr><th scope=row>5</th><td>2</td><td>The economic turnaround started at the end of my term.                                                                                                     </td><td>economy,jobs                      </td></tr>\n",
       "\t<tr><th scope=row>6</th><td>5</td><td>The Chicago Bears have had more starting quarterbacks in the last 10 years than the total number of tenured (UW) faculty fired during the last two decades.</td><td>education                         </td></tr>\n",
       "</tbody>\n",
       "</table>\n"
      ],
      "text/latex": [
       "A data.frame: 6 × 3\n",
       "\\begin{tabular}{r|lll}\n",
       "  & Labels & Text & Text\\_Tag\\\\\n",
       "  & <int> & <chr> & <chr>\\\\\n",
       "\\hline\n",
       "\t1 & 1 & Says the Annies List political group supports third-trimester abortions on demand.                                                                          & abortion                          \\\\\n",
       "\t2 & 2 & When did the decline of coal start? It started when natural gas took off that started to begin in (President George W.) Bushs administration.               & energy,history,job-accomplishments\\\\\n",
       "\t3 & 3 & Hillary Clinton agrees with John McCain \"by voting to give George Bush the benefit of the doubt on Iran.\"                                                   & foreign-policy                    \\\\\n",
       "\t4 & 1 & Health care reform legislation is likely to mandate free sex change surgeries.                                                                              & health-care                       \\\\\n",
       "\t5 & 2 & The economic turnaround started at the end of my term.                                                                                                      & economy,jobs                      \\\\\n",
       "\t6 & 5 & The Chicago Bears have had more starting quarterbacks in the last 10 years than the total number of tenured (UW) faculty fired during the last two decades. & education                         \\\\\n",
       "\\end{tabular}\n"
      ],
      "text/markdown": [
       "\n",
       "A data.frame: 6 × 3\n",
       "\n",
       "| <!--/--> | Labels &lt;int&gt; | Text &lt;chr&gt; | Text_Tag &lt;chr&gt; |\n",
       "|---|---|---|---|\n",
       "| 1 | 1 | Says the Annies List political group supports third-trimester abortions on demand.                                                                          | abortion                           |\n",
       "| 2 | 2 | When did the decline of coal start? It started when natural gas took off that started to begin in (President George W.) Bushs administration.               | energy,history,job-accomplishments |\n",
       "| 3 | 3 | Hillary Clinton agrees with John McCain \"by voting to give George Bush the benefit of the doubt on Iran.\"                                                   | foreign-policy                     |\n",
       "| 4 | 1 | Health care reform legislation is likely to mandate free sex change surgeries.                                                                              | health-care                        |\n",
       "| 5 | 2 | The economic turnaround started at the end of my term.                                                                                                      | economy,jobs                       |\n",
       "| 6 | 5 | The Chicago Bears have had more starting quarterbacks in the last 10 years than the total number of tenured (UW) faculty fired during the last two decades. | education                          |\n",
       "\n"
      ],
      "text/plain": [
       "  Labels\n",
       "1 1     \n",
       "2 2     \n",
       "3 3     \n",
       "4 1     \n",
       "5 2     \n",
       "6 5     \n",
       "  Text                                                                                                                                                       \n",
       "1 Says the Annies List political group supports third-trimester abortions on demand.                                                                         \n",
       "2 When did the decline of coal start? It started when natural gas took off that started to begin in (President George W.) Bushs administration.              \n",
       "3 Hillary Clinton agrees with John McCain \"by voting to give George Bush the benefit of the doubt on Iran.\"                                                  \n",
       "4 Health care reform legislation is likely to mandate free sex change surgeries.                                                                             \n",
       "5 The economic turnaround started at the end of my term.                                                                                                     \n",
       "6 The Chicago Bears have had more starting quarterbacks in the last 10 years than the total number of tenured (UW) faculty fired during the last two decades.\n",
       "  Text_Tag                          \n",
       "1 abortion                          \n",
       "2 energy,history,job-accomplishments\n",
       "3 foreign-policy                    \n",
       "4 health-care                       \n",
       "5 economy,jobs                      \n",
       "6 education                         "
      ]
     },
     "metadata": {},
     "output_type": "display_data"
    }
   ],
   "source": [
    "head(train.df)"
   ]
  },
  {
   "cell_type": "code",
   "execution_count": 6,
   "id": "5e832411",
   "metadata": {},
   "outputs": [
    {
     "data": {
      "text/html": [
       "<table class=\"dataframe\">\n",
       "<caption>A data.frame: 6 × 2</caption>\n",
       "<thead>\n",
       "\t<tr><th></th><th scope=col>Text</th><th scope=col>Text_Tag</th></tr>\n",
       "\t<tr><th></th><th scope=col>&lt;chr&gt;</th><th scope=col>&lt;chr&gt;</th></tr>\n",
       "</thead>\n",
       "<tbody>\n",
       "\t<tr><th scope=row>1</th><td>Building a wall on the U.S.-Mexico border will take literally years.                                                                                 </td><td>immigration                                       </td></tr>\n",
       "\t<tr><th scope=row>2</th><td>Wisconsin is on pace to double the number of layoffs this year.                                                                                      </td><td>jobs                                              </td></tr>\n",
       "\t<tr><th scope=row>3</th><td>Says John McCain has done nothing to help the vets.                                                                                                  </td><td>military,veterans,voting-record                   </td></tr>\n",
       "\t<tr><th scope=row>4</th><td>Suzanne Bonamici supports a plan that will cut choice for Medicare Advantage seniors.                                                                </td><td>medicare,message-machine-2012,campaign-advertising</td></tr>\n",
       "\t<tr><th scope=row>5</th><td>When asked by a reporter whether hes at the center of a criminal scheme to violate campaign laws, Gov. Scott Walker nodded yes.                      </td><td>campaign-finance,legal-issues,campaign-advertising</td></tr>\n",
       "\t<tr><th scope=row>6</th><td>Over the past five years the federal government has paid out $601 million in retirement and disability benefits to deceased former federal employees.</td><td>federal-budget,pensions,retirement                </td></tr>\n",
       "</tbody>\n",
       "</table>\n"
      ],
      "text/latex": [
       "A data.frame: 6 × 2\n",
       "\\begin{tabular}{r|ll}\n",
       "  & Text & Text\\_Tag\\\\\n",
       "  & <chr> & <chr>\\\\\n",
       "\\hline\n",
       "\t1 & Building a wall on the U.S.-Mexico border will take literally years.                                                                                  & immigration                                       \\\\\n",
       "\t2 & Wisconsin is on pace to double the number of layoffs this year.                                                                                       & jobs                                              \\\\\n",
       "\t3 & Says John McCain has done nothing to help the vets.                                                                                                   & military,veterans,voting-record                   \\\\\n",
       "\t4 & Suzanne Bonamici supports a plan that will cut choice for Medicare Advantage seniors.                                                                 & medicare,message-machine-2012,campaign-advertising\\\\\n",
       "\t5 & When asked by a reporter whether hes at the center of a criminal scheme to violate campaign laws, Gov. Scott Walker nodded yes.                       & campaign-finance,legal-issues,campaign-advertising\\\\\n",
       "\t6 & Over the past five years the federal government has paid out \\$601 million in retirement and disability benefits to deceased former federal employees. & federal-budget,pensions,retirement                \\\\\n",
       "\\end{tabular}\n"
      ],
      "text/markdown": [
       "\n",
       "A data.frame: 6 × 2\n",
       "\n",
       "| <!--/--> | Text &lt;chr&gt; | Text_Tag &lt;chr&gt; |\n",
       "|---|---|---|\n",
       "| 1 | Building a wall on the U.S.-Mexico border will take literally years.                                                                                  | immigration                                        |\n",
       "| 2 | Wisconsin is on pace to double the number of layoffs this year.                                                                                       | jobs                                               |\n",
       "| 3 | Says John McCain has done nothing to help the vets.                                                                                                   | military,veterans,voting-record                    |\n",
       "| 4 | Suzanne Bonamici supports a plan that will cut choice for Medicare Advantage seniors.                                                                 | medicare,message-machine-2012,campaign-advertising |\n",
       "| 5 | When asked by a reporter whether hes at the center of a criminal scheme to violate campaign laws, Gov. Scott Walker nodded yes.                       | campaign-finance,legal-issues,campaign-advertising |\n",
       "| 6 | Over the past five years the federal government has paid out $601 million in retirement and disability benefits to deceased former federal employees. | federal-budget,pensions,retirement                 |\n",
       "\n"
      ],
      "text/plain": [
       "  Text                                                                                                                                                 \n",
       "1 Building a wall on the U.S.-Mexico border will take literally years.                                                                                 \n",
       "2 Wisconsin is on pace to double the number of layoffs this year.                                                                                      \n",
       "3 Says John McCain has done nothing to help the vets.                                                                                                  \n",
       "4 Suzanne Bonamici supports a plan that will cut choice for Medicare Advantage seniors.                                                                \n",
       "5 When asked by a reporter whether hes at the center of a criminal scheme to violate campaign laws, Gov. Scott Walker nodded yes.                      \n",
       "6 Over the past five years the federal government has paid out $601 million in retirement and disability benefits to deceased former federal employees.\n",
       "  Text_Tag                                          \n",
       "1 immigration                                       \n",
       "2 jobs                                              \n",
       "3 military,veterans,voting-record                   \n",
       "4 medicare,message-machine-2012,campaign-advertising\n",
       "5 campaign-finance,legal-issues,campaign-advertising\n",
       "6 federal-budget,pensions,retirement                "
      ]
     },
     "metadata": {},
     "output_type": "display_data"
    }
   ],
   "source": [
    "head(test.df)"
   ]
  },
  {
   "cell_type": "markdown",
   "id": "2dc80813",
   "metadata": {},
   "source": [
    "# Splitting the datasets"
   ]
  },
  {
   "cell_type": "code",
   "execution_count": 8,
   "id": "3e24744e-455b-4d1a-bddf-e4d70d4015b2",
   "metadata": {},
   "outputs": [],
   "source": [
    "set.seed(29062023) # seed for code reproducibility \n",
    "train.df=train.df[sample(1:nrow(train.df), replace = F),] # shuffle the dataset"
   ]
  },
  {
   "cell_type": "code",
   "execution_count": 9,
   "id": "53de2aa4-33ba-4007-b676-4c9213b4f25b",
   "metadata": {},
   "outputs": [],
   "source": [
    "# set splitting percentages\n",
    "perc_split <- 0.8  # 80% of original dataset is for training and 20% for validation\n",
    "n_rows <- nrow(train.df)\n",
    "n_rows_train <- floor(n_rows * perc_split)\n",
    "\n",
    "# splitting\n",
    "train.df.train <- train.df[1:n_rows_train, ] # takes the first n_rows\n",
    "train.df.validation <- train.df[-c(1:n_rows_train), ] # takes the remaining rows"
   ]
  },
  {
   "cell_type": "code",
   "execution_count": 10,
   "id": "ca9036ee-9c0b-464c-b11a-dfe8f88ebbe4",
   "metadata": {},
   "outputs": [
    {
     "name": "stdout",
     "output_type": "stream",
     "text": [
      "Total rows: 10240 \n",
      "Train rows: 8192 \n",
      "Validation rows 2048"
     ]
    }
   ],
   "source": [
    "# show the splittings\n",
    "cat('Total rows:',nrow(train.df),\n",
    "    '\\nTrain rows:',nrow(train.df.train),\n",
    "    '\\nValidation rows',nrow(train.df.validation))"
   ]
  },
  {
   "cell_type": "markdown",
   "id": "79326d3e",
   "metadata": {},
   "source": [
    "# Labels distribution and prior definition\n",
    "This is a necessary step in oder to check the distribution of the labels, and therefore compute the associated prior probabilities."
   ]
  },
  {
   "cell_type": "code",
   "execution_count": 43,
   "id": "acff7663",
   "metadata": {},
   "outputs": [],
   "source": [
    "counts_labels<-table(train.df.train$Labels) # count each label"
   ]
  },
  {
   "cell_type": "code",
   "execution_count": 45,
   "id": "1d66127d",
   "metadata": {},
   "outputs": [],
   "source": [
    "n_classes<-length(counts_labels) # count the number of different labels"
   ]
  },
  {
   "cell_type": "markdown",
   "id": "0213f8d2",
   "metadata": {},
   "source": [
    "## Defining the prior of each class"
   ]
  },
  {
   "cell_type": "code",
   "execution_count": 46,
   "id": "959798eb",
   "metadata": {},
   "outputs": [],
   "source": [
    "prior.classes<-counts_labels/sum(counts_labels) # compute the prior for each kind of label"
   ]
  },
  {
   "cell_type": "markdown",
   "id": "9a6d8e38",
   "metadata": {},
   "source": [
    "## Show the distribution in a barplot"
   ]
  },
  {
   "cell_type": "code",
   "execution_count": 38,
   "id": "66301464",
   "metadata": {},
   "outputs": [],
   "source": [
    "labels <- c('Barely True', 'False', 'Half-True', 'Mostly-True', 'Not known', 'True')\n",
    "colors <- c('#FF6666','#FF9966', '#FFCC66', '#99FF99' , '#CCCCCC','#00FF99')"
   ]
  },
  {
   "cell_type": "code",
   "execution_count": 48,
   "id": "5a59b84e",
   "metadata": {},
   "outputs": [
    {
     "data": {
      "image/png": "[encoded data removed]",
      "text/plain": [
       "plot without title"
      ]
     },
     "metadata": {
      "image/png": {
       "height": 420,
       "width": 420
      }
     },
     "output_type": "display_data"
    }
   ],
   "source": [
    "barplot(counts_labels, col=colors, names=paste(0:(n_classes-1),labels), las=2)"
   ]
  },
  {
   "cell_type": "markdown",
   "id": "9d2ac432",
   "metadata": {},
   "source": [
    "# Stop words: those to be ignored\n",
    "We decided to use the tidytext library which already implements a list of the most common stop words in English as shown below"
   ]
  },
  {
   "cell_type": "code",
   "execution_count": 12,
   "id": "2a86a256",
   "metadata": {},
   "outputs": [
    {
     "data": {
      "text/html": [
       "<style>\n",
       ".list-inline {list-style: none; margin:0; padding: 0}\n",
       ".list-inline>li {display: inline-block}\n",
       ".list-inline>li:not(:last-child)::after {content: \"\\00b7\"; padding: 0 .5ex}\n",
       "</style>\n",
       "<ol class=list-inline><li>'i'</li><li>'me'</li><li>'my'</li><li>'myself'</li><li>'we'</li><li>'our'</li><li>'ours'</li><li>'ourselves'</li><li>'you'</li><li>'your'</li><li>'yours'</li><li>'yourself'</li><li>'yourselves'</li><li>'he'</li><li>'him'</li><li>'his'</li><li>'himself'</li><li>'she'</li><li>'her'</li><li>'hers'</li><li>'herself'</li><li>'it'</li><li>'its'</li><li>'itself'</li><li>'they'</li><li>'them'</li><li>'their'</li><li>'theirs'</li><li>'themselves'</li><li>'what'</li><li>'which'</li><li>'who'</li><li>'whom'</li><li>'this'</li><li>'that'</li><li>'these'</li><li>'those'</li><li>'am'</li><li>'is'</li><li>'are'</li><li>'was'</li><li>'were'</li><li>'be'</li><li>'been'</li><li>'being'</li><li>'have'</li><li>'has'</li><li>'had'</li><li>'having'</li><li>'do'</li><li>'does'</li><li>'did'</li><li>'doing'</li><li>'would'</li><li>'should'</li><li>'could'</li><li>'ought'</li><li>'i\\'m'</li><li>'you\\'re'</li><li>'he\\'s'</li><li>'she\\'s'</li><li>'it\\'s'</li><li>'we\\'re'</li><li>'they\\'re'</li><li>'i\\'ve'</li><li>'you\\'ve'</li><li>'we\\'ve'</li><li>'they\\'ve'</li><li>'i\\'d'</li><li>'you\\'d'</li><li>'he\\'d'</li><li>'she\\'d'</li><li>'we\\'d'</li><li>'they\\'d'</li><li>'i\\'ll'</li><li>'you\\'ll'</li><li>'he\\'ll'</li><li>'she\\'ll'</li><li>'we\\'ll'</li><li>'they\\'ll'</li><li>'isn\\'t'</li><li>'aren\\'t'</li><li>'wasn\\'t'</li><li>'weren\\'t'</li><li>'hasn\\'t'</li><li>'haven\\'t'</li><li>'hadn\\'t'</li><li>'doesn\\'t'</li><li>'don\\'t'</li><li>'didn\\'t'</li><li>'won\\'t'</li><li>'wouldn\\'t'</li><li>'shan\\'t'</li><li>'shouldn\\'t'</li><li>'can\\'t'</li><li>'cannot'</li><li>'couldn\\'t'</li><li>'mustn\\'t'</li><li>'let\\'s'</li><li>'that\\'s'</li><li>'who\\'s'</li><li>'what\\'s'</li><li>'here\\'s'</li><li>'there\\'s'</li><li>'when\\'s'</li><li>'where\\'s'</li><li>'why\\'s'</li><li>'how\\'s'</li><li>'a'</li><li>'an'</li><li>'the'</li><li>'and'</li><li>'but'</li><li>'if'</li><li>'or'</li><li>'because'</li><li>'as'</li><li>'until'</li><li>'while'</li><li>'of'</li><li>'at'</li><li>'by'</li><li>'for'</li><li>'with'</li><li>'about'</li><li>'against'</li><li>'between'</li><li>'into'</li><li>'through'</li><li>'during'</li><li>'before'</li><li>'after'</li><li>'above'</li><li>'below'</li><li>'to'</li><li>'from'</li><li>'up'</li><li>'down'</li><li>'in'</li><li>'out'</li><li>'on'</li><li>'off'</li><li>'over'</li><li>'under'</li><li>'again'</li><li>'further'</li><li>'then'</li><li>'once'</li><li>'here'</li><li>'there'</li><li>'when'</li><li>'where'</li><li>'why'</li><li>'how'</li><li>'all'</li><li>'any'</li><li>'both'</li><li>'each'</li><li>'few'</li><li>'more'</li><li>'most'</li><li>'other'</li><li>'some'</li><li>'such'</li><li>'no'</li><li>'nor'</li><li>'not'</li><li>'only'</li><li>'own'</li><li>'same'</li><li>'so'</li><li>'than'</li><li>'too'</li><li>'very'</li><li>'will'</li></ol>\n"
      ],
      "text/latex": [
       "\\begin{enumerate*}\n",
       "\\item 'i'\n",
       "\\item 'me'\n",
       "\\item 'my'\n",
       "\\item 'myself'\n",
       "\\item 'we'\n",
       "\\item 'our'\n",
       "\\item 'ours'\n",
       "\\item 'ourselves'\n",
       "\\item 'you'\n",
       "\\item 'your'\n",
       "\\item 'yours'\n",
       "\\item 'yourself'\n",
       "\\item 'yourselves'\n",
       "\\item 'he'\n",
       "\\item 'him'\n",
       "\\item 'his'\n",
       "\\item 'himself'\n",
       "\\item 'she'\n",
       "\\item 'her'\n",
       "\\item 'hers'\n",
       "\\item 'herself'\n",
       "\\item 'it'\n",
       "\\item 'its'\n",
       "\\item 'itself'\n",
       "\\item 'they'\n",
       "\\item 'them'\n",
       "\\item 'their'\n",
       "\\item 'theirs'\n",
       "\\item 'themselves'\n",
       "\\item 'what'\n",
       "\\item 'which'\n",
       "\\item 'who'\n",
       "\\item 'whom'\n",
       "\\item 'this'\n",
       "\\item 'that'\n",
       "\\item 'these'\n",
       "\\item 'those'\n",
       "\\item 'am'\n",
       "\\item 'is'\n",
       "\\item 'are'\n",
       "\\item 'was'\n",
       "\\item 'were'\n",
       "\\item 'be'\n",
       "\\item 'been'\n",
       "\\item 'being'\n",
       "\\item 'have'\n",
       "\\item 'has'\n",
       "\\item 'had'\n",
       "\\item 'having'\n",
       "\\item 'do'\n",
       "\\item 'does'\n",
       "\\item 'did'\n",
       "\\item 'doing'\n",
       "\\item 'would'\n",
       "\\item 'should'\n",
       "\\item 'could'\n",
       "\\item 'ought'\n",
       "\\item 'i\\textbackslash{}'m'\n",
       "\\item 'you\\textbackslash{}'re'\n",
       "\\item 'he\\textbackslash{}'s'\n",
       "\\item 'she\\textbackslash{}'s'\n",
       "\\item 'it\\textbackslash{}'s'\n",
       "\\item 'we\\textbackslash{}'re'\n",
       "\\item 'they\\textbackslash{}'re'\n",
       "\\item 'i\\textbackslash{}'ve'\n",
       "\\item 'you\\textbackslash{}'ve'\n",
       "\\item 'we\\textbackslash{}'ve'\n",
       "\\item 'they\\textbackslash{}'ve'\n",
       "\\item 'i\\textbackslash{}'d'\n",
       "\\item 'you\\textbackslash{}'d'\n",
       "\\item 'he\\textbackslash{}'d'\n",
       "\\item 'she\\textbackslash{}'d'\n",
       "\\item 'we\\textbackslash{}'d'\n",
       "\\item 'they\\textbackslash{}'d'\n",
       "\\item 'i\\textbackslash{}'ll'\n",
       "\\item 'you\\textbackslash{}'ll'\n",
       "\\item 'he\\textbackslash{}'ll'\n",
       "\\item 'she\\textbackslash{}'ll'\n",
       "\\item 'we\\textbackslash{}'ll'\n",
       "\\item 'they\\textbackslash{}'ll'\n",
       "\\item 'isn\\textbackslash{}'t'\n",
       "\\item 'aren\\textbackslash{}'t'\n",
       "\\item 'wasn\\textbackslash{}'t'\n",
       "\\item 'weren\\textbackslash{}'t'\n",
       "\\item 'hasn\\textbackslash{}'t'\n",
       "\\item 'haven\\textbackslash{}'t'\n",
       "\\item 'hadn\\textbackslash{}'t'\n",
       "\\item 'doesn\\textbackslash{}'t'\n",
       "\\item 'don\\textbackslash{}'t'\n",
       "\\item 'didn\\textbackslash{}'t'\n",
       "\\item 'won\\textbackslash{}'t'\n",
       "\\item 'wouldn\\textbackslash{}'t'\n",
       "\\item 'shan\\textbackslash{}'t'\n",
       "\\item 'shouldn\\textbackslash{}'t'\n",
       "\\item 'can\\textbackslash{}'t'\n",
       "\\item 'cannot'\n",
       "\\item 'couldn\\textbackslash{}'t'\n",
       "\\item 'mustn\\textbackslash{}'t'\n",
       "\\item 'let\\textbackslash{}'s'\n",
       "\\item 'that\\textbackslash{}'s'\n",
       "\\item 'who\\textbackslash{}'s'\n",
       "\\item 'what\\textbackslash{}'s'\n",
       "\\item 'here\\textbackslash{}'s'\n",
       "\\item 'there\\textbackslash{}'s'\n",
       "\\item 'when\\textbackslash{}'s'\n",
       "\\item 'where\\textbackslash{}'s'\n",
       "\\item 'why\\textbackslash{}'s'\n",
       "\\item 'how\\textbackslash{}'s'\n",
       "\\item 'a'\n",
       "\\item 'an'\n",
       "\\item 'the'\n",
       "\\item 'and'\n",
       "\\item 'but'\n",
       "\\item 'if'\n",
       "\\item 'or'\n",
       "\\item 'because'\n",
       "\\item 'as'\n",
       "\\item 'until'\n",
       "\\item 'while'\n",
       "\\item 'of'\n",
       "\\item 'at'\n",
       "\\item 'by'\n",
       "\\item 'for'\n",
       "\\item 'with'\n",
       "\\item 'about'\n",
       "\\item 'against'\n",
       "\\item 'between'\n",
       "\\item 'into'\n",
       "\\item 'through'\n",
       "\\item 'during'\n",
       "\\item 'before'\n",
       "\\item 'after'\n",
       "\\item 'above'\n",
       "\\item 'below'\n",
       "\\item 'to'\n",
       "\\item 'from'\n",
       "\\item 'up'\n",
       "\\item 'down'\n",
       "\\item 'in'\n",
       "\\item 'out'\n",
       "\\item 'on'\n",
       "\\item 'off'\n",
       "\\item 'over'\n",
       "\\item 'under'\n",
       "\\item 'again'\n",
       "\\item 'further'\n",
       "\\item 'then'\n",
       "\\item 'once'\n",
       "\\item 'here'\n",
       "\\item 'there'\n",
       "\\item 'when'\n",
       "\\item 'where'\n",
       "\\item 'why'\n",
       "\\item 'how'\n",
       "\\item 'all'\n",
       "\\item 'any'\n",
       "\\item 'both'\n",
       "\\item 'each'\n",
       "\\item 'few'\n",
       "\\item 'more'\n",
       "\\item 'most'\n",
       "\\item 'other'\n",
       "\\item 'some'\n",
       "\\item 'such'\n",
       "\\item 'no'\n",
       "\\item 'nor'\n",
       "\\item 'not'\n",
       "\\item 'only'\n",
       "\\item 'own'\n",
       "\\item 'same'\n",
       "\\item 'so'\n",
       "\\item 'than'\n",
       "\\item 'too'\n",
       "\\item 'very'\n",
       "\\item 'will'\n",
       "\\end{enumerate*}\n"
      ],
      "text/markdown": [
       "1. 'i'\n",
       "2. 'me'\n",
       "3. 'my'\n",
       "4. 'myself'\n",
       "5. 'we'\n",
       "6. 'our'\n",
       "7. 'ours'\n",
       "8. 'ourselves'\n",
       "9. 'you'\n",
       "10. 'your'\n",
       "11. 'yours'\n",
       "12. 'yourself'\n",
       "13. 'yourselves'\n",
       "14. 'he'\n",
       "15. 'him'\n",
       "16. 'his'\n",
       "17. 'himself'\n",
       "18. 'she'\n",
       "19. 'her'\n",
       "20. 'hers'\n",
       "21. 'herself'\n",
       "22. 'it'\n",
       "23. 'its'\n",
       "24. 'itself'\n",
       "25. 'they'\n",
       "26. 'them'\n",
       "27. 'their'\n",
       "28. 'theirs'\n",
       "29. 'themselves'\n",
       "30. 'what'\n",
       "31. 'which'\n",
       "32. 'who'\n",
       "33. 'whom'\n",
       "34. 'this'\n",
       "35. 'that'\n",
       "36. 'these'\n",
       "37. 'those'\n",
       "38. 'am'\n",
       "39. 'is'\n",
       "40. 'are'\n",
       "41. 'was'\n",
       "42. 'were'\n",
       "43. 'be'\n",
       "44. 'been'\n",
       "45. 'being'\n",
       "46. 'have'\n",
       "47. 'has'\n",
       "48. 'had'\n",
       "49. 'having'\n",
       "50. 'do'\n",
       "51. 'does'\n",
       "52. 'did'\n",
       "53. 'doing'\n",
       "54. 'would'\n",
       "55. 'should'\n",
       "56. 'could'\n",
       "57. 'ought'\n",
       "58. 'i\\'m'\n",
       "59. 'you\\'re'\n",
       "60. 'he\\'s'\n",
       "61. 'she\\'s'\n",
       "62. 'it\\'s'\n",
       "63. 'we\\'re'\n",
       "64. 'they\\'re'\n",
       "65. 'i\\'ve'\n",
       "66. 'you\\'ve'\n",
       "67. 'we\\'ve'\n",
       "68. 'they\\'ve'\n",
       "69. 'i\\'d'\n",
       "70. 'you\\'d'\n",
       "71. 'he\\'d'\n",
       "72. 'she\\'d'\n",
       "73. 'we\\'d'\n",
       "74. 'they\\'d'\n",
       "75. 'i\\'ll'\n",
       "76. 'you\\'ll'\n",
       "77. 'he\\'ll'\n",
       "78. 'she\\'ll'\n",
       "79. 'we\\'ll'\n",
       "80. 'they\\'ll'\n",
       "81. 'isn\\'t'\n",
       "82. 'aren\\'t'\n",
       "83. 'wasn\\'t'\n",
       "84. 'weren\\'t'\n",
       "85. 'hasn\\'t'\n",
       "86. 'haven\\'t'\n",
       "87. 'hadn\\'t'\n",
       "88. 'doesn\\'t'\n",
       "89. 'don\\'t'\n",
       "90. 'didn\\'t'\n",
       "91. 'won\\'t'\n",
       "92. 'wouldn\\'t'\n",
       "93. 'shan\\'t'\n",
       "94. 'shouldn\\'t'\n",
       "95. 'can\\'t'\n",
       "96. 'cannot'\n",
       "97. 'couldn\\'t'\n",
       "98. 'mustn\\'t'\n",
       "99. 'let\\'s'\n",
       "100. 'that\\'s'\n",
       "101. 'who\\'s'\n",
       "102. 'what\\'s'\n",
       "103. 'here\\'s'\n",
       "104. 'there\\'s'\n",
       "105. 'when\\'s'\n",
       "106. 'where\\'s'\n",
       "107. 'why\\'s'\n",
       "108. 'how\\'s'\n",
       "109. 'a'\n",
       "110. 'an'\n",
       "111. 'the'\n",
       "112. 'and'\n",
       "113. 'but'\n",
       "114. 'if'\n",
       "115. 'or'\n",
       "116. 'because'\n",
       "117. 'as'\n",
       "118. 'until'\n",
       "119. 'while'\n",
       "120. 'of'\n",
       "121. 'at'\n",
       "122. 'by'\n",
       "123. 'for'\n",
       "124. 'with'\n",
       "125. 'about'\n",
       "126. 'against'\n",
       "127. 'between'\n",
       "128. 'into'\n",
       "129. 'through'\n",
       "130. 'during'\n",
       "131. 'before'\n",
       "132. 'after'\n",
       "133. 'above'\n",
       "134. 'below'\n",
       "135. 'to'\n",
       "136. 'from'\n",
       "137. 'up'\n",
       "138. 'down'\n",
       "139. 'in'\n",
       "140. 'out'\n",
       "141. 'on'\n",
       "142. 'off'\n",
       "143. 'over'\n",
       "144. 'under'\n",
       "145. 'again'\n",
       "146. 'further'\n",
       "147. 'then'\n",
       "148. 'once'\n",
       "149. 'here'\n",
       "150. 'there'\n",
       "151. 'when'\n",
       "152. 'where'\n",
       "153. 'why'\n",
       "154. 'how'\n",
       "155. 'all'\n",
       "156. 'any'\n",
       "157. 'both'\n",
       "158. 'each'\n",
       "159. 'few'\n",
       "160. 'more'\n",
       "161. 'most'\n",
       "162. 'other'\n",
       "163. 'some'\n",
       "164. 'such'\n",
       "165. 'no'\n",
       "166. 'nor'\n",
       "167. 'not'\n",
       "168. 'only'\n",
       "169. 'own'\n",
       "170. 'same'\n",
       "171. 'so'\n",
       "172. 'than'\n",
       "173. 'too'\n",
       "174. 'very'\n",
       "175. 'will'\n",
       "\n",
       "\n"
      ],
      "text/plain": [
       "  [1] \"i\"          \"me\"         \"my\"         \"myself\"     \"we\"        \n",
       "  [6] \"our\"        \"ours\"       \"ourselves\"  \"you\"        \"your\"      \n",
       " [11] \"yours\"      \"yourself\"   \"yourselves\" \"he\"         \"him\"       \n",
       " [16] \"his\"        \"himself\"    \"she\"        \"her\"        \"hers\"      \n",
       " [21] \"herself\"    \"it\"         \"its\"        \"itself\"     \"they\"      \n",
       " [26] \"them\"       \"their\"      \"theirs\"     \"themselves\" \"what\"      \n",
       " [31] \"which\"      \"who\"        \"whom\"       \"this\"       \"that\"      \n",
       " [36] \"these\"      \"those\"      \"am\"         \"is\"         \"are\"       \n",
       " [41] \"was\"        \"were\"       \"be\"         \"been\"       \"being\"     \n",
       " [46] \"have\"       \"has\"        \"had\"        \"having\"     \"do\"        \n",
       " [51] \"does\"       \"did\"        \"doing\"      \"would\"      \"should\"    \n",
       " [56] \"could\"      \"ought\"      \"i'm\"        \"you're\"     \"he's\"      \n",
       " [61] \"she's\"      \"it's\"       \"we're\"      \"they're\"    \"i've\"      \n",
       " [66] \"you've\"     \"we've\"      \"they've\"    \"i'd\"        \"you'd\"     \n",
       " [71] \"he'd\"       \"she'd\"      \"we'd\"       \"they'd\"     \"i'll\"      \n",
       " [76] \"you'll\"     \"he'll\"      \"she'll\"     \"we'll\"      \"they'll\"   \n",
       " [81] \"isn't\"      \"aren't\"     \"wasn't\"     \"weren't\"    \"hasn't\"    \n",
       " [86] \"haven't\"    \"hadn't\"     \"doesn't\"    \"don't\"      \"didn't\"    \n",
       " [91] \"won't\"      \"wouldn't\"   \"shan't\"     \"shouldn't\"  \"can't\"     \n",
       " [96] \"cannot\"     \"couldn't\"   \"mustn't\"    \"let's\"      \"that's\"    \n",
       "[101] \"who's\"      \"what's\"     \"here's\"     \"there's\"    \"when's\"    \n",
       "[106] \"where's\"    \"why's\"      \"how's\"      \"a\"          \"an\"        \n",
       "[111] \"the\"        \"and\"        \"but\"        \"if\"         \"or\"        \n",
       "[116] \"because\"    \"as\"         \"until\"      \"while\"      \"of\"        \n",
       "[121] \"at\"         \"by\"         \"for\"        \"with\"       \"about\"     \n",
       "[126] \"against\"    \"between\"    \"into\"       \"through\"    \"during\"    \n",
       "[131] \"before\"     \"after\"      \"above\"      \"below\"      \"to\"        \n",
       "[136] \"from\"       \"up\"         \"down\"       \"in\"         \"out\"       \n",
       "[141] \"on\"         \"off\"        \"over\"       \"under\"      \"again\"     \n",
       "[146] \"further\"    \"then\"       \"once\"       \"here\"       \"there\"     \n",
       "[151] \"when\"       \"where\"      \"why\"        \"how\"        \"all\"       \n",
       "[156] \"any\"        \"both\"       \"each\"       \"few\"        \"more\"      \n",
       "[161] \"most\"       \"other\"      \"some\"       \"such\"       \"no\"        \n",
       "[166] \"nor\"        \"not\"        \"only\"       \"own\"        \"same\"      \n",
       "[171] \"so\"         \"than\"       \"too\"        \"very\"       \"will\"      "
      ]
     },
     "metadata": {},
     "output_type": "display_data"
    }
   ],
   "source": [
    "as.list(get_stopwords())$word"
   ]
  },
  {
   "cell_type": "markdown",
   "id": "b6ca812f",
   "metadata": {},
   "source": [
    "# Object to use `naive_bayes.R` functions"
   ]
  },
  {
   "cell_type": "code",
   "execution_count": 14,
   "id": "59940a27",
   "metadata": {},
   "outputs": [],
   "source": [
    "tags_numbers <- list(tags = labels, numbers = c(0:(n_classes - 1)))"
   ]
  },
  {
   "cell_type": "markdown",
   "id": "02406e3a",
   "metadata": {},
   "source": [
    "# Training: creating and saving the dfs with words and countings according to feature selection method"
   ]
  },
  {
   "cell_type": "code",
   "execution_count": 33,
   "id": "631b83d9",
   "metadata": {},
   "outputs": [],
   "source": [
    "fraction <- seq(from = 0.1, to = 1, by = 0.2)"
   ]
  },
  {
   "cell_type": "code",
   "execution_count": 34,
   "id": "e1be9f29",
   "metadata": {},
   "outputs": [],
   "source": [
    "# Return data.frame with only counted and tokenized words\n",
    "counts <- vocabulary(train.df.train, tags_numbers)"
   ]
  },
  {
   "cell_type": "raw",
   "id": "587b378a",
   "metadata": {},
   "source": [
    "for (i in seq_along(fraction)) {\n",
    "    write.csv(feature_selection.frequency_per_class(counts, n_classes, frac = fraction[i]),\n",
    "        file = paste(\"models/frequency_per_class\", fraction[i], \".csv\", sep = \"\"))\n",
    "    write.csv(feature_selection.frequency_mean(counts, n_classes, frac = fraction[i]),\n",
    "        file = paste(\"models/frequency_per_mean\", fraction[i], \".csv\", sep = \"\"))\n",
    "    write.csv(feature_selection.chi_squared_per_class(counts, n_classes, frac = fraction[i]),\n",
    "        file = paste(\"models/chi_per_class\", fraction[i], \".csv\", sep = \"\"))\n",
    "    write.csv(feature_selection.chi_squared_per_mean(counts, n_classes, frac = fraction[i]),\n",
    "        file = paste(\"models/chi_per_mean\", fraction[i], \".csv\", sep = \"\"))\n",
    "    write.csv(feature_selection.mutual_info_per_class(counts, n_classes, frac = fraction[i]),\n",
    "        file = paste(\"models/mutual_per_class\", fraction[i], \".csv\", sep = \"\"))\n",
    "    write.csv(feature_selection.mutual_info_per_mean(counts, n_classes, frac = fraction[i]),\n",
    "        file = paste(\"models/mutual_per_mean\", fraction[i], \".csv\", sep = \"\"))\n",
    "}"
   ]
  },
  {
   "cell_type": "markdown",
   "id": "69b800d4",
   "metadata": {},
   "source": [
    "# Run all the functions"
   ]
  },
  {
   "cell_type": "code",
   "execution_count": null,
   "id": "a1995fcd",
   "metadata": {},
   "outputs": [],
   "source": [
    "# acc_freq_mean <- vector()\n",
    "# for (i in seq_along(fraction)) {\n",
    "#     # Vocabulary optimized with feature selection\n",
    "#     naive.bayes.vocabulary <- feature_selection.frequency_mean(counts, n_classes,\n",
    "#         frac = fraction[i])\n",
    "\n",
    "#     # Compute denominator of likelihood\n",
    "#     denominator <- likelihood.denominator(naive.bayes.vocabulary)\n",
    "\n",
    "#     # Compute the likelihood for each tokinez and unique word\n",
    "#     likelihood.token <- likelihood(naive.bayes.vocabulary, denominator)\n",
    "\n",
    "#     # Run the prediction\n",
    "#     predicted_classes <- mclapply(X = train.df.validation$Text, FUN = naive.bayes,\n",
    "#         likelihood.token = likelihood.token, prior.classes = prior.classes, den = denominator,\n",
    "#         n_classes = n_classes, mc.cores=numCores)\n",
    "\n",
    "#     # Check % of right predictions\n",
    "#     acc_freq_mean[i] <- sum(predicted_classes == train.df.validation$Labels)/length(train.df.validation$Labels)\n",
    "# }"
   ]
  },
  {
   "cell_type": "code",
   "execution_count": null,
   "id": "ef925359",
   "metadata": {},
   "outputs": [],
   "source": [
    "# plot(fraction, acc_per_class, type='l', ylim = c(0,1))\n",
    "# lines(fraction, acc_freq_mean, col='red')\n",
    "# legend(0, 1, legend = c(\"freq mean\", \"top per class\"), col = c(\"red\", \"black\"), lty = 1)"
   ]
  },
  {
   "cell_type": "markdown",
   "id": "79e55a6c",
   "metadata": {},
   "source": [
    "# Apply to the validation set and plot accuarcies for different methods"
   ]
  },
  {
   "cell_type": "code",
   "execution_count": 39,
   "id": "82f95271",
   "metadata": {},
   "outputs": [],
   "source": [
    "file_list <- c(list.files(path = \"models\", pattern = \"frequency_per_mean*\"),\n",
    "               list.files(path = \"models\", pattern = \"frequency_per_class*\"),\n",
    "               list.files(path = \"models\", pattern = \"chi_per_mean*\"),\n",
    "               list.files(path = \"models\", pattern = \"chi_per_class*\"),\n",
    "               list.files(path = \"models\", pattern = \"mutual_per_class*\"),\n",
    "               list.files(path = \"models\", pattern = \"mutual_per_mean*\"))"
   ]
  },
  {
   "cell_type": "code",
   "execution_count": 41,
   "id": "396d910d",
   "metadata": {},
   "outputs": [],
   "source": [
    "acc<-vector()\n",
    "for (i in seq_along(file_list)) {\n",
    "\n",
    "    naive.bayes.vocabulary <- read.csv(paste(\"./models\", file_list[i], sep = \"/\")) %>%\n",
    "        select(-X)\n",
    "    # Compute denominator of likelihood\n",
    "    denominator <- likelihood.denominator(naive.bayes.vocabulary)\n",
    "\n",
    "    # Compute the likelihood for each tokinez and unique word\n",
    "    likelihood.token <- likelihood(naive.bayes.vocabulary, denominator)\n",
    "\n",
    "    # Run the prediction\n",
    "    predicted_classes <- mclapply(X = train.df.validation$Text, FUN = naive.bayes,\n",
    "        likelihood.token = likelihood.token, prior.classes = prior.classes, den = denominator,\n",
    "        n_classes = n_classes, mc.cores = numCores)\n",
    "\n",
    "    # Check % of right predictions\n",
    "    acc[i] <- sum(predicted_classes == train.df.validation$Labels)/length(train.df.validation$Labels)\n",
    "}"
   ]
  },
  {
   "cell_type": "code",
   "execution_count": 42,
   "id": "2e394722",
   "metadata": {},
   "outputs": [
    {
     "data": {
      "text/html": [
       "<style>\n",
       ".list-inline {list-style: none; margin:0; padding: 0}\n",
       ".list-inline>li {display: inline-block}\n",
       ".list-inline>li:not(:last-child)::after {content: \"\\00b7\"; padding: 0 .5ex}\n",
       "</style>\n",
       "<ol class=list-inline><li>0.21533203125</li><li>0.21923828125</li><li>0.203125</li><li>0.203125</li><li>0.203125</li><li>0.203125</li><li>0.203125</li><li>0.19970703125</li><li>0.21435546875</li><li>0.20849609375</li></ol>\n"
      ],
      "text/latex": [
       "\\begin{enumerate*}\n",
       "\\item 0.21533203125\n",
       "\\item 0.21923828125\n",
       "\\item 0.203125\n",
       "\\item 0.203125\n",
       "\\item 0.203125\n",
       "\\item 0.203125\n",
       "\\item 0.203125\n",
       "\\item 0.19970703125\n",
       "\\item 0.21435546875\n",
       "\\item 0.20849609375\n",
       "\\end{enumerate*}\n"
      ],
      "text/markdown": [
       "1. 0.21533203125\n",
       "2. 0.21923828125\n",
       "3. 0.203125\n",
       "4. 0.203125\n",
       "5. 0.203125\n",
       "6. 0.203125\n",
       "7. 0.203125\n",
       "8. 0.19970703125\n",
       "9. 0.21435546875\n",
       "10. 0.20849609375\n",
       "\n",
       "\n"
      ],
      "text/plain": [
       " [1] 0.2153320 0.2192383 0.2031250 0.2031250 0.2031250 0.2031250 0.2031250\n",
       " [8] 0.1997070 0.2143555 0.2084961"
      ]
     },
     "metadata": {},
     "output_type": "display_data"
    }
   ],
   "source": [
    "acc"
   ]
  }
 ],
 "metadata": {
  "kernelspec": {
   "display_name": "R",
   "language": "R",
   "name": "ir"
  },
  "language_info": {
   "codemirror_mode": "r",
   "file_extension": ".r",
   "mimetype": "text/x-r-source",
   "name": "R",
   "pygments_lexer": "r",
   "version": "4.2.2"
  }
 },
 "nbformat": 4,
 "nbformat_minor": 5
}
