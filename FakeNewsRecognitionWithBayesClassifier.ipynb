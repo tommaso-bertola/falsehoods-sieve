{
 "cells": [
  {
   "cell_type": "markdown",
   "id": "2846428f",
   "metadata": {},
   "source": [
    "# Naive Classifier for Fake news recognition"
   ]
  },
  {
   "cell_type": "markdown",
   "id": "f09bfabd",
   "metadata": {},
   "source": [
    "## Packages"
   ]
  },
  {
   "cell_type": "code",
   "execution_count": 3,
   "id": "56b9dcde",
   "metadata": {},
   "outputs": [],
   "source": [
    "library(tidyverse)\n",
    "library(ggplot2)"
   ]
  },
  {
   "cell_type": "markdown",
   "id": "5b1142bb",
   "metadata": {},
   "source": [
    "## Reading the data"
   ]
  },
  {
   "cell_type": "code",
   "execution_count": 16,
   "id": "336c93ef",
   "metadata": {},
   "outputs": [],
   "source": [
    "train.filename <- 'data/train2.csv'\n",
    "test.filename <- 'data/test2.xls'"
   ]
  },
  {
   "cell_type": "code",
   "execution_count": 19,
   "id": "6a0f137a",
   "metadata": {},
   "outputs": [],
   "source": [
    "train.df <- read.delim(train.filename, sep = ',')\n",
    "test.df <- read.delim(test.filename, sep = ',')"
   ]
  },
  {
   "cell_type": "code",
   "execution_count": 22,
   "id": "42ff4e60",
   "metadata": {},
   "outputs": [
    {
     "data": {
      "text/html": [
       "<table class=\"dataframe\">\n",
       "<caption>A data.frame: 6 × 3</caption>\n",
       "<thead>\n",
       "\t<tr><th></th><th scope=col>Labels</th><th scope=col>Text</th><th scope=col>Text_Tag</th></tr>\n",
       "\t<tr><th></th><th scope=col>&lt;int&gt;</th><th scope=col>&lt;chr&gt;</th><th scope=col>&lt;chr&gt;</th></tr>\n",
       "</thead>\n",
       "<tbody>\n",
       "\t<tr><th scope=row>1</th><td>1</td><td>Says the Annies List political group supports third-trimester abortions on demand.                                                                         </td><td>abortion                          </td></tr>\n",
       "\t<tr><th scope=row>2</th><td>2</td><td>When did the decline of coal start? It started when natural gas took off that started to begin in (President George W.) Bushs administration.              </td><td>energy,history,job-accomplishments</td></tr>\n",
       "\t<tr><th scope=row>3</th><td>3</td><td>Hillary Clinton agrees with John McCain \"by voting to give George Bush the benefit of the doubt on Iran.\"                                                  </td><td>foreign-policy                    </td></tr>\n",
       "\t<tr><th scope=row>4</th><td>1</td><td>Health care reform legislation is likely to mandate free sex change surgeries.                                                                             </td><td>health-care                       </td></tr>\n",
       "\t<tr><th scope=row>5</th><td>2</td><td>The economic turnaround started at the end of my term.                                                                                                     </td><td>economy,jobs                      </td></tr>\n",
       "\t<tr><th scope=row>6</th><td>5</td><td>The Chicago Bears have had more starting quarterbacks in the last 10 years than the total number of tenured (UW) faculty fired during the last two decades.</td><td>education                         </td></tr>\n",
       "</tbody>\n",
       "</table>\n"
      ],
      "text/latex": [
       "A data.frame: 6 × 3\n",
       "\\begin{tabular}{r|lll}\n",
       "  & Labels & Text & Text\\_Tag\\\\\n",
       "  & <int> & <chr> & <chr>\\\\\n",
       "\\hline\n",
       "\t1 & 1 & Says the Annies List political group supports third-trimester abortions on demand.                                                                          & abortion                          \\\\\n",
       "\t2 & 2 & When did the decline of coal start? It started when natural gas took off that started to begin in (President George W.) Bushs administration.               & energy,history,job-accomplishments\\\\\n",
       "\t3 & 3 & Hillary Clinton agrees with John McCain \"by voting to give George Bush the benefit of the doubt on Iran.\"                                                   & foreign-policy                    \\\\\n",
       "\t4 & 1 & Health care reform legislation is likely to mandate free sex change surgeries.                                                                              & health-care                       \\\\\n",
       "\t5 & 2 & The economic turnaround started at the end of my term.                                                                                                      & economy,jobs                      \\\\\n",
       "\t6 & 5 & The Chicago Bears have had more starting quarterbacks in the last 10 years than the total number of tenured (UW) faculty fired during the last two decades. & education                         \\\\\n",
       "\\end{tabular}\n"
      ],
      "text/markdown": [
       "\n",
       "A data.frame: 6 × 3\n",
       "\n",
       "| <!--/--> | Labels &lt;int&gt; | Text &lt;chr&gt; | Text_Tag &lt;chr&gt; |\n",
       "|---|---|---|---|\n",
       "| 1 | 1 | Says the Annies List political group supports third-trimester abortions on demand.                                                                          | abortion                           |\n",
       "| 2 | 2 | When did the decline of coal start? It started when natural gas took off that started to begin in (President George W.) Bushs administration.               | energy,history,job-accomplishments |\n",
       "| 3 | 3 | Hillary Clinton agrees with John McCain \"by voting to give George Bush the benefit of the doubt on Iran.\"                                                   | foreign-policy                     |\n",
       "| 4 | 1 | Health care reform legislation is likely to mandate free sex change surgeries.                                                                              | health-care                        |\n",
       "| 5 | 2 | The economic turnaround started at the end of my term.                                                                                                      | economy,jobs                       |\n",
       "| 6 | 5 | The Chicago Bears have had more starting quarterbacks in the last 10 years than the total number of tenured (UW) faculty fired during the last two decades. | education                          |\n",
       "\n"
      ],
      "text/plain": [
       "  Labels\n",
       "1 1     \n",
       "2 2     \n",
       "3 3     \n",
       "4 1     \n",
       "5 2     \n",
       "6 5     \n",
       "  Text                                                                                                                                                       \n",
       "1 Says the Annies List political group supports third-trimester abortions on demand.                                                                         \n",
       "2 When did the decline of coal start? It started when natural gas took off that started to begin in (President George W.) Bushs administration.              \n",
       "3 Hillary Clinton agrees with John McCain \"by voting to give George Bush the benefit of the doubt on Iran.\"                                                  \n",
       "4 Health care reform legislation is likely to mandate free sex change surgeries.                                                                             \n",
       "5 The economic turnaround started at the end of my term.                                                                                                     \n",
       "6 The Chicago Bears have had more starting quarterbacks in the last 10 years than the total number of tenured (UW) faculty fired during the last two decades.\n",
       "  Text_Tag                          \n",
       "1 abortion                          \n",
       "2 energy,history,job-accomplishments\n",
       "3 foreign-policy                    \n",
       "4 health-care                       \n",
       "5 economy,jobs                      \n",
       "6 education                         "
      ]
     },
     "metadata": {},
     "output_type": "display_data"
    }
   ],
   "source": [
    "head(train.df)"
   ]
  },
  {
   "cell_type": "markdown",
   "id": "540c0610",
   "metadata": {},
   "source": [
    "## About the data"
   ]
  },
  {
   "cell_type": "code",
   "execution_count": 65,
   "id": "338e40cd",
   "metadata": {},
   "outputs": [
    {
     "data": {
      "text/html": [
       "<style>\n",
       ".list-inline {list-style: none; margin:0; padding: 0}\n",
       ".list-inline>li {display: inline-block}\n",
       ".list-inline>li:not(:last-child)::after {content: \"\\00b7\"; padding: 0 .5ex}\n",
       "</style>\n",
       "<ol class=list-inline><li>'#FF6600'</li><li>'#99000'</li><li>'#FFCC33'</li><li>'#CCFF33'</li><li>'#CCCCCC'</li><li>'#33FF33'</li></ol>\n"
      ],
      "text/latex": [
       "\\begin{enumerate*}\n",
       "\\item '\\#FF6600'\n",
       "\\item '\\#99000'\n",
       "\\item '\\#FFCC33'\n",
       "\\item '\\#CCFF33'\n",
       "\\item '\\#CCCCCC'\n",
       "\\item '\\#33FF33'\n",
       "\\end{enumerate*}\n"
      ],
      "text/markdown": [
       "1. '#FF6600'\n",
       "2. '#99000'\n",
       "3. '#FFCC33'\n",
       "4. '#CCFF33'\n",
       "5. '#CCCCCC'\n",
       "6. '#33FF33'\n",
       "\n",
       "\n"
      ],
      "text/plain": [
       "[1] \"#FF6600\"\n",
       "[2] \"#99000\" \n",
       "[3] \"#FFCC33\"\n",
       "[4] \"#CCFF33\"\n",
       "[5] \"#CCCCCC\"\n",
       "[6] \"#33FF33\""
      ]
     },
     "metadata": {},
     "output_type": "display_data"
    }
   ],
   "source": [
    "colors"
   ]
  },
  {
   "cell_type": "code",
   "execution_count": 95,
   "id": "66301464",
   "metadata": {},
   "outputs": [
    {
     "data": {
      "image/png": "[encoded data removed]",
      "text/plain": [
       "Plot with title “Histogram of classes”"
      ]
     },
     "metadata": {
      "image/png": {
       "height": 420,
       "width": 420
      }
     },
     "output_type": "display_data"
    }
   ],
   "source": [
    "breaks <- seq(from=-0.5, to=5.5, by=1)\n",
    "labels <- c('Barely True', 'False', 'Half-True', 'Mostly-True', 'Not known', 'True')\n",
    "colors <- c('#FF9966', '#FF6666', '#FFCC66', '#99FF99' , '#CCCCCC','#00FF99')\n",
    "\n",
    "hist(x = train.df$Labels, \n",
    "     breaks = breaks, \n",
    "     labels = labels,\n",
    "     main = 'Histogram of classes',\n",
    "     xlab = 'Classes',\n",
    "     ylab = 'Count in training set',\n",
    "     col = colors\n",
    "    )"
   ]
  }
 ],
 "metadata": {
  "kernelspec": {
   "display_name": "R",
   "language": "R",
   "name": "ir"
  },
  "language_info": {
   "codemirror_mode": "r",
   "file_extension": ".r",
   "mimetype": "text/x-r-source",
   "name": "R",
   "pygments_lexer": "r",
   "version": "4.2.3"
  }
 },
 "nbformat": 4,
 "nbformat_minor": 5
}
