{
 "cells": [
  {
   "cell_type": "markdown",
   "id": "2846428f",
   "metadata": {},
   "source": [
    "# Naive Classifier for Fake news recognition"
   ]
  },
  {
   "cell_type": "markdown",
   "id": "f09bfabd",
   "metadata": {},
   "source": [
    "## Packages"
   ]
  },
  {
   "cell_type": "code",
   "execution_count": 1,
   "id": "56b9dcde",
   "metadata": {},
   "outputs": [
    {
     "name": "stderr",
     "output_type": "stream",
     "text": [
      "── \u001b[1mAttaching core tidyverse packages\u001b[22m ──────────────────────── tidyverse 2.0.0 ──\n",
      "\u001b[32m✔\u001b[39m \u001b[34mdplyr    \u001b[39m 1.1.2     \u001b[32m✔\u001b[39m \u001b[34mreadr    \u001b[39m 2.1.4\n",
      "\u001b[32m✔\u001b[39m \u001b[34mforcats  \u001b[39m 1.0.0     \u001b[32m✔\u001b[39m \u001b[34mstringr  \u001b[39m 1.5.0\n",
      "\u001b[32m✔\u001b[39m \u001b[34mggplot2  \u001b[39m 3.4.2     \u001b[32m✔\u001b[39m \u001b[34mtibble   \u001b[39m 3.2.1\n",
      "\u001b[32m✔\u001b[39m \u001b[34mlubridate\u001b[39m 1.9.2     \u001b[32m✔\u001b[39m \u001b[34mtidyr    \u001b[39m 1.3.0\n",
      "\u001b[32m✔\u001b[39m \u001b[34mpurrr    \u001b[39m 1.0.1     \n",
      "── \u001b[1mConflicts\u001b[22m ────────────────────────────────────────── tidyverse_conflicts() ──\n",
      "\u001b[31m✖\u001b[39m \u001b[34mdplyr\u001b[39m::\u001b[32mfilter()\u001b[39m masks \u001b[34mstats\u001b[39m::filter()\n",
      "\u001b[31m✖\u001b[39m \u001b[34mdplyr\u001b[39m::\u001b[32mlag()\u001b[39m    masks \u001b[34mstats\u001b[39m::lag()\n",
      "\u001b[36mℹ\u001b[39m Use the conflicted package (\u001b[3m\u001b[34m<http://conflicted.r-lib.org/>\u001b[39m\u001b[23m) to force all conflicts to become errors\n",
      "\n",
      "Caricamento pacchetto: ‘magrittr’\n",
      "\n",
      "\n",
      "Il seguente oggetto è mascherato da ‘package:purrr’:\n",
      "\n",
      "    set_names\n",
      "\n",
      "\n",
      "Il seguente oggetto è mascherato da ‘package:tidyr’:\n",
      "\n",
      "    extract\n",
      "\n",
      "\n"
     ]
    }
   ],
   "source": [
    "library(tidyverse)\n",
    "library(ggplot2)\n",
    "library(stopwords)\n",
    "library(tidytext)\n",
    "library(stringr)\n",
    "library(purrr)\n",
    "library(magrittr)"
   ]
  },
  {
   "cell_type": "markdown",
   "id": "5b1142bb",
   "metadata": {},
   "source": [
    "# Reading the data"
   ]
  },
  {
   "cell_type": "code",
   "execution_count": 2,
   "id": "7aa86fc7",
   "metadata": {},
   "outputs": [],
   "source": [
    "train.filename <- 'dataset/archive/train.csv'\n",
    "test.filename <- 'dataset/archive/test.csv'"
   ]
  },
  {
   "cell_type": "code",
   "execution_count": 4,
   "id": "6a0f137a",
   "metadata": {},
   "outputs": [],
   "source": [
    "train.df <- read.delim(train.filename, sep = ',')\n",
    "test.df <- read.delim(test.filename, sep = ',')"
   ]
  },
  {
   "cell_type": "markdown",
   "id": "e561cbf3",
   "metadata": {},
   "source": [
    "### Second dataset"
   ]
  },
  {
   "cell_type": "code",
   "execution_count": null,
   "id": "fd1807db",
   "metadata": {},
   "outputs": [],
   "source": [
    "train2.filename <- 'dataset/fake-news/train.csv'\n",
    "test2.filename <- 'dataset/fake-news/test.csv'"
   ]
  },
  {
   "cell_type": "code",
   "execution_count": 5,
   "id": "372e576a",
   "metadata": {},
   "outputs": [],
   "source": [
    "# train2.df <- read.delim(train2.filename, sep = ',')\n",
    "# test2.df <- read.delim(test2.filename, sep = ',')"
   ]
  },
  {
   "cell_type": "markdown",
   "id": "5b6efc43",
   "metadata": {},
   "source": [
    "# Display the train and test datasets"
   ]
  },
  {
   "cell_type": "code",
   "execution_count": 6,
   "id": "ff4c1a14-f388-4852-8bb1-99b3456712d8",
   "metadata": {},
   "outputs": [],
   "source": [
    "# head(test.df)"
   ]
  },
  {
   "cell_type": "code",
   "execution_count": 7,
   "id": "42ff4e60",
   "metadata": {},
   "outputs": [],
   "source": [
    "# head(train.df)"
   ]
  },
  {
   "cell_type": "code",
   "execution_count": 8,
   "id": "5ffd9fac",
   "metadata": {},
   "outputs": [],
   "source": [
    "# head(train2.df)"
   ]
  },
  {
   "cell_type": "code",
   "execution_count": 9,
   "id": "b099bbc1",
   "metadata": {},
   "outputs": [],
   "source": [
    "# head(test2.df)"
   ]
  },
  {
   "cell_type": "markdown",
   "id": "2dc80813",
   "metadata": {},
   "source": [
    "# Splitting the datasets"
   ]
  },
  {
   "cell_type": "code",
   "execution_count": 10,
   "id": "3e24744e-455b-4d1a-bddf-e4d70d4015b2",
   "metadata": {},
   "outputs": [],
   "source": [
    "# shuffle\n",
    "set.seed(29062023)\n",
    "train.df=train.df[sample(1:nrow(train.df), replace = F),] # shuffle the dataset"
   ]
  },
  {
   "cell_type": "code",
   "execution_count": 11,
   "id": "53de2aa4-33ba-4007-b676-4c9213b4f25b",
   "metadata": {},
   "outputs": [],
   "source": [
    "# set splitting percentages\n",
    "perc_split <- 0.8  # set splitting percentages\n",
    "n_rows <- nrow(train.df)\n",
    "n_rows_train <- floor(n_rows * perc_split)"
   ]
  },
  {
   "cell_type": "code",
   "execution_count": 12,
   "id": "37c87399-c8de-4dda-b79f-18770080e017",
   "metadata": {},
   "outputs": [],
   "source": [
    "# splitting\n",
    "train.df.train <- train.df[1:n_rows_train, ]\n",
    "train.df.validation <- train.df[-c(1:n_rows_train), ]"
   ]
  },
  {
   "cell_type": "code",
   "execution_count": 13,
   "id": "ca9036ee-9c0b-464c-b11a-dfe8f88ebbe4",
   "metadata": {},
   "outputs": [
    {
     "name": "stdout",
     "output_type": "stream",
     "text": [
      "Total rows: 10240 \n",
      "Train rows: 8192 \n",
      "Validation rows 2048"
     ]
    }
   ],
   "source": [
    "cat('Total rows:',nrow(train.df),\n",
    "    '\\nTrain rows:',nrow(train.df.train),\n",
    "    '\\nValidation rows',nrow(train.df.validation))"
   ]
  },
  {
   "cell_type": "markdown",
   "id": "4be1a640",
   "metadata": {},
   "source": [
    "## Analysis of the content"
   ]
  },
  {
   "cell_type": "code",
   "execution_count": 14,
   "id": "66301464",
   "metadata": {},
   "outputs": [
    {
     "data": {
      "image/png": "[encoded data removed]",
      "text/plain": [
       "Plot with title “Histogram of classes”"
      ]
     },
     "metadata": {
      "image/png": {
       "height": 420,
       "width": 420
      }
     },
     "output_type": "display_data"
    }
   ],
   "source": [
    "breaks <- seq(from=-0.5, to=5.5, by=1)\n",
    "labels <- c('Barely True', 'False', 'Half-True', 'Mostly-True', 'Not known', 'True')\n",
    "colors <- c('#FF6666','#FF9966', '#FFCC66', '#99FF99' , '#CCCCCC','#00FF99')\n",
    "\n",
    "class<-hist(x = train.df$Labels, \n",
    "     breaks = breaks, \n",
    "     labels = labels,\n",
    "     main = 'Histogram of classes',\n",
    "     xlab = 'Classes',\n",
    "     ylab = 'Count in training set',\n",
    "     col = colors\n",
    "    )"
   ]
  },
  {
   "cell_type": "markdown",
   "id": "0213f8d2",
   "metadata": {},
   "source": [
    "## Defining the prior of each classes"
   ]
  },
  {
   "cell_type": "code",
   "execution_count": 15,
   "id": "f1ffbec6",
   "metadata": {},
   "outputs": [],
   "source": [
    "prior.classes<-class$density"
   ]
  },
  {
   "cell_type": "markdown",
   "id": "9d2ac432",
   "metadata": {},
   "source": [
    "## Stop words"
   ]
  },
  {
   "cell_type": "code",
   "execution_count": 17,
   "id": "2a86a256",
   "metadata": {},
   "outputs": [
    {
     "data": {
      "text/html": [
       "<style>\n",
       ".list-inline {list-style: none; margin:0; padding: 0}\n",
       ".list-inline>li {display: inline-block}\n",
       ".list-inline>li:not(:last-child)::after {content: \"\\00b7\"; padding: 0 .5ex}\n",
       "</style>\n",
       "<ol class=list-inline><li>'i'</li><li>'me'</li><li>'my'</li><li>'myself'</li><li>'we'</li><li>'our'</li><li>'ours'</li><li>'ourselves'</li><li>'you'</li><li>'your'</li><li>'yours'</li><li>'yourself'</li><li>'yourselves'</li><li>'he'</li><li>'him'</li><li>'his'</li><li>'himself'</li><li>'she'</li><li>'her'</li><li>'hers'</li><li>'herself'</li><li>'it'</li><li>'its'</li><li>'itself'</li><li>'they'</li><li>'them'</li><li>'their'</li><li>'theirs'</li><li>'themselves'</li><li>'what'</li><li>'which'</li><li>'who'</li><li>'whom'</li><li>'this'</li><li>'that'</li><li>'these'</li><li>'those'</li><li>'am'</li><li>'is'</li><li>'are'</li><li>'was'</li><li>'were'</li><li>'be'</li><li>'been'</li><li>'being'</li><li>'have'</li><li>'has'</li><li>'had'</li><li>'having'</li><li>'do'</li><li>'does'</li><li>'did'</li><li>'doing'</li><li>'would'</li><li>'should'</li><li>'could'</li><li>'ought'</li><li>'i\\'m'</li><li>'you\\'re'</li><li>'he\\'s'</li><li>'she\\'s'</li><li>'it\\'s'</li><li>'we\\'re'</li><li>'they\\'re'</li><li>'i\\'ve'</li><li>'you\\'ve'</li><li>'we\\'ve'</li><li>'they\\'ve'</li><li>'i\\'d'</li><li>'you\\'d'</li><li>'he\\'d'</li><li>'she\\'d'</li><li>'we\\'d'</li><li>'they\\'d'</li><li>'i\\'ll'</li><li>'you\\'ll'</li><li>'he\\'ll'</li><li>'she\\'ll'</li><li>'we\\'ll'</li><li>'they\\'ll'</li><li>'isn\\'t'</li><li>'aren\\'t'</li><li>'wasn\\'t'</li><li>'weren\\'t'</li><li>'hasn\\'t'</li><li>'haven\\'t'</li><li>'hadn\\'t'</li><li>'doesn\\'t'</li><li>'don\\'t'</li><li>'didn\\'t'</li><li>'won\\'t'</li><li>'wouldn\\'t'</li><li>'shan\\'t'</li><li>'shouldn\\'t'</li><li>'can\\'t'</li><li>'cannot'</li><li>'couldn\\'t'</li><li>'mustn\\'t'</li><li>'let\\'s'</li><li>'that\\'s'</li><li>'who\\'s'</li><li>'what\\'s'</li><li>'here\\'s'</li><li>'there\\'s'</li><li>'when\\'s'</li><li>'where\\'s'</li><li>'why\\'s'</li><li>'how\\'s'</li><li>'a'</li><li>'an'</li><li>'the'</li><li>'and'</li><li>'but'</li><li>'if'</li><li>'or'</li><li>'because'</li><li>'as'</li><li>'until'</li><li>'while'</li><li>'of'</li><li>'at'</li><li>'by'</li><li>'for'</li><li>'with'</li><li>'about'</li><li>'against'</li><li>'between'</li><li>'into'</li><li>'through'</li><li>'during'</li><li>'before'</li><li>'after'</li><li>'above'</li><li>'below'</li><li>'to'</li><li>'from'</li><li>'up'</li><li>'down'</li><li>'in'</li><li>'out'</li><li>'on'</li><li>'off'</li><li>'over'</li><li>'under'</li><li>'again'</li><li>'further'</li><li>'then'</li><li>'once'</li><li>'here'</li><li>'there'</li><li>'when'</li><li>'where'</li><li>'why'</li><li>'how'</li><li>'all'</li><li>'any'</li><li>'both'</li><li>'each'</li><li>'few'</li><li>'more'</li><li>'most'</li><li>'other'</li><li>'some'</li><li>'such'</li><li>'no'</li><li>'nor'</li><li>'not'</li><li>'only'</li><li>'own'</li><li>'same'</li><li>'so'</li><li>'than'</li><li>'too'</li><li>'very'</li><li>'will'</li></ol>\n"
      ],
      "text/latex": [
       "\\begin{enumerate*}\n",
       "\\item 'i'\n",
       "\\item 'me'\n",
       "\\item 'my'\n",
       "\\item 'myself'\n",
       "\\item 'we'\n",
       "\\item 'our'\n",
       "\\item 'ours'\n",
       "\\item 'ourselves'\n",
       "\\item 'you'\n",
       "\\item 'your'\n",
       "\\item 'yours'\n",
       "\\item 'yourself'\n",
       "\\item 'yourselves'\n",
       "\\item 'he'\n",
       "\\item 'him'\n",
       "\\item 'his'\n",
       "\\item 'himself'\n",
       "\\item 'she'\n",
       "\\item 'her'\n",
       "\\item 'hers'\n",
       "\\item 'herself'\n",
       "\\item 'it'\n",
       "\\item 'its'\n",
       "\\item 'itself'\n",
       "\\item 'they'\n",
       "\\item 'them'\n",
       "\\item 'their'\n",
       "\\item 'theirs'\n",
       "\\item 'themselves'\n",
       "\\item 'what'\n",
       "\\item 'which'\n",
       "\\item 'who'\n",
       "\\item 'whom'\n",
       "\\item 'this'\n",
       "\\item 'that'\n",
       "\\item 'these'\n",
       "\\item 'those'\n",
       "\\item 'am'\n",
       "\\item 'is'\n",
       "\\item 'are'\n",
       "\\item 'was'\n",
       "\\item 'were'\n",
       "\\item 'be'\n",
       "\\item 'been'\n",
       "\\item 'being'\n",
       "\\item 'have'\n",
       "\\item 'has'\n",
       "\\item 'had'\n",
       "\\item 'having'\n",
       "\\item 'do'\n",
       "\\item 'does'\n",
       "\\item 'did'\n",
       "\\item 'doing'\n",
       "\\item 'would'\n",
       "\\item 'should'\n",
       "\\item 'could'\n",
       "\\item 'ought'\n",
       "\\item 'i\\textbackslash{}'m'\n",
       "\\item 'you\\textbackslash{}'re'\n",
       "\\item 'he\\textbackslash{}'s'\n",
       "\\item 'she\\textbackslash{}'s'\n",
       "\\item 'it\\textbackslash{}'s'\n",
       "\\item 'we\\textbackslash{}'re'\n",
       "\\item 'they\\textbackslash{}'re'\n",
       "\\item 'i\\textbackslash{}'ve'\n",
       "\\item 'you\\textbackslash{}'ve'\n",
       "\\item 'we\\textbackslash{}'ve'\n",
       "\\item 'they\\textbackslash{}'ve'\n",
       "\\item 'i\\textbackslash{}'d'\n",
       "\\item 'you\\textbackslash{}'d'\n",
       "\\item 'he\\textbackslash{}'d'\n",
       "\\item 'she\\textbackslash{}'d'\n",
       "\\item 'we\\textbackslash{}'d'\n",
       "\\item 'they\\textbackslash{}'d'\n",
       "\\item 'i\\textbackslash{}'ll'\n",
       "\\item 'you\\textbackslash{}'ll'\n",
       "\\item 'he\\textbackslash{}'ll'\n",
       "\\item 'she\\textbackslash{}'ll'\n",
       "\\item 'we\\textbackslash{}'ll'\n",
       "\\item 'they\\textbackslash{}'ll'\n",
       "\\item 'isn\\textbackslash{}'t'\n",
       "\\item 'aren\\textbackslash{}'t'\n",
       "\\item 'wasn\\textbackslash{}'t'\n",
       "\\item 'weren\\textbackslash{}'t'\n",
       "\\item 'hasn\\textbackslash{}'t'\n",
       "\\item 'haven\\textbackslash{}'t'\n",
       "\\item 'hadn\\textbackslash{}'t'\n",
       "\\item 'doesn\\textbackslash{}'t'\n",
       "\\item 'don\\textbackslash{}'t'\n",
       "\\item 'didn\\textbackslash{}'t'\n",
       "\\item 'won\\textbackslash{}'t'\n",
       "\\item 'wouldn\\textbackslash{}'t'\n",
       "\\item 'shan\\textbackslash{}'t'\n",
       "\\item 'shouldn\\textbackslash{}'t'\n",
       "\\item 'can\\textbackslash{}'t'\n",
       "\\item 'cannot'\n",
       "\\item 'couldn\\textbackslash{}'t'\n",
       "\\item 'mustn\\textbackslash{}'t'\n",
       "\\item 'let\\textbackslash{}'s'\n",
       "\\item 'that\\textbackslash{}'s'\n",
       "\\item 'who\\textbackslash{}'s'\n",
       "\\item 'what\\textbackslash{}'s'\n",
       "\\item 'here\\textbackslash{}'s'\n",
       "\\item 'there\\textbackslash{}'s'\n",
       "\\item 'when\\textbackslash{}'s'\n",
       "\\item 'where\\textbackslash{}'s'\n",
       "\\item 'why\\textbackslash{}'s'\n",
       "\\item 'how\\textbackslash{}'s'\n",
       "\\item 'a'\n",
       "\\item 'an'\n",
       "\\item 'the'\n",
       "\\item 'and'\n",
       "\\item 'but'\n",
       "\\item 'if'\n",
       "\\item 'or'\n",
       "\\item 'because'\n",
       "\\item 'as'\n",
       "\\item 'until'\n",
       "\\item 'while'\n",
       "\\item 'of'\n",
       "\\item 'at'\n",
       "\\item 'by'\n",
       "\\item 'for'\n",
       "\\item 'with'\n",
       "\\item 'about'\n",
       "\\item 'against'\n",
       "\\item 'between'\n",
       "\\item 'into'\n",
       "\\item 'through'\n",
       "\\item 'during'\n",
       "\\item 'before'\n",
       "\\item 'after'\n",
       "\\item 'above'\n",
       "\\item 'below'\n",
       "\\item 'to'\n",
       "\\item 'from'\n",
       "\\item 'up'\n",
       "\\item 'down'\n",
       "\\item 'in'\n",
       "\\item 'out'\n",
       "\\item 'on'\n",
       "\\item 'off'\n",
       "\\item 'over'\n",
       "\\item 'under'\n",
       "\\item 'again'\n",
       "\\item 'further'\n",
       "\\item 'then'\n",
       "\\item 'once'\n",
       "\\item 'here'\n",
       "\\item 'there'\n",
       "\\item 'when'\n",
       "\\item 'where'\n",
       "\\item 'why'\n",
       "\\item 'how'\n",
       "\\item 'all'\n",
       "\\item 'any'\n",
       "\\item 'both'\n",
       "\\item 'each'\n",
       "\\item 'few'\n",
       "\\item 'more'\n",
       "\\item 'most'\n",
       "\\item 'other'\n",
       "\\item 'some'\n",
       "\\item 'such'\n",
       "\\item 'no'\n",
       "\\item 'nor'\n",
       "\\item 'not'\n",
       "\\item 'only'\n",
       "\\item 'own'\n",
       "\\item 'same'\n",
       "\\item 'so'\n",
       "\\item 'than'\n",
       "\\item 'too'\n",
       "\\item 'very'\n",
       "\\item 'will'\n",
       "\\end{enumerate*}\n"
      ],
      "text/markdown": [
       "1. 'i'\n",
       "2. 'me'\n",
       "3. 'my'\n",
       "4. 'myself'\n",
       "5. 'we'\n",
       "6. 'our'\n",
       "7. 'ours'\n",
       "8. 'ourselves'\n",
       "9. 'you'\n",
       "10. 'your'\n",
       "11. 'yours'\n",
       "12. 'yourself'\n",
       "13. 'yourselves'\n",
       "14. 'he'\n",
       "15. 'him'\n",
       "16. 'his'\n",
       "17. 'himself'\n",
       "18. 'she'\n",
       "19. 'her'\n",
       "20. 'hers'\n",
       "21. 'herself'\n",
       "22. 'it'\n",
       "23. 'its'\n",
       "24. 'itself'\n",
       "25. 'they'\n",
       "26. 'them'\n",
       "27. 'their'\n",
       "28. 'theirs'\n",
       "29. 'themselves'\n",
       "30. 'what'\n",
       "31. 'which'\n",
       "32. 'who'\n",
       "33. 'whom'\n",
       "34. 'this'\n",
       "35. 'that'\n",
       "36. 'these'\n",
       "37. 'those'\n",
       "38. 'am'\n",
       "39. 'is'\n",
       "40. 'are'\n",
       "41. 'was'\n",
       "42. 'were'\n",
       "43. 'be'\n",
       "44. 'been'\n",
       "45. 'being'\n",
       "46. 'have'\n",
       "47. 'has'\n",
       "48. 'had'\n",
       "49. 'having'\n",
       "50. 'do'\n",
       "51. 'does'\n",
       "52. 'did'\n",
       "53. 'doing'\n",
       "54. 'would'\n",
       "55. 'should'\n",
       "56. 'could'\n",
       "57. 'ought'\n",
       "58. 'i\\'m'\n",
       "59. 'you\\'re'\n",
       "60. 'he\\'s'\n",
       "61. 'she\\'s'\n",
       "62. 'it\\'s'\n",
       "63. 'we\\'re'\n",
       "64. 'they\\'re'\n",
       "65. 'i\\'ve'\n",
       "66. 'you\\'ve'\n",
       "67. 'we\\'ve'\n",
       "68. 'they\\'ve'\n",
       "69. 'i\\'d'\n",
       "70. 'you\\'d'\n",
       "71. 'he\\'d'\n",
       "72. 'she\\'d'\n",
       "73. 'we\\'d'\n",
       "74. 'they\\'d'\n",
       "75. 'i\\'ll'\n",
       "76. 'you\\'ll'\n",
       "77. 'he\\'ll'\n",
       "78. 'she\\'ll'\n",
       "79. 'we\\'ll'\n",
       "80. 'they\\'ll'\n",
       "81. 'isn\\'t'\n",
       "82. 'aren\\'t'\n",
       "83. 'wasn\\'t'\n",
       "84. 'weren\\'t'\n",
       "85. 'hasn\\'t'\n",
       "86. 'haven\\'t'\n",
       "87. 'hadn\\'t'\n",
       "88. 'doesn\\'t'\n",
       "89. 'don\\'t'\n",
       "90. 'didn\\'t'\n",
       "91. 'won\\'t'\n",
       "92. 'wouldn\\'t'\n",
       "93. 'shan\\'t'\n",
       "94. 'shouldn\\'t'\n",
       "95. 'can\\'t'\n",
       "96. 'cannot'\n",
       "97. 'couldn\\'t'\n",
       "98. 'mustn\\'t'\n",
       "99. 'let\\'s'\n",
       "100. 'that\\'s'\n",
       "101. 'who\\'s'\n",
       "102. 'what\\'s'\n",
       "103. 'here\\'s'\n",
       "104. 'there\\'s'\n",
       "105. 'when\\'s'\n",
       "106. 'where\\'s'\n",
       "107. 'why\\'s'\n",
       "108. 'how\\'s'\n",
       "109. 'a'\n",
       "110. 'an'\n",
       "111. 'the'\n",
       "112. 'and'\n",
       "113. 'but'\n",
       "114. 'if'\n",
       "115. 'or'\n",
       "116. 'because'\n",
       "117. 'as'\n",
       "118. 'until'\n",
       "119. 'while'\n",
       "120. 'of'\n",
       "121. 'at'\n",
       "122. 'by'\n",
       "123. 'for'\n",
       "124. 'with'\n",
       "125. 'about'\n",
       "126. 'against'\n",
       "127. 'between'\n",
       "128. 'into'\n",
       "129. 'through'\n",
       "130. 'during'\n",
       "131. 'before'\n",
       "132. 'after'\n",
       "133. 'above'\n",
       "134. 'below'\n",
       "135. 'to'\n",
       "136. 'from'\n",
       "137. 'up'\n",
       "138. 'down'\n",
       "139. 'in'\n",
       "140. 'out'\n",
       "141. 'on'\n",
       "142. 'off'\n",
       "143. 'over'\n",
       "144. 'under'\n",
       "145. 'again'\n",
       "146. 'further'\n",
       "147. 'then'\n",
       "148. 'once'\n",
       "149. 'here'\n",
       "150. 'there'\n",
       "151. 'when'\n",
       "152. 'where'\n",
       "153. 'why'\n",
       "154. 'how'\n",
       "155. 'all'\n",
       "156. 'any'\n",
       "157. 'both'\n",
       "158. 'each'\n",
       "159. 'few'\n",
       "160. 'more'\n",
       "161. 'most'\n",
       "162. 'other'\n",
       "163. 'some'\n",
       "164. 'such'\n",
       "165. 'no'\n",
       "166. 'nor'\n",
       "167. 'not'\n",
       "168. 'only'\n",
       "169. 'own'\n",
       "170. 'same'\n",
       "171. 'so'\n",
       "172. 'than'\n",
       "173. 'too'\n",
       "174. 'very'\n",
       "175. 'will'\n",
       "\n",
       "\n"
      ],
      "text/plain": [
       "  [1] \"i\"          \"me\"         \"my\"         \"myself\"     \"we\"        \n",
       "  [6] \"our\"        \"ours\"       \"ourselves\"  \"you\"        \"your\"      \n",
       " [11] \"yours\"      \"yourself\"   \"yourselves\" \"he\"         \"him\"       \n",
       " [16] \"his\"        \"himself\"    \"she\"        \"her\"        \"hers\"      \n",
       " [21] \"herself\"    \"it\"         \"its\"        \"itself\"     \"they\"      \n",
       " [26] \"them\"       \"their\"      \"theirs\"     \"themselves\" \"what\"      \n",
       " [31] \"which\"      \"who\"        \"whom\"       \"this\"       \"that\"      \n",
       " [36] \"these\"      \"those\"      \"am\"         \"is\"         \"are\"       \n",
       " [41] \"was\"        \"were\"       \"be\"         \"been\"       \"being\"     \n",
       " [46] \"have\"       \"has\"        \"had\"        \"having\"     \"do\"        \n",
       " [51] \"does\"       \"did\"        \"doing\"      \"would\"      \"should\"    \n",
       " [56] \"could\"      \"ought\"      \"i'm\"        \"you're\"     \"he's\"      \n",
       " [61] \"she's\"      \"it's\"       \"we're\"      \"they're\"    \"i've\"      \n",
       " [66] \"you've\"     \"we've\"      \"they've\"    \"i'd\"        \"you'd\"     \n",
       " [71] \"he'd\"       \"she'd\"      \"we'd\"       \"they'd\"     \"i'll\"      \n",
       " [76] \"you'll\"     \"he'll\"      \"she'll\"     \"we'll\"      \"they'll\"   \n",
       " [81] \"isn't\"      \"aren't\"     \"wasn't\"     \"weren't\"    \"hasn't\"    \n",
       " [86] \"haven't\"    \"hadn't\"     \"doesn't\"    \"don't\"      \"didn't\"    \n",
       " [91] \"won't\"      \"wouldn't\"   \"shan't\"     \"shouldn't\"  \"can't\"     \n",
       " [96] \"cannot\"     \"couldn't\"   \"mustn't\"    \"let's\"      \"that's\"    \n",
       "[101] \"who's\"      \"what's\"     \"here's\"     \"there's\"    \"when's\"    \n",
       "[106] \"where's\"    \"why's\"      \"how's\"      \"a\"          \"an\"        \n",
       "[111] \"the\"        \"and\"        \"but\"        \"if\"         \"or\"        \n",
       "[116] \"because\"    \"as\"         \"until\"      \"while\"      \"of\"        \n",
       "[121] \"at\"         \"by\"         \"for\"        \"with\"       \"about\"     \n",
       "[126] \"against\"    \"between\"    \"into\"       \"through\"    \"during\"    \n",
       "[131] \"before\"     \"after\"      \"above\"      \"below\"      \"to\"        \n",
       "[136] \"from\"       \"up\"         \"down\"       \"in\"         \"out\"       \n",
       "[141] \"on\"         \"off\"        \"over\"       \"under\"      \"again\"     \n",
       "[146] \"further\"    \"then\"       \"once\"       \"here\"       \"there\"     \n",
       "[151] \"when\"       \"where\"      \"why\"        \"how\"        \"all\"       \n",
       "[156] \"any\"        \"both\"       \"each\"       \"few\"        \"more\"      \n",
       "[161] \"most\"       \"other\"      \"some\"       \"such\"       \"no\"        \n",
       "[166] \"nor\"        \"not\"        \"only\"       \"own\"        \"same\"      \n",
       "[171] \"so\"         \"than\"       \"too\"        \"very\"       \"will\"      "
      ]
     },
     "metadata": {},
     "output_type": "display_data"
    }
   ],
   "source": [
    "as.list(get_stopwords())$word"
   ]
  },
  {
   "cell_type": "markdown",
   "id": "19d24368",
   "metadata": {},
   "source": [
    "# Cleaning function"
   ]
  },
  {
   "cell_type": "code",
   "execution_count": 21,
   "id": "e78f51b1",
   "metadata": {},
   "outputs": [],
   "source": [
    "cleaning_tokens <- function(token.df){\n",
    "    word <- ifelse(endsWith(token.df[,1], \"s\"), substr(token.df[,1], 1, nchar(token.df[,1]) - 1), token.df[,1])\n",
    "    word <- ifelse(endsWith(word, \"'\"), substr(word, 1, nchar(word) - 1), word)\n",
    "    word <- ifelse(str_detect(word, \"[0-9]+\"), '--number--', word)\n",
    "#     word %<>% unique\n",
    "    return(as.data.frame(word))\n",
    "}"
   ]
  },
  {
   "cell_type": "markdown",
   "id": "b6ca812f",
   "metadata": {},
   "source": [
    "# Vocabulary"
   ]
  },
  {
   "cell_type": "code",
   "execution_count": 111,
   "id": "59940a27",
   "metadata": {},
   "outputs": [],
   "source": [
    "tags_numbers <- list(tags = c('Barely True', 'False', 'Half-True', 'Mostly-True', 'Not known', 'True'),\n",
    "                     numbers = c(0:5))"
   ]
  },
  {
   "cell_type": "code",
   "execution_count": 112,
   "id": "8a025308",
   "metadata": {},
   "outputs": [],
   "source": [
    "## Vocabulary before feature selection"
   ]
  },
  {
   "cell_type": "code",
   "execution_count": 25,
   "id": "e01ed0d2",
   "metadata": {},
   "outputs": [],
   "source": [
    "myframes <- list()\n",
    "\n",
    "for (i in 1:length(tags_numbers$tags)) {\n",
    "    tag <- tags_numbers$tags[i]\n",
    "\n",
    "    train.df.train %>%\n",
    "        filter(Labels == tags_numbers$numbers[i]) %>%\n",
    "        select(Text) %>%\n",
    "        unnest_tokens(word, Text) %>%\n",
    "        anti_join(get_stopwords(), by = join_by(word)) %>%\n",
    "        cleaning_tokens %>%\n",
    "        arrange(word) %>%\n",
    "        group_by(word) %>%\n",
    "        reframe(counts = n()) %>%\n",
    "        arrange(desc(counts)) %>%\n",
    "        setNames(c(\"word\", tag)) -> myframes[[i]]\n",
    "}"
   ]
  },
  {
   "cell_type": "code",
   "execution_count": 26,
   "id": "bbe33fc0",
   "metadata": {},
   "outputs": [],
   "source": [
    "counts<-purrr::reduce(myframes, dplyr::full_join, by = 'word')"
   ]
  },
  {
   "cell_type": "code",
   "execution_count": 27,
   "id": "26e59733",
   "metadata": {},
   "outputs": [
    {
     "data": {
      "text/html": [
       "<table class=\"dataframe\">\n",
       "<caption>A tibble: 6 × 7</caption>\n",
       "<thead>\n",
       "\t<tr><th scope=col>word</th><th scope=col>Barely True</th><th scope=col>False</th><th scope=col>Half-True</th><th scope=col>Mostly-True</th><th scope=col>Not known</th><th scope=col>True</th></tr>\n",
       "\t<tr><th scope=col>&lt;chr&gt;</th><th scope=col>&lt;int&gt;</th><th scope=col>&lt;int&gt;</th><th scope=col>&lt;int&gt;</th><th scope=col>&lt;int&gt;</th><th scope=col>&lt;int&gt;</th><th scope=col>&lt;int&gt;</th></tr>\n",
       "</thead>\n",
       "<tbody>\n",
       "\t<tr><td>--number--</td><td>693</td><td>784</td><td>1106</td><td>1157</td><td>259</td><td>872</td></tr>\n",
       "\t<tr><td>say       </td><td>361</td><td>417</td><td> 411</td><td> 334</td><td>192</td><td>268</td></tr>\n",
       "\t<tr><td>state     </td><td>157</td><td>214</td><td> 224</td><td> 237</td><td> 60</td><td>228</td></tr>\n",
       "\t<tr><td>year      </td><td>154</td><td>170</td><td> 217</td><td> 224</td><td> 45</td><td>178</td></tr>\n",
       "\t<tr><td>obama     </td><td>134</td><td>164</td><td> 142</td><td>  84</td><td>105</td><td> 73</td></tr>\n",
       "\t<tr><td>percent   </td><td>121</td><td>129</td><td> 216</td><td> 243</td><td> 34</td><td>191</td></tr>\n",
       "</tbody>\n",
       "</table>\n"
      ],
      "text/latex": [
       "A tibble: 6 × 7\n",
       "\\begin{tabular}{lllllll}\n",
       " word & Barely True & False & Half-True & Mostly-True & Not known & True\\\\\n",
       " <chr> & <int> & <int> & <int> & <int> & <int> & <int>\\\\\n",
       "\\hline\n",
       "\t --number-- & 693 & 784 & 1106 & 1157 & 259 & 872\\\\\n",
       "\t say        & 361 & 417 &  411 &  334 & 192 & 268\\\\\n",
       "\t state      & 157 & 214 &  224 &  237 &  60 & 228\\\\\n",
       "\t year       & 154 & 170 &  217 &  224 &  45 & 178\\\\\n",
       "\t obama      & 134 & 164 &  142 &   84 & 105 &  73\\\\\n",
       "\t percent    & 121 & 129 &  216 &  243 &  34 & 191\\\\\n",
       "\\end{tabular}\n"
      ],
      "text/markdown": [
       "\n",
       "A tibble: 6 × 7\n",
       "\n",
       "| word &lt;chr&gt; | Barely True &lt;int&gt; | False &lt;int&gt; | Half-True &lt;int&gt; | Mostly-True &lt;int&gt; | Not known &lt;int&gt; | True &lt;int&gt; |\n",
       "|---|---|---|---|---|---|---|\n",
       "| --number-- | 693 | 784 | 1106 | 1157 | 259 | 872 |\n",
       "| say        | 361 | 417 |  411 |  334 | 192 | 268 |\n",
       "| state      | 157 | 214 |  224 |  237 |  60 | 228 |\n",
       "| year       | 154 | 170 |  217 |  224 |  45 | 178 |\n",
       "| obama      | 134 | 164 |  142 |   84 | 105 |  73 |\n",
       "| percent    | 121 | 129 |  216 |  243 |  34 | 191 |\n",
       "\n"
      ],
      "text/plain": [
       "  word       Barely True False Half-True Mostly-True Not known True\n",
       "1 --number-- 693         784   1106      1157        259       872 \n",
       "2 say        361         417    411       334        192       268 \n",
       "3 state      157         214    224       237         60       228 \n",
       "4 year       154         170    217       224         45       178 \n",
       "5 obama      134         164    142        84        105        73 \n",
       "6 percent    121         129    216       243         34       191 "
      ]
     },
     "metadata": {},
     "output_type": "display_data"
    }
   ],
   "source": [
    "head(counts)"
   ]
  },
  {
   "cell_type": "code",
   "execution_count": 28,
   "id": "f3061b83",
   "metadata": {},
   "outputs": [],
   "source": [
    "counts %<>% replace(is.na(.),0)"
   ]
  },
  {
   "cell_type": "markdown",
   "id": "08079115",
   "metadata": {},
   "source": [
    "## Feature Selection "
   ]
  },
  {
   "cell_type": "markdown",
   "id": "56154674",
   "metadata": {},
   "source": [
    "## With frequency mean"
   ]
  },
  {
   "cell_type": "code",
   "execution_count": 160,
   "id": "fef12449",
   "metadata": {},
   "outputs": [],
   "source": [
    "counts %>%\n",
    "    select(-word) %>%\n",
    "    colSums() -> tot_counts_per_class"
   ]
  },
  {
   "cell_type": "code",
   "execution_count": 161,
   "id": "d52911e5",
   "metadata": {},
   "outputs": [],
   "source": [
    "counts_prob <- cbind(counts[\"word\"], counts[2:7]/tot_counts_per_class)"
   ]
  },
  {
   "cell_type": "code",
   "execution_count": 162,
   "id": "27362d0d",
   "metadata": {},
   "outputs": [],
   "source": [
    "counts_prob[\"mean\"] <- rowMeans(counts_prob[2:7])"
   ]
  },
  {
   "cell_type": "code",
   "execution_count": 163,
   "id": "14d6ed95",
   "metadata": {},
   "outputs": [],
   "source": [
    "counts_prob %>%\n",
    "    arrange(desc(mean)) %>%\n",
    "    top_frac(1, mean) -> vocabulary.train.features"
   ]
  },
  {
   "cell_type": "code",
   "execution_count": 164,
   "id": "9edcad11",
   "metadata": {},
   "outputs": [
    {
     "data": {
      "text/html": [
       "<table class=\"dataframe\">\n",
       "<caption>A data.frame: 6 × 8</caption>\n",
       "<thead>\n",
       "\t<tr><th></th><th scope=col>word</th><th scope=col>Barely True</th><th scope=col>False</th><th scope=col>Half-True</th><th scope=col>Mostly-True</th><th scope=col>Not known</th><th scope=col>True</th><th scope=col>mean</th></tr>\n",
       "\t<tr><th></th><th scope=col>&lt;chr&gt;</th><th scope=col>&lt;dbl&gt;</th><th scope=col>&lt;dbl&gt;</th><th scope=col>&lt;dbl&gt;</th><th scope=col>&lt;dbl&gt;</th><th scope=col>&lt;dbl&gt;</th><th scope=col>&lt;dbl&gt;</th><th scope=col>&lt;dbl&gt;</th></tr>\n",
       "</thead>\n",
       "<tbody>\n",
       "\t<tr><th scope=row>1</th><td>--number--</td><td>0.045383104</td><td>0.043625842</td><td>0.072429601</td><td>0.064381504</td><td>0.016961362</td><td>0.04852262</td><td>0.048550672</td></tr>\n",
       "\t<tr><th scope=row>2</th><td>say       </td><td>0.020790141</td><td>0.056146493</td><td>0.023669661</td><td>0.044971052</td><td>0.011057360</td><td>0.03608456</td><td>0.032119877</td></tr>\n",
       "\t<tr><th scope=row>3</th><td>obama     </td><td>0.018042278</td><td>0.009444828</td><td>0.019119429</td><td>0.004837595</td><td>0.014137606</td><td>0.00420410</td><td>0.011630973</td></tr>\n",
       "\t<tr><th scope=row>4</th><td>state     </td><td>0.007935305</td><td>0.014492754</td><td>0.011321708</td><td>0.016050386</td><td>0.003032600</td><td>0.01544088</td><td>0.011378938</td></tr>\n",
       "\t<tr><th scope=row>5</th><td>year      </td><td>0.008569362</td><td>0.011132940</td><td>0.012075010</td><td>0.014669286</td><td>0.002504034</td><td>0.01165684</td><td>0.010101246</td></tr>\n",
       "\t<tr><th scope=row>6</th><td>tax       </td><td>0.005471090</td><td>0.014676181</td><td>0.006450127</td><td>0.014541538</td><td>0.002361207</td><td>0.01050222</td><td>0.009000394</td></tr>\n",
       "</tbody>\n",
       "</table>\n"
      ],
      "text/latex": [
       "A data.frame: 6 × 8\n",
       "\\begin{tabular}{r|llllllll}\n",
       "  & word & Barely True & False & Half-True & Mostly-True & Not known & True & mean\\\\\n",
       "  & <chr> & <dbl> & <dbl> & <dbl> & <dbl> & <dbl> & <dbl> & <dbl>\\\\\n",
       "\\hline\n",
       "\t1 & --number-- & 0.045383104 & 0.043625842 & 0.072429601 & 0.064381504 & 0.016961362 & 0.04852262 & 0.048550672\\\\\n",
       "\t2 & say        & 0.020790141 & 0.056146493 & 0.023669661 & 0.044971052 & 0.011057360 & 0.03608456 & 0.032119877\\\\\n",
       "\t3 & obama      & 0.018042278 & 0.009444828 & 0.019119429 & 0.004837595 & 0.014137606 & 0.00420410 & 0.011630973\\\\\n",
       "\t4 & state      & 0.007935305 & 0.014492754 & 0.011321708 & 0.016050386 & 0.003032600 & 0.01544088 & 0.011378938\\\\\n",
       "\t5 & year       & 0.008569362 & 0.011132940 & 0.012075010 & 0.014669286 & 0.002504034 & 0.01165684 & 0.010101246\\\\\n",
       "\t6 & tax        & 0.005471090 & 0.014676181 & 0.006450127 & 0.014541538 & 0.002361207 & 0.01050222 & 0.009000394\\\\\n",
       "\\end{tabular}\n"
      ],
      "text/markdown": [
       "\n",
       "A data.frame: 6 × 8\n",
       "\n",
       "| <!--/--> | word &lt;chr&gt; | Barely True &lt;dbl&gt; | False &lt;dbl&gt; | Half-True &lt;dbl&gt; | Mostly-True &lt;dbl&gt; | Not known &lt;dbl&gt; | True &lt;dbl&gt; | mean &lt;dbl&gt; |\n",
       "|---|---|---|---|---|---|---|---|---|\n",
       "| 1 | --number-- | 0.045383104 | 0.043625842 | 0.072429601 | 0.064381504 | 0.016961362 | 0.04852262 | 0.048550672 |\n",
       "| 2 | say        | 0.020790141 | 0.056146493 | 0.023669661 | 0.044971052 | 0.011057360 | 0.03608456 | 0.032119877 |\n",
       "| 3 | obama      | 0.018042278 | 0.009444828 | 0.019119429 | 0.004837595 | 0.014137606 | 0.00420410 | 0.011630973 |\n",
       "| 4 | state      | 0.007935305 | 0.014492754 | 0.011321708 | 0.016050386 | 0.003032600 | 0.01544088 | 0.011378938 |\n",
       "| 5 | year       | 0.008569362 | 0.011132940 | 0.012075010 | 0.014669286 | 0.002504034 | 0.01165684 | 0.010101246 |\n",
       "| 6 | tax        | 0.005471090 | 0.014676181 | 0.006450127 | 0.014541538 | 0.002361207 | 0.01050222 | 0.009000394 |\n",
       "\n"
      ],
      "text/plain": [
       "  word       Barely True False       Half-True   Mostly-True Not known  \n",
       "1 --number-- 0.045383104 0.043625842 0.072429601 0.064381504 0.016961362\n",
       "2 say        0.020790141 0.056146493 0.023669661 0.044971052 0.011057360\n",
       "3 obama      0.018042278 0.009444828 0.019119429 0.004837595 0.014137606\n",
       "4 state      0.007935305 0.014492754 0.011321708 0.016050386 0.003032600\n",
       "5 year       0.008569362 0.011132940 0.012075010 0.014669286 0.002504034\n",
       "6 tax        0.005471090 0.014676181 0.006450127 0.014541538 0.002361207\n",
       "  True       mean       \n",
       "1 0.04852262 0.048550672\n",
       "2 0.03608456 0.032119877\n",
       "3 0.00420410 0.011630973\n",
       "4 0.01544088 0.011378938\n",
       "5 0.01165684 0.010101246\n",
       "6 0.01050222 0.009000394"
      ]
     },
     "metadata": {},
     "output_type": "display_data"
    }
   ],
   "source": [
    "head(vocabulary.train.features)"
   ]
  },
  {
   "cell_type": "code",
   "execution_count": 165,
   "id": "8685e459",
   "metadata": {},
   "outputs": [],
   "source": [
    "counts %>%\n",
    "    right_join(vocabulary.train.features[\"word\"], by = join_by(word)) -> naive.bayes.vocabulary"
   ]
  },
  {
   "cell_type": "code",
   "execution_count": 166,
   "id": "c3c680c0",
   "metadata": {},
   "outputs": [
    {
     "data": {
      "text/html": [
       "9075"
      ],
      "text/latex": [
       "9075"
      ],
      "text/markdown": [
       "9075"
      ],
      "text/plain": [
       "[1] 9075"
      ]
     },
     "metadata": {},
     "output_type": "display_data"
    }
   ],
   "source": [
    "length(naive.bayes.vocabulary[[1]])"
   ]
  },
  {
   "cell_type": "code",
   "execution_count": 167,
   "id": "7be85d1c",
   "metadata": {},
   "outputs": [],
   "source": [
    "den <- tot_counts_per_class + length(naive.bayes.vocabulary[[1]])"
   ]
  },
  {
   "cell_type": "code",
   "execution_count": 168,
   "id": "dc0ef330",
   "metadata": {},
   "outputs": [
    {
     "data": {
      "text/html": [
       "<style>\n",
       ".dl-inline {width: auto; margin:0; padding: 0}\n",
       ".dl-inline>dt, .dl-inline>dd {float: none; width: auto; display: inline-block}\n",
       ".dl-inline>dt::after {content: \":\\0020\"; padding-right: .5ex}\n",
       ".dl-inline>dt:not(:first-of-type) {padding-left: .5ex}\n",
       "</style><dl class=dl-inline><dt>Barely True</dt><dd>24345</dd><dt>False</dt><dd>26439</dd><dt>Half-True</dt><dd>28860</dd><dt>Mostly-True</dt><dd>27046</dd><dt>Not known</dt><dd>16502</dd><dt>True</dt><dd>23841</dd></dl>\n"
      ],
      "text/latex": [
       "\\begin{description*}\n",
       "\\item[Barely True] 24345\n",
       "\\item[False] 26439\n",
       "\\item[Half-True] 28860\n",
       "\\item[Mostly-True] 27046\n",
       "\\item[Not known] 16502\n",
       "\\item[True] 23841\n",
       "\\end{description*}\n"
      ],
      "text/markdown": [
       "Barely True\n",
       ":   24345False\n",
       ":   26439Half-True\n",
       ":   28860Mostly-True\n",
       ":   27046Not known\n",
       ":   16502True\n",
       ":   23841\n",
       "\n"
      ],
      "text/plain": [
       "Barely True       False   Half-True Mostly-True   Not known        True \n",
       "      24345       26439       28860       27046       16502       23841 "
      ]
     },
     "metadata": {},
     "output_type": "display_data"
    }
   ],
   "source": [
    "den"
   ]
  },
  {
   "cell_type": "code",
   "execution_count": 169,
   "id": "077e918c",
   "metadata": {},
   "outputs": [],
   "source": [
    "likelihood.token <- cbind(naive.bayes.vocabulary[\"word\"], (naive.bayes.vocabulary[2:7] + 1)/den)"
   ]
  },
  {
   "cell_type": "markdown",
   "id": "dc4e6b68",
   "metadata": {},
   "source": [
    "## Nayve Bayes"
   ]
  },
  {
   "cell_type": "code",
   "execution_count": 170,
   "id": "1b91efcc",
   "metadata": {},
   "outputs": [],
   "source": [
    "# is.na(log(as.numeric(likelihood.token[likelihood.token['word']=='ciao'][2:6])))\n",
    "\n",
    "# is.na(likelihood.token[likelihood.token['word']=='ciao'])"
   ]
  },
  {
   "cell_type": "code",
   "execution_count": 171,
   "id": "eb84e3bf",
   "metadata": {},
   "outputs": [],
   "source": [
    "msg<-c('obama', 'percent', 'tommasomarco')"
   ]
  },
  {
   "cell_type": "code",
   "execution_count": 172,
   "id": "86340a2c",
   "metadata": {},
   "outputs": [],
   "source": [
    "bayes.probability <- function(token.list, likelihood.token, prior.classes){\n",
    "    query_out <- log(as.numeric(prior.classes))\n",
    "    for (i in 1:length(token.list)) {\n",
    "        query <- log(as.numeric(likelihood.token[likelihood.token[\"word\"] == token.list[i]][2:7]))\n",
    "        if (is.na(query[1])) {\n",
    "        query <- as.numeric(log(1/den))\n",
    "        }\n",
    "    #### query is log likelihood for each class\n",
    "        query_out <- query_out + query\n",
    "    \n",
    "    }\n",
    "    query_out <- exp(query_out)\n",
    "    query_out <- query_out/sum(query_out)\n",
    "    return(query_out)\n",
    "}"
   ]
  },
  {
   "cell_type": "code",
   "execution_count": 173,
   "id": "14d38934",
   "metadata": {},
   "outputs": [
    {
     "data": {
      "text/html": [
       "1"
      ],
      "text/latex": [
       "1"
      ],
      "text/markdown": [
       "1"
      ],
      "text/plain": [
       "[1] 1"
      ]
     },
     "metadata": {},
     "output_type": "display_data"
    }
   ],
   "source": [
    "naive.bayes(msg, likelihood.token, prior.classes)"
   ]
  },
  {
   "cell_type": "code",
   "execution_count": 174,
   "id": "537b2a35",
   "metadata": {},
   "outputs": [],
   "source": [
    "tweet_tokenize <- function(msg){\n",
    "    tib <- data.frame(msg)\n",
    "    colnames(tib) <- 'tweet'\n",
    "    tib %>% unnest_tokens(word, tweet) %>%\n",
    "    anti_join(get_stopwords(), by = join_by(word)) %>%\n",
    "    cleaning_tokens -> token.list\n",
    "    return(token.list)    \n",
    "}"
   ]
  },
  {
   "cell_type": "code",
   "execution_count": 175,
   "id": "0878402c",
   "metadata": {},
   "outputs": [],
   "source": [
    "naive.bayes <- function(msg, likelihood.token, prior.classes){\n",
    "    token.list<-as.vector(tweet_tokenize(msg))\n",
    "    probability <- bayes.probability(token.list,likelihood.token, prior.classes )\n",
    "    predicted_class <- which.max(probability)-1\n",
    "    return(predicted_class)\n",
    "}"
   ]
  },
  {
   "cell_type": "markdown",
   "id": "c5346882",
   "metadata": {},
   "source": [
    "## Test on validation set"
   ]
  },
  {
   "cell_type": "code",
   "execution_count": 176,
   "id": "4331d4b4",
   "metadata": {},
   "outputs": [
    {
     "name": "stderr",
     "output_type": "stream",
     "text": [
      "Warning message in FUN(left, right):\n",
      "“la lunghezza più lunga dell'oggetto non è un multiplo della lunghezza più corta dell'oggetto”\n"
     ]
    },
    {
     "data": {
      "text/html": [
       "1"
      ],
      "text/latex": [
       "1"
      ],
      "text/markdown": [
       "1"
      ],
      "text/plain": [
       "[1] 1"
      ]
     },
     "metadata": {},
     "output_type": "display_data"
    }
   ],
   "source": [
    "naive.bayes('Mister Obama joins nato', likelihood.token, prior.classes)"
   ]
  },
  {
   "cell_type": "code",
   "execution_count": 177,
   "id": "62c66ab4",
   "metadata": {
    "scrolled": true
   },
   "outputs": [
    {
     "name": "stderr",
     "output_type": "stream",
     "text": [
      "Warning message in FUN(left, right):\n",
      "“la lunghezza più lunga dell'oggetto non è un multiplo della lunghezza più corta dell'oggetto”\n",
      "Warning message in bayes.probability(token.list, likelihood.token, prior.classes):\n",
      "“NA introdotti per coercizione”\n",
      "Warning message in FUN(left, right):\n",
      "“la lunghezza più lunga dell'oggetto non è un multiplo della lunghezza più corta dell'oggetto”\n",
      "Warning message in FUN(left, right):\n",
      "“la lunghezza più lunga dell'oggetto non è un multiplo della lunghezza più corta dell'oggetto”\n",
      "Warning message in FUN(left, right):\n",
      "“la lunghezza più lunga dell'oggetto non è un multiplo della lunghezza più corta dell'oggetto”\n",
      "Warning message in FUN(left, right):\n",
      "“la lunghezza più lunga dell'oggetto non è un multiplo della lunghezza più corta dell'oggetto”\n",
      "Warning message in bayes.probability(token.list, likelihood.token, prior.classes):\n",
      "“NA introdotti per coercizione”\n",
      "Warning message in FUN(left, right):\n",
      "“la lunghezza più lunga dell'oggetto non è un multiplo della lunghezza più corta dell'oggetto”\n",
      "Warning message in FUN(left, right):\n",
      "“la lunghezza più lunga dell'oggetto non è un multiplo della lunghezza più corta dell'oggetto”\n",
      "Warning message in FUN(left, right):\n",
      "“la lunghezza più lunga dell'oggetto non è un multiplo della lunghezza più corta dell'oggetto”\n",
      "Warning message in bayes.probability(token.list, likelihood.token, prior.classes):\n",
      "“NA introdotti per coercizione”\n",
      "Warning message in FUN(left, right):\n",
      "“la lunghezza più lunga dell'oggetto non è un multiplo della lunghezza più corta dell'oggetto”\n",
      "Warning message in bayes.probability(token.list, likelihood.token, prior.classes):\n",
      "“NA introdotti per coercizione”\n",
      "Warning message in FUN(left, right):\n",
      "“la lunghezza più lunga dell'oggetto non è un multiplo della lunghezza più corta dell'oggetto”\n",
      "Warning message in FUN(left, right):\n",
      "“la lunghezza più lunga dell'oggetto non è un multiplo della lunghezza più corta dell'oggetto”\n",
      "Warning message in bayes.probability(token.list, likelihood.token, prior.classes):\n",
      "“NA introdotti per coercizione”\n",
      "Warning message in FUN(left, right):\n",
      "“la lunghezza più lunga dell'oggetto non è un multiplo della lunghezza più corta dell'oggetto”\n",
      "Warning message in FUN(left, right):\n",
      "“la lunghezza più lunga dell'oggetto non è un multiplo della lunghezza più corta dell'oggetto”\n",
      "Warning message in FUN(left, right):\n",
      "“la lunghezza più lunga dell'oggetto non è un multiplo della lunghezza più corta dell'oggetto”\n",
      "Warning message in FUN(left, right):\n",
      "“la lunghezza più lunga dell'oggetto non è un multiplo della lunghezza più corta dell'oggetto”\n",
      "Warning message in FUN(left, right):\n",
      "“la lunghezza più lunga dell'oggetto non è un multiplo della lunghezza più corta dell'oggetto”\n",
      "Warning message in FUN(left, right):\n",
      "“la lunghezza più lunga dell'oggetto non è un multiplo della lunghezza più corta dell'oggetto”\n",
      "Warning message in bayes.probability(token.list, likelihood.token, prior.classes):\n",
      "“NA introdotti per coercizione”\n"
     ]
    }
   ],
   "source": [
    "predicted_classes <- lapply(X=train.df.validation$Text[1:20], FUN=naive.bayes,likelihood.token=likelihood.token,prior.classes=prior.classes)"
   ]
  },
  {
   "cell_type": "code",
   "execution_count": 178,
   "id": "d6df53cb",
   "metadata": {},
   "outputs": [
    {
     "data": {
      "text/html": [
       "<table class=\"dataframe\">\n",
       "<caption>A data.frame: 4 × 1</caption>\n",
       "<thead>\n",
       "\t<tr><th scope=col>word</th></tr>\n",
       "\t<tr><th scope=col>&lt;chr&gt;</th></tr>\n",
       "</thead>\n",
       "<tbody>\n",
       "\t<tr><td>ciao   </td></tr>\n",
       "\t<tr><td>tommaso</td></tr>\n",
       "\t<tr><td>come   </td></tr>\n",
       "\t<tr><td>va     </td></tr>\n",
       "</tbody>\n",
       "</table>\n"
      ],
      "text/latex": [
       "A data.frame: 4 × 1\n",
       "\\begin{tabular}{l}\n",
       " word\\\\\n",
       " <chr>\\\\\n",
       "\\hline\n",
       "\t ciao   \\\\\n",
       "\t tommaso\\\\\n",
       "\t come   \\\\\n",
       "\t va     \\\\\n",
       "\\end{tabular}\n"
      ],
      "text/markdown": [
       "\n",
       "A data.frame: 4 × 1\n",
       "\n",
       "| word &lt;chr&gt; |\n",
       "|---|\n",
       "| ciao    |\n",
       "| tommaso |\n",
       "| come    |\n",
       "| va      |\n",
       "\n"
      ],
      "text/plain": [
       "  word   \n",
       "1 ciao   \n",
       "2 tommaso\n",
       "3 come   \n",
       "4 va     "
      ]
     },
     "metadata": {},
     "output_type": "display_data"
    }
   ],
   "source": [
    "tweet_tokenize('Ciao tommaso come va?')"
   ]
  },
  {
   "cell_type": "code",
   "execution_count": 179,
   "id": "fd43f572",
   "metadata": {},
   "outputs": [
    {
     "data": {
      "text/html": [
       "3"
      ],
      "text/latex": [
       "3"
      ],
      "text/markdown": [
       "3"
      ],
      "text/plain": [
       "[1] 3"
      ]
     },
     "metadata": {},
     "output_type": "display_data"
    }
   ],
   "source": [
    "sum(predicted_classes==train.df.validation$Labels[1:20])"
   ]
  },
  {
   "cell_type": "code",
   "execution_count": 159,
   "id": "a68c46ab",
   "metadata": {},
   "outputs": [
    {
     "data": {
      "text/html": [
       "<ol>\n",
       "\t<li>1</li>\n",
       "\t<li>2</li>\n",
       "\t<li>3</li>\n",
       "\t<li>1</li>\n",
       "\t<li>5</li>\n",
       "\t<li>3</li>\n",
       "\t<li>1</li>\n",
       "\t<li>1</li>\n",
       "\t<li>0</li>\n",
       "\t<li>1</li>\n",
       "\t<li>1</li>\n",
       "\t<li>1</li>\n",
       "\t<li>1</li>\n",
       "\t<li>1</li>\n",
       "\t<li>1</li>\n",
       "\t<li>1</li>\n",
       "\t<li>1</li>\n",
       "\t<li>1</li>\n",
       "\t<li>1</li>\n",
       "\t<li>2</li>\n",
       "</ol>\n"
      ],
      "text/latex": [
       "\\begin{enumerate}\n",
       "\\item 1\n",
       "\\item 2\n",
       "\\item 3\n",
       "\\item 1\n",
       "\\item 5\n",
       "\\item 3\n",
       "\\item 1\n",
       "\\item 1\n",
       "\\item 0\n",
       "\\item 1\n",
       "\\item 1\n",
       "\\item 1\n",
       "\\item 1\n",
       "\\item 1\n",
       "\\item 1\n",
       "\\item 1\n",
       "\\item 1\n",
       "\\item 1\n",
       "\\item 1\n",
       "\\item 2\n",
       "\\end{enumerate}\n"
      ],
      "text/markdown": [
       "1. 1\n",
       "2. 2\n",
       "3. 3\n",
       "4. 1\n",
       "5. 5\n",
       "6. 3\n",
       "7. 1\n",
       "8. 1\n",
       "9. 0\n",
       "10. 1\n",
       "11. 1\n",
       "12. 1\n",
       "13. 1\n",
       "14. 1\n",
       "15. 1\n",
       "16. 1\n",
       "17. 1\n",
       "18. 1\n",
       "19. 1\n",
       "20. 2\n",
       "\n",
       "\n"
      ],
      "text/plain": [
       "[[1]]\n",
       "[1] 1\n",
       "\n",
       "[[2]]\n",
       "[1] 2\n",
       "\n",
       "[[3]]\n",
       "[1] 3\n",
       "\n",
       "[[4]]\n",
       "[1] 1\n",
       "\n",
       "[[5]]\n",
       "[1] 5\n",
       "\n",
       "[[6]]\n",
       "[1] 3\n",
       "\n",
       "[[7]]\n",
       "[1] 1\n",
       "\n",
       "[[8]]\n",
       "[1] 1\n",
       "\n",
       "[[9]]\n",
       "[1] 0\n",
       "\n",
       "[[10]]\n",
       "[1] 1\n",
       "\n",
       "[[11]]\n",
       "[1] 1\n",
       "\n",
       "[[12]]\n",
       "[1] 1\n",
       "\n",
       "[[13]]\n",
       "[1] 1\n",
       "\n",
       "[[14]]\n",
       "[1] 1\n",
       "\n",
       "[[15]]\n",
       "[1] 1\n",
       "\n",
       "[[16]]\n",
       "[1] 1\n",
       "\n",
       "[[17]]\n",
       "[1] 1\n",
       "\n",
       "[[18]]\n",
       "[1] 1\n",
       "\n",
       "[[19]]\n",
       "[1] 1\n",
       "\n",
       "[[20]]\n",
       "[1] 2\n"
      ]
     },
     "metadata": {},
     "output_type": "display_data"
    }
   ],
   "source": [
    "predicted_classes"
   ]
  },
  {
   "cell_type": "code",
   "execution_count": 106,
   "id": "728ee0ba",
   "metadata": {},
   "outputs": [
    {
     "data": {
      "text/html": [
       "<style>\n",
       ".list-inline {list-style: none; margin:0; padding: 0}\n",
       ".list-inline>li {display: inline-block}\n",
       ".list-inline>li:not(:last-child)::after {content: \"\\00b7\"; padding: 0 .5ex}\n",
       "</style>\n",
       "<ol class=list-inline><li>2</li><li>2</li><li>1</li><li>5</li><li>3</li><li>1</li><li>5</li><li>2</li><li>5</li><li>3</li><li>1</li><li>1</li><li>4</li><li>2</li><li>3</li><li>3</li><li>5</li><li>0</li><li>3</li><li>2</li></ol>\n"
      ],
      "text/latex": [
       "\\begin{enumerate*}\n",
       "\\item 2\n",
       "\\item 2\n",
       "\\item 1\n",
       "\\item 5\n",
       "\\item 3\n",
       "\\item 1\n",
       "\\item 5\n",
       "\\item 2\n",
       "\\item 5\n",
       "\\item 3\n",
       "\\item 1\n",
       "\\item 1\n",
       "\\item 4\n",
       "\\item 2\n",
       "\\item 3\n",
       "\\item 3\n",
       "\\item 5\n",
       "\\item 0\n",
       "\\item 3\n",
       "\\item 2\n",
       "\\end{enumerate*}\n"
      ],
      "text/markdown": [
       "1. 2\n",
       "2. 2\n",
       "3. 1\n",
       "4. 5\n",
       "5. 3\n",
       "6. 1\n",
       "7. 5\n",
       "8. 2\n",
       "9. 5\n",
       "10. 3\n",
       "11. 1\n",
       "12. 1\n",
       "13. 4\n",
       "14. 2\n",
       "15. 3\n",
       "16. 3\n",
       "17. 5\n",
       "18. 0\n",
       "19. 3\n",
       "20. 2\n",
       "\n",
       "\n"
      ],
      "text/plain": [
       " [1] 2 2 1 5 3 1 5 2 5 3 1 1 4 2 3 3 5 0 3 2"
      ]
     },
     "metadata": {},
     "output_type": "display_data"
    }
   ],
   "source": [
    "train.df.validation$Labels[1:20]"
   ]
  },
  {
   "cell_type": "code",
   "execution_count": 101,
   "id": "f025ddf9",
   "metadata": {},
   "outputs": [
    {
     "data": {
      "text/html": [
       "<table class=\"dataframe\">\n",
       "<caption>A data.frame: 2048 × 3</caption>\n",
       "<thead>\n",
       "\t<tr><th></th><th scope=col>Labels</th><th scope=col>Text</th><th scope=col>Text_Tag</th></tr>\n",
       "\t<tr><th></th><th scope=col>&lt;int&gt;</th><th scope=col>&lt;chr&gt;</th><th scope=col>&lt;chr&gt;</th></tr>\n",
       "</thead>\n",
       "<tbody>\n",
       "\t<tr><th scope=row>5743</th><td>2</td><td>It is projected that 3.07 million people will use the train annually. Keep in mind that Amtraks Acela train in Washington D.C., Boston, Philadelphia, New York and Baltimore only had 3.2 million riders in 2010.</td><td>state-budget,stimulus,transportation                          </td></tr>\n",
       "\t<tr><th scope=row>7339</th><td>2</td><td>On whether to eliminate the state income tax.                                                                                                                                                                    </td><td>economy,state-budget,taxes                                    </td></tr>\n",
       "\t<tr><th scope=row>5518</th><td>1</td><td>HIV/AIDS among women is skyrocketing in Austin.                                                                                                                                                                  </td><td>city-budget,city-government,health-care,public-health,women   </td></tr>\n",
       "\t<tr><th scope=row>10006</th><td>5</td><td>Switzerland and the Netherlands . . . cover all their citizens using private insurers, and they do so for much less cost.                                                                                        </td><td>health-care                                                   </td></tr>\n",
       "\t<tr><th scope=row>305</th><td>3</td><td>If you got rid of the income tax today you'd have about as much revenue as we had 10 years ago.                                                                                                                  </td><td>taxes                                                         </td></tr>\n",
       "\t<tr><th scope=row>5388</th><td>1</td><td>President Obama's bill won't bring down the costs (of health care) for average Americans -- or really for very few Americans, if any.                                                                            </td><td>health-care                                                   </td></tr>\n",
       "\t<tr><th scope=row>8104</th><td>5</td><td>Our economy actually shrank during the last three months of 2012.                                                                                                                                                </td><td>economy,jobs                                                  </td></tr>\n",
       "\t<tr><th scope=row>4516</th><td>2</td><td>Says Ellen Rosenblum has said over and over again that this is a job where 80 percent of the job is being the governments lawyer.                                                                                </td><td>candidates-biography,message-machine-2012                     </td></tr>\n",
       "\t<tr><th scope=row>6630</th><td>5</td><td>Says Scott Walker wants to make abortion illegal, even in cases of rape, incest or to protect the life of the mother.                                                                                            </td><td>abortion,message-machine                                      </td></tr>\n",
       "\t<tr><th scope=row>3956</th><td>3</td><td>Travis County now has the highest urban county tax rate in Texas.                                                                                                                                                </td><td>taxes                                                         </td></tr>\n",
       "\t<tr><th scope=row>6684</th><td>1</td><td>Baseball and insurance are the only industries exempt from antitrust laws.                                                                                                                                       </td><td>baseball,health-care                                          </td></tr>\n",
       "\t<tr><th scope=row>2516</th><td>1</td><td>Because of President Barack Obamas failure to push job creation, the black unemployment rate in Ferguson, Mo., is three times higher than the white unemployment rate.                                           </td><td>criminal-justice,jobs                                         </td></tr>\n",
       "\t<tr><th scope=row>2865</th><td>4</td><td>Mercury is used in vaccines, and there is no safe level of mercury.                                                                                                                                              </td><td>public-health                                                 </td></tr>\n",
       "\t<tr><th scope=row>6333</th><td>2</td><td>CEOs now earn 431 times what their workers earn.                                                                                                                                                                 </td><td>corporations,economy,financial-regulation,income,workers      </td></tr>\n",
       "\t<tr><th scope=row>10</th><td>3</td><td>Says GOP primary opponents Glenn Grothman and Joe Leibham cast a compromise vote that cost $788 million in higher electricity costs.                                                                             </td><td>energy,message-machine-2014,voting-record                     </td></tr>\n",
       "\t<tr><th scope=row>8978</th><td>3</td><td>Says that as Massachusetts governor, Mitt Romney condemned coal-fired plants, saying they kill people.                                                                                                           </td><td>economy,energy,environment                                    </td></tr>\n",
       "\t<tr><th scope=row>5270</th><td>5</td><td>Says Mitt Romney told university students in Ohio that to start a business, they should borrow money if you have to from your parents.                                                                           </td><td>economy,small-business                                        </td></tr>\n",
       "\t<tr><th scope=row>3177</th><td>0</td><td>Under Gov. Scott Walker, Wisconsin projected a $1 billion (budget) surplus and it turns out to be a deficit of $2.2 billion.                                                                                     </td><td>candidates-biography,deficit,state-budget,state-finances,taxes</td></tr>\n",
       "\t<tr><th scope=row>4895</th><td>3</td><td>As a percentage of our gross domestic product, the defense budget remains just 3.6 percent. This figure is low by all historical standards.                                                                      </td><td>deficit,federal-budget,military                               </td></tr>\n",
       "\t<tr><th scope=row>7751</th><td>2</td><td>Among the nations 51 largest metropolitan areas, Milwaukee is the only one where the poverty rate is more than four times greater in the city than it is in the suburbs.                                         </td><td>city-budget,city-government,income,jobs,poverty               </td></tr>\n",
       "\t<tr><th scope=row>6213</th><td>0</td><td>Assault rifles already are banned.                                                                                                                                                                               </td><td>government-regulation,guns,terrorism                          </td></tr>\n",
       "\t<tr><th scope=row>5778</th><td>1</td><td>Matt Patten kicked off his dirty campaign with thousands in dirty cash from guess who? (Frank) Russo and (Jimmy) Dimora.                                                                                         </td><td>message-machine,campaign-advertising                          </td></tr>\n",
       "\t<tr><th scope=row>2202</th><td>5</td><td>On deporting illegal immigrants.                                                                                                                                                                                 </td><td>immigration                                                   </td></tr>\n",
       "\t<tr><th scope=row>6210</th><td>3</td><td>Says Republicans want to cut education by 25 percent.                                                                                                                                                            </td><td>education,federal-budget,new-hampshire-2012                   </td></tr>\n",
       "\t<tr><th scope=row>7899</th><td>2</td><td>State Medicaid expansion will save our treasury $1 billion over the next eight years.                                                                                                                            </td><td>medicaid,state-budget                                         </td></tr>\n",
       "\t<tr><th scope=row>3579</th><td>1</td><td>The American slave trade caused 5 million deaths or more.                                                                                                                                                        </td><td>history                                                       </td></tr>\n",
       "\t<tr><th scope=row>1774</th><td>3</td><td>A lot of what (Cubas) survival depends on is Venezuelan oil money, which is drying up.                                                                                                                           </td><td>foreign-policy                                                </td></tr>\n",
       "\t<tr><th scope=row>4985</th><td>2</td><td>In Romneys first budget (in Massachusetts), he cut $248.7 million from K-12 education.                                                                                                                           </td><td>candidates-biography,education,state-budget                   </td></tr>\n",
       "\t<tr><th scope=row>6260</th><td>5</td><td>Its taken more time to complete the Towpath Trail than it did to build the (Ohio Erie) Canal.                                                                                                                    </td><td>recreation                                                    </td></tr>\n",
       "\t<tr><th scope=row>7391</th><td>5</td><td>The gun epidemic is the leading cause of death of young African-American men, more than the next nine causes put together.                                                                                       </td><td>diversity,guns,public-health                                  </td></tr>\n",
       "\t<tr><th scope=row>⋮</th><td>⋮</td><td>⋮</td><td>⋮</td></tr>\n",
       "\t<tr><th scope=row>9987</th><td>5</td><td>Its been 17 years that weve had unemployment higher than the national average in Oregon.                                                                               </td><td>economy,jobs                                                          </td></tr>\n",
       "\t<tr><th scope=row>5488</th><td>2</td><td>During her first four years in Washington Sen. Ayotte voted with the Koch brothers nearly 90 percent of the time.                                                      </td><td>congress,voting-record                                                </td></tr>\n",
       "\t<tr><th scope=row>4073</th><td>2</td><td>Less than 1 percent of all the education dollars that we spend are spent on private (school) voucher programs.                                                         </td><td>education                                                             </td></tr>\n",
       "\t<tr><th scope=row>4491</th><td>0</td><td>NAFTA allows a lot of trucks from Mexico, for example, to leave there and ... drive straight through without even being inspected.                                     </td><td>corrections-and-updates,homeland-security,immigration,transportation  </td></tr>\n",
       "\t<tr><th scope=row>8953</th><td>5</td><td>(Bill) McCollum also voted for numerous amendments to weaken the legislation, even voting to make trains less accessible to those in wheelchairs.                      </td><td>disability                                                            </td></tr>\n",
       "\t<tr><th scope=row>5208</th><td>3</td><td>Cranstons 2014-2015 budget funds 100 percent of the local police and fire pension and other retiree benefit costs.                                                     </td><td>economy,income,job-accomplishments,labor,pensions,taxes,unions,workers</td></tr>\n",
       "\t<tr><th scope=row>1970</th><td>3</td><td>The IRS has been specifically forbidden ... from ever actually pursuing either civil or criminal remedies for people who dont purchase health insurance.               </td><td>health-care,pundits                                                   </td></tr>\n",
       "\t<tr><th scope=row>9974</th><td>0</td><td>Days after the (Osama bin Laden) raid, Hollywood was invited into the White House so that they could receive a briefing that revealed intelligence sources and methods.</td><td>foreign-policy,message-machine-2012,military,terrorism                </td></tr>\n",
       "\t<tr><th scope=row>2889</th><td>1</td><td>U.S. Rep. Debbie Wasserman Schultz has blamed the Republicans for the creation of Hamas.                                                                               </td><td>israel                                                                </td></tr>\n",
       "\t<tr><th scope=row>8</th><td>2</td><td>I'm the only person on this stage who has worked actively just last year passing, along with Russ Feingold, some of the toughest ethics reform since Watergate.        </td><td>ethics                                                                </td></tr>\n",
       "\t<tr><th scope=row>6199</th><td>5</td><td>Says Connie Mack wrote a letter to the Department of Transportation in order to get $29 million in stimulus for his congressional district.                            </td><td>stimulus                                                              </td></tr>\n",
       "\t<tr><th scope=row>4447</th><td>1</td><td>Wisconsins effective unemployment rate is 20 percent.                                                                                                                  </td><td>economy,job-accomplishments,jobs                                      </td></tr>\n",
       "\t<tr><th scope=row>2124</th><td>1</td><td>Kathryn Starkey joined forces with liberal Democrats on a historic sales tax hike.                                                                                     </td><td>candidates-biography,environment,taxes                                </td></tr>\n",
       "\t<tr><th scope=row>2905</th><td>1</td><td>Health care reform: Everything about it is going to raise costs, raise taxes and lower the quality of health care.                                                     </td><td>health-care                                                           </td></tr>\n",
       "\t<tr><th scope=row>8864</th><td>2</td><td>The largest enterprise in the world is the federal government of the United States of America                                                                          </td><td>china,corporations,federal-budget,public-service,workers              </td></tr>\n",
       "\t<tr><th scope=row>308</th><td>2</td><td>Shelby County donated Im sorry, gave 44 schools to the city of Memphis.                                                                                                </td><td>education,infrastructure                                              </td></tr>\n",
       "\t<tr><th scope=row>5892</th><td>4</td><td>Ganley said that if elected, he wants to cut the dickens out of Social Security, Medicare and Veterans benefits.                                                       </td><td>federal-budget,medicare,military,social-security                      </td></tr>\n",
       "\t<tr><th scope=row>9958</th><td>0</td><td>I have not insulted Donald personally.                                                                                                                                 </td><td>candidates-biography                                                  </td></tr>\n",
       "\t<tr><th scope=row>1279</th><td>2</td><td>The University of Wisconsin System had a jobs-for-life tenure program for professors.                                                                                  </td><td>education                                                             </td></tr>\n",
       "\t<tr><th scope=row>2279</th><td>0</td><td>Greg Abbott said it would be a waste to expand pre-k to all Texas children.                                                                                            </td><td>children,education,state-budget,state-finances                        </td></tr>\n",
       "\t<tr><th scope=row>9502</th><td>5</td><td>China now owns $1.1 trillion of our debt, our trade deficit last year with them was a quarter of a trillion dollars.                                                   </td><td>china,deficit,trade                                                   </td></tr>\n",
       "\t<tr><th scope=row>3028</th><td>3</td><td>California gubernatorial candidate Steve Poizner, a Republican, \"gave $10,000 to Al Gore's recount\" effort in 2000.                                                    </td><td>campaign-finance,candidates-biography,elections,message-machine       </td></tr>\n",
       "\t<tr><th scope=row>1799</th><td>0</td><td>Rhode Island gives undocumented pregnant women health insurance, plus a cash card with $400 a month on it and $250 a month or $275 a month to spend on food.           </td><td>health-care,immigration,poverty                                       </td></tr>\n",
       "\t<tr><th scope=row>1658</th><td>3</td><td>Gov. Rick Perry broke his promise that he would not accept a $40,000 pay increase.                                                                                     </td><td>candidates-biography,ethics,job-accomplishments                       </td></tr>\n",
       "\t<tr><th scope=row>6500</th><td>0</td><td>The economy, by every metric, is better than when I came into office.                                                                                                  </td><td>economy,jobs                                                          </td></tr>\n",
       "\t<tr><th scope=row>1124</th><td>1</td><td>Says some Planned Parenthood chapters have been selling the body parts of aborted fetuses for profit.                                                                  </td><td>abortion,crime                                                        </td></tr>\n",
       "\t<tr><th scope=row>7268</th><td>3</td><td>Polls show Americans are overwhelmingly opposed to Obamacare, especially the individual mandate.                                                                       </td><td>health-care                                                           </td></tr>\n",
       "\t<tr><th scope=row>928</th><td>0</td><td>Farming is one of the fastest growing areas of our economy.                                                                                                            </td><td>agriculture,economy                                                   </td></tr>\n",
       "\t<tr><th scope=row>1140</th><td>1</td><td>Terry McAuliffe has threatened to shut down Virginias government if his budget plan isnt supported.                                                                    </td><td>bipartisanship,medicaid,state-budget                                  </td></tr>\n",
       "\t<tr><th scope=row>7949</th><td>0</td><td>On HealthCare.Gov, Texan Mark Sullivan found a good health insurance plan that includes dental, for less than $80 a month.                                             </td><td>corrections-and-updates,health-care                                   </td></tr>\n",
       "</tbody>\n",
       "</table>\n"
      ],
      "text/latex": [
       "A data.frame: 2048 × 3\n",
       "\\begin{tabular}{r|lll}\n",
       "  & Labels & Text & Text\\_Tag\\\\\n",
       "  & <int> & <chr> & <chr>\\\\\n",
       "\\hline\n",
       "\t5743 & 2 & It is projected that 3.07 million people will use the train annually. Keep in mind that Amtraks Acela train in Washington D.C., Boston, Philadelphia, New York and Baltimore only had 3.2 million riders in 2010. & state-budget,stimulus,transportation                          \\\\\n",
       "\t7339 & 2 & On whether to eliminate the state income tax.                                                                                                                                                                     & economy,state-budget,taxes                                    \\\\\n",
       "\t5518 & 1 & HIV/AIDS among women is skyrocketing in Austin.                                                                                                                                                                   & city-budget,city-government,health-care,public-health,women   \\\\\n",
       "\t10006 & 5 & Switzerland and the Netherlands . . . cover all their citizens using private insurers, and they do so for much less cost.                                                                                         & health-care                                                   \\\\\n",
       "\t305 & 3 & If you got rid of the income tax today you'd have about as much revenue as we had 10 years ago.                                                                                                                   & taxes                                                         \\\\\n",
       "\t5388 & 1 & President Obama's bill won't bring down the costs (of health care) for average Americans -- or really for very few Americans, if any.                                                                             & health-care                                                   \\\\\n",
       "\t8104 & 5 & Our economy actually shrank during the last three months of 2012.                                                                                                                                                 & economy,jobs                                                  \\\\\n",
       "\t4516 & 2 & Says Ellen Rosenblum has said over and over again that this is a job where 80 percent of the job is being the governments lawyer.                                                                                 & candidates-biography,message-machine-2012                     \\\\\n",
       "\t6630 & 5 & Says Scott Walker wants to make abortion illegal, even in cases of rape, incest or to protect the life of the mother.                                                                                             & abortion,message-machine                                      \\\\\n",
       "\t3956 & 3 & Travis County now has the highest urban county tax rate in Texas.                                                                                                                                                 & taxes                                                         \\\\\n",
       "\t6684 & 1 & Baseball and insurance are the only industries exempt from antitrust laws.                                                                                                                                        & baseball,health-care                                          \\\\\n",
       "\t2516 & 1 & Because of President Barack Obamas failure to push job creation, the black unemployment rate in Ferguson, Mo., is three times higher than the white unemployment rate.                                            & criminal-justice,jobs                                         \\\\\n",
       "\t2865 & 4 & Mercury is used in vaccines, and there is no safe level of mercury.                                                                                                                                               & public-health                                                 \\\\\n",
       "\t6333 & 2 & CEOs now earn 431 times what their workers earn.                                                                                                                                                                  & corporations,economy,financial-regulation,income,workers      \\\\\n",
       "\t10 & 3 & Says GOP primary opponents Glenn Grothman and Joe Leibham cast a compromise vote that cost \\$788 million in higher electricity costs.                                                                              & energy,message-machine-2014,voting-record                     \\\\\n",
       "\t8978 & 3 & Says that as Massachusetts governor, Mitt Romney condemned coal-fired plants, saying they kill people.                                                                                                            & economy,energy,environment                                    \\\\\n",
       "\t5270 & 5 & Says Mitt Romney told university students in Ohio that to start a business, they should borrow money if you have to from your parents.                                                                            & economy,small-business                                        \\\\\n",
       "\t3177 & 0 & Under Gov. Scott Walker, Wisconsin projected a \\$1 billion (budget) surplus and it turns out to be a deficit of \\$2.2 billion.                                                                                      & candidates-biography,deficit,state-budget,state-finances,taxes\\\\\n",
       "\t4895 & 3 & As a percentage of our gross domestic product, the defense budget remains just 3.6 percent. This figure is low by all historical standards.                                                                       & deficit,federal-budget,military                               \\\\\n",
       "\t7751 & 2 & Among the nations 51 largest metropolitan areas, Milwaukee is the only one where the poverty rate is more than four times greater in the city than it is in the suburbs.                                          & city-budget,city-government,income,jobs,poverty               \\\\\n",
       "\t6213 & 0 & Assault rifles already are banned.                                                                                                                                                                                & government-regulation,guns,terrorism                          \\\\\n",
       "\t5778 & 1 & Matt Patten kicked off his dirty campaign with thousands in dirty cash from guess who? (Frank) Russo and (Jimmy) Dimora.                                                                                          & message-machine,campaign-advertising                          \\\\\n",
       "\t2202 & 5 & On deporting illegal immigrants.                                                                                                                                                                                  & immigration                                                   \\\\\n",
       "\t6210 & 3 & Says Republicans want to cut education by 25 percent.                                                                                                                                                             & education,federal-budget,new-hampshire-2012                   \\\\\n",
       "\t7899 & 2 & State Medicaid expansion will save our treasury \\$1 billion over the next eight years.                                                                                                                             & medicaid,state-budget                                         \\\\\n",
       "\t3579 & 1 & The American slave trade caused 5 million deaths or more.                                                                                                                                                         & history                                                       \\\\\n",
       "\t1774 & 3 & A lot of what (Cubas) survival depends on is Venezuelan oil money, which is drying up.                                                                                                                            & foreign-policy                                                \\\\\n",
       "\t4985 & 2 & In Romneys first budget (in Massachusetts), he cut \\$248.7 million from K-12 education.                                                                                                                            & candidates-biography,education,state-budget                   \\\\\n",
       "\t6260 & 5 & Its taken more time to complete the Towpath Trail than it did to build the (Ohio Erie) Canal.                                                                                                                     & recreation                                                    \\\\\n",
       "\t7391 & 5 & The gun epidemic is the leading cause of death of young African-American men, more than the next nine causes put together.                                                                                        & diversity,guns,public-health                                  \\\\\n",
       "\t⋮ & ⋮ & ⋮ & ⋮\\\\\n",
       "\t9987 & 5 & Its been 17 years that weve had unemployment higher than the national average in Oregon.                                                                                & economy,jobs                                                          \\\\\n",
       "\t5488 & 2 & During her first four years in Washington Sen. Ayotte voted with the Koch brothers nearly 90 percent of the time.                                                       & congress,voting-record                                                \\\\\n",
       "\t4073 & 2 & Less than 1 percent of all the education dollars that we spend are spent on private (school) voucher programs.                                                          & education                                                             \\\\\n",
       "\t4491 & 0 & NAFTA allows a lot of trucks from Mexico, for example, to leave there and ... drive straight through without even being inspected.                                      & corrections-and-updates,homeland-security,immigration,transportation  \\\\\n",
       "\t8953 & 5 & (Bill) McCollum also voted for numerous amendments to weaken the legislation, even voting to make trains less accessible to those in wheelchairs.                       & disability                                                            \\\\\n",
       "\t5208 & 3 & Cranstons 2014-2015 budget funds 100 percent of the local police and fire pension and other retiree benefit costs.                                                      & economy,income,job-accomplishments,labor,pensions,taxes,unions,workers\\\\\n",
       "\t1970 & 3 & The IRS has been specifically forbidden ... from ever actually pursuing either civil or criminal remedies for people who dont purchase health insurance.                & health-care,pundits                                                   \\\\\n",
       "\t9974 & 0 & Days after the (Osama bin Laden) raid, Hollywood was invited into the White House so that they could receive a briefing that revealed intelligence sources and methods. & foreign-policy,message-machine-2012,military,terrorism                \\\\\n",
       "\t2889 & 1 & U.S. Rep. Debbie Wasserman Schultz has blamed the Republicans for the creation of Hamas.                                                                                & israel                                                                \\\\\n",
       "\t8 & 2 & I'm the only person on this stage who has worked actively just last year passing, along with Russ Feingold, some of the toughest ethics reform since Watergate.         & ethics                                                                \\\\\n",
       "\t6199 & 5 & Says Connie Mack wrote a letter to the Department of Transportation in order to get \\$29 million in stimulus for his congressional district.                             & stimulus                                                              \\\\\n",
       "\t4447 & 1 & Wisconsins effective unemployment rate is 20 percent.                                                                                                                   & economy,job-accomplishments,jobs                                      \\\\\n",
       "\t2124 & 1 & Kathryn Starkey joined forces with liberal Democrats on a historic sales tax hike.                                                                                      & candidates-biography,environment,taxes                                \\\\\n",
       "\t2905 & 1 & Health care reform: Everything about it is going to raise costs, raise taxes and lower the quality of health care.                                                      & health-care                                                           \\\\\n",
       "\t8864 & 2 & The largest enterprise in the world is the federal government of the United States of America                                                                           & china,corporations,federal-budget,public-service,workers              \\\\\n",
       "\t308 & 2 & Shelby County donated Im sorry, gave 44 schools to the city of Memphis.                                                                                                 & education,infrastructure                                              \\\\\n",
       "\t5892 & 4 & Ganley said that if elected, he wants to cut the dickens out of Social Security, Medicare and Veterans benefits.                                                        & federal-budget,medicare,military,social-security                      \\\\\n",
       "\t9958 & 0 & I have not insulted Donald personally.                                                                                                                                  & candidates-biography                                                  \\\\\n",
       "\t1279 & 2 & The University of Wisconsin System had a jobs-for-life tenure program for professors.                                                                                   & education                                                             \\\\\n",
       "\t2279 & 0 & Greg Abbott said it would be a waste to expand pre-k to all Texas children.                                                                                             & children,education,state-budget,state-finances                        \\\\\n",
       "\t9502 & 5 & China now owns \\$1.1 trillion of our debt, our trade deficit last year with them was a quarter of a trillion dollars.                                                    & china,deficit,trade                                                   \\\\\n",
       "\t3028 & 3 & California gubernatorial candidate Steve Poizner, a Republican, \"gave \\$10,000 to Al Gore's recount\" effort in 2000.                                                     & campaign-finance,candidates-biography,elections,message-machine       \\\\\n",
       "\t1799 & 0 & Rhode Island gives undocumented pregnant women health insurance, plus a cash card with \\$400 a month on it and \\$250 a month or \\$275 a month to spend on food.            & health-care,immigration,poverty                                       \\\\\n",
       "\t1658 & 3 & Gov. Rick Perry broke his promise that he would not accept a \\$40,000 pay increase.                                                                                      & candidates-biography,ethics,job-accomplishments                       \\\\\n",
       "\t6500 & 0 & The economy, by every metric, is better than when I came into office.                                                                                                   & economy,jobs                                                          \\\\\n",
       "\t1124 & 1 & Says some Planned Parenthood chapters have been selling the body parts of aborted fetuses for profit.                                                                   & abortion,crime                                                        \\\\\n",
       "\t7268 & 3 & Polls show Americans are overwhelmingly opposed to Obamacare, especially the individual mandate.                                                                        & health-care                                                           \\\\\n",
       "\t928 & 0 & Farming is one of the fastest growing areas of our economy.                                                                                                             & agriculture,economy                                                   \\\\\n",
       "\t1140 & 1 & Terry McAuliffe has threatened to shut down Virginias government if his budget plan isnt supported.                                                                     & bipartisanship,medicaid,state-budget                                  \\\\\n",
       "\t7949 & 0 & On HealthCare.Gov, Texan Mark Sullivan found a good health insurance plan that includes dental, for less than \\$80 a month.                                              & corrections-and-updates,health-care                                   \\\\\n",
       "\\end{tabular}\n"
      ],
      "text/markdown": [
       "\n",
       "A data.frame: 2048 × 3\n",
       "\n",
       "| <!--/--> | Labels &lt;int&gt; | Text &lt;chr&gt; | Text_Tag &lt;chr&gt; |\n",
       "|---|---|---|---|\n",
       "| 5743 | 2 | It is projected that 3.07 million people will use the train annually. Keep in mind that Amtraks Acela train in Washington D.C., Boston, Philadelphia, New York and Baltimore only had 3.2 million riders in 2010. | state-budget,stimulus,transportation                           |\n",
       "| 7339 | 2 | On whether to eliminate the state income tax.                                                                                                                                                                     | economy,state-budget,taxes                                     |\n",
       "| 5518 | 1 | HIV/AIDS among women is skyrocketing in Austin.                                                                                                                                                                   | city-budget,city-government,health-care,public-health,women    |\n",
       "| 10006 | 5 | Switzerland and the Netherlands . . . cover all their citizens using private insurers, and they do so for much less cost.                                                                                         | health-care                                                    |\n",
       "| 305 | 3 | If you got rid of the income tax today you'd have about as much revenue as we had 10 years ago.                                                                                                                   | taxes                                                          |\n",
       "| 5388 | 1 | President Obama's bill won't bring down the costs (of health care) for average Americans -- or really for very few Americans, if any.                                                                             | health-care                                                    |\n",
       "| 8104 | 5 | Our economy actually shrank during the last three months of 2012.                                                                                                                                                 | economy,jobs                                                   |\n",
       "| 4516 | 2 | Says Ellen Rosenblum has said over and over again that this is a job where 80 percent of the job is being the governments lawyer.                                                                                 | candidates-biography,message-machine-2012                      |\n",
       "| 6630 | 5 | Says Scott Walker wants to make abortion illegal, even in cases of rape, incest or to protect the life of the mother.                                                                                             | abortion,message-machine                                       |\n",
       "| 3956 | 3 | Travis County now has the highest urban county tax rate in Texas.                                                                                                                                                 | taxes                                                          |\n",
       "| 6684 | 1 | Baseball and insurance are the only industries exempt from antitrust laws.                                                                                                                                        | baseball,health-care                                           |\n",
       "| 2516 | 1 | Because of President Barack Obamas failure to push job creation, the black unemployment rate in Ferguson, Mo., is three times higher than the white unemployment rate.                                            | criminal-justice,jobs                                          |\n",
       "| 2865 | 4 | Mercury is used in vaccines, and there is no safe level of mercury.                                                                                                                                               | public-health                                                  |\n",
       "| 6333 | 2 | CEOs now earn 431 times what their workers earn.                                                                                                                                                                  | corporations,economy,financial-regulation,income,workers       |\n",
       "| 10 | 3 | Says GOP primary opponents Glenn Grothman and Joe Leibham cast a compromise vote that cost $788 million in higher electricity costs.                                                                              | energy,message-machine-2014,voting-record                      |\n",
       "| 8978 | 3 | Says that as Massachusetts governor, Mitt Romney condemned coal-fired plants, saying they kill people.                                                                                                            | economy,energy,environment                                     |\n",
       "| 5270 | 5 | Says Mitt Romney told university students in Ohio that to start a business, they should borrow money if you have to from your parents.                                                                            | economy,small-business                                         |\n",
       "| 3177 | 0 | Under Gov. Scott Walker, Wisconsin projected a $1 billion (budget) surplus and it turns out to be a deficit of $2.2 billion.                                                                                      | candidates-biography,deficit,state-budget,state-finances,taxes |\n",
       "| 4895 | 3 | As a percentage of our gross domestic product, the defense budget remains just 3.6 percent. This figure is low by all historical standards.                                                                       | deficit,federal-budget,military                                |\n",
       "| 7751 | 2 | Among the nations 51 largest metropolitan areas, Milwaukee is the only one where the poverty rate is more than four times greater in the city than it is in the suburbs.                                          | city-budget,city-government,income,jobs,poverty                |\n",
       "| 6213 | 0 | Assault rifles already are banned.                                                                                                                                                                                | government-regulation,guns,terrorism                           |\n",
       "| 5778 | 1 | Matt Patten kicked off his dirty campaign with thousands in dirty cash from guess who? (Frank) Russo and (Jimmy) Dimora.                                                                                          | message-machine,campaign-advertising                           |\n",
       "| 2202 | 5 | On deporting illegal immigrants.                                                                                                                                                                                  | immigration                                                    |\n",
       "| 6210 | 3 | Says Republicans want to cut education by 25 percent.                                                                                                                                                             | education,federal-budget,new-hampshire-2012                    |\n",
       "| 7899 | 2 | State Medicaid expansion will save our treasury $1 billion over the next eight years.                                                                                                                             | medicaid,state-budget                                          |\n",
       "| 3579 | 1 | The American slave trade caused 5 million deaths or more.                                                                                                                                                         | history                                                        |\n",
       "| 1774 | 3 | A lot of what (Cubas) survival depends on is Venezuelan oil money, which is drying up.                                                                                                                            | foreign-policy                                                 |\n",
       "| 4985 | 2 | In Romneys first budget (in Massachusetts), he cut $248.7 million from K-12 education.                                                                                                                            | candidates-biography,education,state-budget                    |\n",
       "| 6260 | 5 | Its taken more time to complete the Towpath Trail than it did to build the (Ohio Erie) Canal.                                                                                                                     | recreation                                                     |\n",
       "| 7391 | 5 | The gun epidemic is the leading cause of death of young African-American men, more than the next nine causes put together.                                                                                        | diversity,guns,public-health                                   |\n",
       "| ⋮ | ⋮ | ⋮ | ⋮ |\n",
       "| 9987 | 5 | Its been 17 years that weve had unemployment higher than the national average in Oregon.                                                                                | economy,jobs                                                           |\n",
       "| 5488 | 2 | During her first four years in Washington Sen. Ayotte voted with the Koch brothers nearly 90 percent of the time.                                                       | congress,voting-record                                                 |\n",
       "| 4073 | 2 | Less than 1 percent of all the education dollars that we spend are spent on private (school) voucher programs.                                                          | education                                                              |\n",
       "| 4491 | 0 | NAFTA allows a lot of trucks from Mexico, for example, to leave there and ... drive straight through without even being inspected.                                      | corrections-and-updates,homeland-security,immigration,transportation   |\n",
       "| 8953 | 5 | (Bill) McCollum also voted for numerous amendments to weaken the legislation, even voting to make trains less accessible to those in wheelchairs.                       | disability                                                             |\n",
       "| 5208 | 3 | Cranstons 2014-2015 budget funds 100 percent of the local police and fire pension and other retiree benefit costs.                                                      | economy,income,job-accomplishments,labor,pensions,taxes,unions,workers |\n",
       "| 1970 | 3 | The IRS has been specifically forbidden ... from ever actually pursuing either civil or criminal remedies for people who dont purchase health insurance.                | health-care,pundits                                                    |\n",
       "| 9974 | 0 | Days after the (Osama bin Laden) raid, Hollywood was invited into the White House so that they could receive a briefing that revealed intelligence sources and methods. | foreign-policy,message-machine-2012,military,terrorism                 |\n",
       "| 2889 | 1 | U.S. Rep. Debbie Wasserman Schultz has blamed the Republicans for the creation of Hamas.                                                                                | israel                                                                 |\n",
       "| 8 | 2 | I'm the only person on this stage who has worked actively just last year passing, along with Russ Feingold, some of the toughest ethics reform since Watergate.         | ethics                                                                 |\n",
       "| 6199 | 5 | Says Connie Mack wrote a letter to the Department of Transportation in order to get $29 million in stimulus for his congressional district.                             | stimulus                                                               |\n",
       "| 4447 | 1 | Wisconsins effective unemployment rate is 20 percent.                                                                                                                   | economy,job-accomplishments,jobs                                       |\n",
       "| 2124 | 1 | Kathryn Starkey joined forces with liberal Democrats on a historic sales tax hike.                                                                                      | candidates-biography,environment,taxes                                 |\n",
       "| 2905 | 1 | Health care reform: Everything about it is going to raise costs, raise taxes and lower the quality of health care.                                                      | health-care                                                            |\n",
       "| 8864 | 2 | The largest enterprise in the world is the federal government of the United States of America                                                                           | china,corporations,federal-budget,public-service,workers               |\n",
       "| 308 | 2 | Shelby County donated Im sorry, gave 44 schools to the city of Memphis.                                                                                                 | education,infrastructure                                               |\n",
       "| 5892 | 4 | Ganley said that if elected, he wants to cut the dickens out of Social Security, Medicare and Veterans benefits.                                                        | federal-budget,medicare,military,social-security                       |\n",
       "| 9958 | 0 | I have not insulted Donald personally.                                                                                                                                  | candidates-biography                                                   |\n",
       "| 1279 | 2 | The University of Wisconsin System had a jobs-for-life tenure program for professors.                                                                                   | education                                                              |\n",
       "| 2279 | 0 | Greg Abbott said it would be a waste to expand pre-k to all Texas children.                                                                                             | children,education,state-budget,state-finances                         |\n",
       "| 9502 | 5 | China now owns $1.1 trillion of our debt, our trade deficit last year with them was a quarter of a trillion dollars.                                                    | china,deficit,trade                                                    |\n",
       "| 3028 | 3 | California gubernatorial candidate Steve Poizner, a Republican, \"gave $10,000 to Al Gore's recount\" effort in 2000.                                                     | campaign-finance,candidates-biography,elections,message-machine        |\n",
       "| 1799 | 0 | Rhode Island gives undocumented pregnant women health insurance, plus a cash card with $400 a month on it and $250 a month or $275 a month to spend on food.            | health-care,immigration,poverty                                        |\n",
       "| 1658 | 3 | Gov. Rick Perry broke his promise that he would not accept a $40,000 pay increase.                                                                                      | candidates-biography,ethics,job-accomplishments                        |\n",
       "| 6500 | 0 | The economy, by every metric, is better than when I came into office.                                                                                                   | economy,jobs                                                           |\n",
       "| 1124 | 1 | Says some Planned Parenthood chapters have been selling the body parts of aborted fetuses for profit.                                                                   | abortion,crime                                                         |\n",
       "| 7268 | 3 | Polls show Americans are overwhelmingly opposed to Obamacare, especially the individual mandate.                                                                        | health-care                                                            |\n",
       "| 928 | 0 | Farming is one of the fastest growing areas of our economy.                                                                                                             | agriculture,economy                                                    |\n",
       "| 1140 | 1 | Terry McAuliffe has threatened to shut down Virginias government if his budget plan isnt supported.                                                                     | bipartisanship,medicaid,state-budget                                   |\n",
       "| 7949 | 0 | On HealthCare.Gov, Texan Mark Sullivan found a good health insurance plan that includes dental, for less than $80 a month.                                              | corrections-and-updates,health-care                                    |\n",
       "\n"
      ],
      "text/plain": [
       "      Labels\n",
       "5743  2     \n",
       "7339  2     \n",
       "5518  1     \n",
       "10006 5     \n",
       "305   3     \n",
       "5388  1     \n",
       "8104  5     \n",
       "4516  2     \n",
       "6630  5     \n",
       "3956  3     \n",
       "6684  1     \n",
       "2516  1     \n",
       "2865  4     \n",
       "6333  2     \n",
       "10    3     \n",
       "8978  3     \n",
       "5270  5     \n",
       "3177  0     \n",
       "4895  3     \n",
       "7751  2     \n",
       "6213  0     \n",
       "5778  1     \n",
       "2202  5     \n",
       "6210  3     \n",
       "7899  2     \n",
       "3579  1     \n",
       "1774  3     \n",
       "4985  2     \n",
       "6260  5     \n",
       "7391  5     \n",
       "⋮     ⋮     \n",
       "9987  5     \n",
       "5488  2     \n",
       "4073  2     \n",
       "4491  0     \n",
       "8953  5     \n",
       "5208  3     \n",
       "1970  3     \n",
       "9974  0     \n",
       "2889  1     \n",
       "8     2     \n",
       "6199  5     \n",
       "4447  1     \n",
       "2124  1     \n",
       "2905  1     \n",
       "8864  2     \n",
       "308   2     \n",
       "5892  4     \n",
       "9958  0     \n",
       "1279  2     \n",
       "2279  0     \n",
       "9502  5     \n",
       "3028  3     \n",
       "1799  0     \n",
       "1658  3     \n",
       "6500  0     \n",
       "1124  1     \n",
       "7268  3     \n",
       "928   0     \n",
       "1140  1     \n",
       "7949  0     \n",
       "      Text                                                                                                                                                                                                             \n",
       "5743  It is projected that 3.07 million people will use the train annually. Keep in mind that Amtraks Acela train in Washington D.C., Boston, Philadelphia, New York and Baltimore only had 3.2 million riders in 2010.\n",
       "7339  On whether to eliminate the state income tax.                                                                                                                                                                    \n",
       "5518  HIV/AIDS among women is skyrocketing in Austin.                                                                                                                                                                  \n",
       "10006 Switzerland and the Netherlands . . . cover all their citizens using private insurers, and they do so for much less cost.                                                                                        \n",
       "305   If you got rid of the income tax today you'd have about as much revenue as we had 10 years ago.                                                                                                                  \n",
       "5388  President Obama's bill won't bring down the costs (of health care) for average Americans -- or really for very few Americans, if any.                                                                            \n",
       "8104  Our economy actually shrank during the last three months of 2012.                                                                                                                                                \n",
       "4516  Says Ellen Rosenblum has said over and over again that this is a job where 80 percent of the job is being the governments lawyer.                                                                                \n",
       "6630  Says Scott Walker wants to make abortion illegal, even in cases of rape, incest or to protect the life of the mother.                                                                                            \n",
       "3956  Travis County now has the highest urban county tax rate in Texas.                                                                                                                                                \n",
       "6684  Baseball and insurance are the only industries exempt from antitrust laws.                                                                                                                                       \n",
       "2516  Because of President Barack Obamas failure to push job creation, the black unemployment rate in Ferguson, Mo., is three times higher than the white unemployment rate.                                           \n",
       "2865  Mercury is used in vaccines, and there is no safe level of mercury.                                                                                                                                              \n",
       "6333  CEOs now earn 431 times what their workers earn.                                                                                                                                                                 \n",
       "10    Says GOP primary opponents Glenn Grothman and Joe Leibham cast a compromise vote that cost $788 million in higher electricity costs.                                                                             \n",
       "8978  Says that as Massachusetts governor, Mitt Romney condemned coal-fired plants, saying they kill people.                                                                                                           \n",
       "5270  Says Mitt Romney told university students in Ohio that to start a business, they should borrow money if you have to from your parents.                                                                           \n",
       "3177  Under Gov. Scott Walker, Wisconsin projected a $1 billion (budget) surplus and it turns out to be a deficit of $2.2 billion.                                                                                     \n",
       "4895  As a percentage of our gross domestic product, the defense budget remains just 3.6 percent. This figure is low by all historical standards.                                                                      \n",
       "7751  Among the nations 51 largest metropolitan areas, Milwaukee is the only one where the poverty rate is more than four times greater in the city than it is in the suburbs.                                         \n",
       "6213  Assault rifles already are banned.                                                                                                                                                                               \n",
       "5778  Matt Patten kicked off his dirty campaign with thousands in dirty cash from guess who? (Frank) Russo and (Jimmy) Dimora.                                                                                         \n",
       "2202  On deporting illegal immigrants.                                                                                                                                                                                 \n",
       "6210  Says Republicans want to cut education by 25 percent.                                                                                                                                                            \n",
       "7899  State Medicaid expansion will save our treasury $1 billion over the next eight years.                                                                                                                            \n",
       "3579  The American slave trade caused 5 million deaths or more.                                                                                                                                                        \n",
       "1774  A lot of what (Cubas) survival depends on is Venezuelan oil money, which is drying up.                                                                                                                           \n",
       "4985  In Romneys first budget (in Massachusetts), he cut $248.7 million from K-12 education.                                                                                                                           \n",
       "6260  Its taken more time to complete the Towpath Trail than it did to build the (Ohio Erie) Canal.                                                                                                                    \n",
       "7391  The gun epidemic is the leading cause of death of young African-American men, more than the next nine causes put together.                                                                                       \n",
       "⋮     ⋮                                                                                                                                                                                                                \n",
       "9987  Its been 17 years that weve had unemployment higher than the national average in Oregon.                                                                                                                         \n",
       "5488  During her first four years in Washington Sen. Ayotte voted with the Koch brothers nearly 90 percent of the time.                                                                                                \n",
       "4073  Less than 1 percent of all the education dollars that we spend are spent on private (school) voucher programs.                                                                                                   \n",
       "4491  NAFTA allows a lot of trucks from Mexico, for example, to leave there and ... drive straight through without even being inspected.                                                                               \n",
       "8953  (Bill) McCollum also voted for numerous amendments to weaken the legislation, even voting to make trains less accessible to those in wheelchairs.                                                                \n",
       "5208  Cranstons 2014-2015 budget funds 100 percent of the local police and fire pension and other retiree benefit costs.                                                                                               \n",
       "1970  The IRS has been specifically forbidden ... from ever actually pursuing either civil or criminal remedies for people who dont purchase health insurance.                                                         \n",
       "9974  Days after the (Osama bin Laden) raid, Hollywood was invited into the White House so that they could receive a briefing that revealed intelligence sources and methods.                                          \n",
       "2889  U.S. Rep. Debbie Wasserman Schultz has blamed the Republicans for the creation of Hamas.                                                                                                                         \n",
       "8     I'm the only person on this stage who has worked actively just last year passing, along with Russ Feingold, some of the toughest ethics reform since Watergate.                                                  \n",
       "6199  Says Connie Mack wrote a letter to the Department of Transportation in order to get $29 million in stimulus for his congressional district.                                                                      \n",
       "4447  Wisconsins effective unemployment rate is 20 percent.                                                                                                                                                            \n",
       "2124  Kathryn Starkey joined forces with liberal Democrats on a historic sales tax hike.                                                                                                                               \n",
       "2905  Health care reform: Everything about it is going to raise costs, raise taxes and lower the quality of health care.                                                                                               \n",
       "8864  The largest enterprise in the world is the federal government of the United States of America                                                                                                                    \n",
       "308   Shelby County donated Im sorry, gave 44 schools to the city of Memphis.                                                                                                                                          \n",
       "5892  Ganley said that if elected, he wants to cut the dickens out of Social Security, Medicare and Veterans benefits.                                                                                                 \n",
       "9958  I have not insulted Donald personally.                                                                                                                                                                           \n",
       "1279  The University of Wisconsin System had a jobs-for-life tenure program for professors.                                                                                                                            \n",
       "2279  Greg Abbott said it would be a waste to expand pre-k to all Texas children.                                                                                                                                      \n",
       "9502  China now owns $1.1 trillion of our debt, our trade deficit last year with them was a quarter of a trillion dollars.                                                                                             \n",
       "3028  California gubernatorial candidate Steve Poizner, a Republican, \"gave $10,000 to Al Gore's recount\" effort in 2000.                                                                                              \n",
       "1799  Rhode Island gives undocumented pregnant women health insurance, plus a cash card with $400 a month on it and $250 a month or $275 a month to spend on food.                                                     \n",
       "1658  Gov. Rick Perry broke his promise that he would not accept a $40,000 pay increase.                                                                                                                               \n",
       "6500  The economy, by every metric, is better than when I came into office.                                                                                                                                            \n",
       "1124  Says some Planned Parenthood chapters have been selling the body parts of aborted fetuses for profit.                                                                                                            \n",
       "7268  Polls show Americans are overwhelmingly opposed to Obamacare, especially the individual mandate.                                                                                                                 \n",
       "928   Farming is one of the fastest growing areas of our economy.                                                                                                                                                      \n",
       "1140  Terry McAuliffe has threatened to shut down Virginias government if his budget plan isnt supported.                                                                                                              \n",
       "7949  On HealthCare.Gov, Texan Mark Sullivan found a good health insurance plan that includes dental, for less than $80 a month.                                                                                       \n",
       "      Text_Tag                                                              \n",
       "5743  state-budget,stimulus,transportation                                  \n",
       "7339  economy,state-budget,taxes                                            \n",
       "5518  city-budget,city-government,health-care,public-health,women           \n",
       "10006 health-care                                                           \n",
       "305   taxes                                                                 \n",
       "5388  health-care                                                           \n",
       "8104  economy,jobs                                                          \n",
       "4516  candidates-biography,message-machine-2012                             \n",
       "6630  abortion,message-machine                                              \n",
       "3956  taxes                                                                 \n",
       "6684  baseball,health-care                                                  \n",
       "2516  criminal-justice,jobs                                                 \n",
       "2865  public-health                                                         \n",
       "6333  corporations,economy,financial-regulation,income,workers              \n",
       "10    energy,message-machine-2014,voting-record                             \n",
       "8978  economy,energy,environment                                            \n",
       "5270  economy,small-business                                                \n",
       "3177  candidates-biography,deficit,state-budget,state-finances,taxes        \n",
       "4895  deficit,federal-budget,military                                       \n",
       "7751  city-budget,city-government,income,jobs,poverty                       \n",
       "6213  government-regulation,guns,terrorism                                  \n",
       "5778  message-machine,campaign-advertising                                  \n",
       "2202  immigration                                                           \n",
       "6210  education,federal-budget,new-hampshire-2012                           \n",
       "7899  medicaid,state-budget                                                 \n",
       "3579  history                                                               \n",
       "1774  foreign-policy                                                        \n",
       "4985  candidates-biography,education,state-budget                           \n",
       "6260  recreation                                                            \n",
       "7391  diversity,guns,public-health                                          \n",
       "⋮     ⋮                                                                     \n",
       "9987  economy,jobs                                                          \n",
       "5488  congress,voting-record                                                \n",
       "4073  education                                                             \n",
       "4491  corrections-and-updates,homeland-security,immigration,transportation  \n",
       "8953  disability                                                            \n",
       "5208  economy,income,job-accomplishments,labor,pensions,taxes,unions,workers\n",
       "1970  health-care,pundits                                                   \n",
       "9974  foreign-policy,message-machine-2012,military,terrorism                \n",
       "2889  israel                                                                \n",
       "8     ethics                                                                \n",
       "6199  stimulus                                                              \n",
       "4447  economy,job-accomplishments,jobs                                      \n",
       "2124  candidates-biography,environment,taxes                                \n",
       "2905  health-care                                                           \n",
       "8864  china,corporations,federal-budget,public-service,workers              \n",
       "308   education,infrastructure                                              \n",
       "5892  federal-budget,medicare,military,social-security                      \n",
       "9958  candidates-biography                                                  \n",
       "1279  education                                                             \n",
       "2279  children,education,state-budget,state-finances                        \n",
       "9502  china,deficit,trade                                                   \n",
       "3028  campaign-finance,candidates-biography,elections,message-machine       \n",
       "1799  health-care,immigration,poverty                                       \n",
       "1658  candidates-biography,ethics,job-accomplishments                       \n",
       "6500  economy,jobs                                                          \n",
       "1124  abortion,crime                                                        \n",
       "7268  health-care                                                           \n",
       "928   agriculture,economy                                                   \n",
       "1140  bipartisanship,medicaid,state-budget                                  \n",
       "7949  corrections-and-updates,health-care                                   "
      ]
     },
     "metadata": {},
     "output_type": "display_data"
    }
   ],
   "source": [
    "train.df.validation"
   ]
  },
  {
   "cell_type": "code",
   "execution_count": 55,
   "id": "99f2a1bd",
   "metadata": {},
   "outputs": [],
   "source": [
    "tib <- tibble('Ciao tommaso come va?')\n",
    "colnames(tib) <- 'tweet'"
   ]
  },
  {
   "cell_type": "code",
   "execution_count": 61,
   "id": "b11669e1",
   "metadata": {},
   "outputs": [
    {
     "data": {
      "text/html": [
       "<table class=\"dataframe\">\n",
       "<caption>A tibble: 4 × 1</caption>\n",
       "<thead>\n",
       "\t<tr><th scope=col>word</th></tr>\n",
       "\t<tr><th scope=col>&lt;chr&gt;</th></tr>\n",
       "</thead>\n",
       "<tbody>\n",
       "\t<tr><td>ciao   </td></tr>\n",
       "\t<tr><td>tommaso</td></tr>\n",
       "\t<tr><td>come   </td></tr>\n",
       "\t<tr><td>va     </td></tr>\n",
       "</tbody>\n",
       "</table>\n"
      ],
      "text/latex": [
       "A tibble: 4 × 1\n",
       "\\begin{tabular}{l}\n",
       " word\\\\\n",
       " <chr>\\\\\n",
       "\\hline\n",
       "\t ciao   \\\\\n",
       "\t tommaso\\\\\n",
       "\t come   \\\\\n",
       "\t va     \\\\\n",
       "\\end{tabular}\n"
      ],
      "text/markdown": [
       "\n",
       "A tibble: 4 × 1\n",
       "\n",
       "| word &lt;chr&gt; |\n",
       "|---|\n",
       "| ciao    |\n",
       "| tommaso |\n",
       "| come    |\n",
       "| va      |\n",
       "\n"
      ],
      "text/plain": [
       "  word   \n",
       "1 ciao   \n",
       "2 tommaso\n",
       "3 come   \n",
       "4 va     "
      ]
     },
     "metadata": {},
     "output_type": "display_data"
    }
   ],
   "source": [
    "tib %>% unnest_tokens(word, tweet)"
   ]
  },
  {
   "cell_type": "raw",
   "id": "71917a2f",
   "metadata": {},
   "source": [
    "query_out <- log(as.numeric(prior.classes))\n",
    "for (i in 1:length(msg)) {\n",
    "    query <- log(as.numeric(likelihood.token[likelihood.token[\"word\"] == msg[i]][2:7]))\n",
    "    if (is.na(query[1])) {\n",
    "        query <- as.numeric(log(1/den))\n",
    "    }\n",
    "    #### query is log likelihood for each class\n",
    "    query_out <- query_out + query\n",
    "\n",
    "}\n",
    "cat(exp(query_out), \"\\n\")"
   ]
  },
  {
   "cell_type": "markdown",
   "id": "91a66b43",
   "metadata": {},
   "source": [
    "## With absolute counts per class\n",
    "To implement"
   ]
  },
  {
   "cell_type": "code",
   "execution_count": null,
   "id": "545916ed",
   "metadata": {},
   "outputs": [],
   "source": [
    "# train.df.train %>%\n",
    "#     filter(Labels == 5) %>%\n",
    "#     select(Text) %>%\n",
    "#     unnest_tokens(word, Text) %>%\n",
    "#     anti_join(get_stopwords(), by = join_by(word)) %>%\n",
    "#     arrange(word) %>%\n",
    "#     group_by(word) %>%\n",
    "#     reframe(counts=n()) %>%\n",
    "#     arrange(desc(counts)) -> true"
   ]
  },
  {
   "cell_type": "markdown",
   "id": "d3370b82",
   "metadata": {},
   "source": [
    "## Naive Bayes Classifier"
   ]
  },
  {
   "cell_type": "markdown",
   "id": "049a39d8",
   "metadata": {},
   "source": [
    "#### Some suggestion to create equivalence classes"
   ]
  },
  {
   "cell_type": "code",
   "execution_count": null,
   "id": "58fa61b9",
   "metadata": {},
   "outputs": [],
   "source": [
    "vocabulary.train %>%\n",
    "    filter(grepl(\"al\", word)) %>%\n",
    "    head"
   ]
  },
  {
   "cell_type": "code",
   "execution_count": null,
   "id": "42e289d5",
   "metadata": {},
   "outputs": [],
   "source": [
    "vocabulary.train.cleaned %>%\n",
    "    filter(grepl(\"\\\\'s\", word))"
   ]
  },
  {
   "cell_type": "code",
   "execution_count": null,
   "id": "5296b19e-34d3-4eaf-96f5-59b9a5e5c34e",
   "metadata": {},
   "outputs": [],
   "source": [
    "train.df %>%\n",
    "    filter(grepl(\"06\", Text)) %>%\n",
    "    filter(!grepl(\"2006\", Text))  #%>% summarise(n())"
   ]
  },
  {
   "cell_type": "markdown",
   "id": "540c0610",
   "metadata": {},
   "source": [
    "## About the data"
   ]
  },
  {
   "cell_type": "markdown",
   "id": "083226f9",
   "metadata": {},
   "source": [
    "# Count how many topics there are"
   ]
  },
  {
   "cell_type": "code",
   "execution_count": null,
   "id": "7def17b5-1c36-4d62-a4ec-80d96f949878",
   "metadata": {},
   "outputs": [],
   "source": [
    "train.df.train %>%\n",
    "    select(Text_Tag) %>%\n",
    "    unnest_tokens(word, Text_Tag, token = stringr::str_split, pattern = \",\") %>%\n",
    "    unique %>%\n",
    "    arrange(word) -> topics"
   ]
  },
  {
   "cell_type": "code",
   "execution_count": null,
   "id": "526a00dc",
   "metadata": {},
   "outputs": [],
   "source": [
    "train.df.train  %>% filter(Text_Tag=='')"
   ]
  },
  {
   "cell_type": "code",
   "execution_count": null,
   "id": "26be1925",
   "metadata": {},
   "outputs": [],
   "source": [
    "topics<-as.list(topics)$word"
   ]
  },
  {
   "cell_type": "markdown",
   "id": "a5d3389c",
   "metadata": {},
   "source": [
    "#### Number of unique topics"
   ]
  },
  {
   "cell_type": "code",
   "execution_count": null,
   "id": "5508982f",
   "metadata": {},
   "outputs": [],
   "source": [
    "length(topics)"
   ]
  },
  {
   "cell_type": "markdown",
   "id": "b02d9523",
   "metadata": {},
   "source": [
    "#### Most frequent and infrequent topics"
   ]
  },
  {
   "cell_type": "code",
   "execution_count": null,
   "id": "085e9040",
   "metadata": {},
   "outputs": [],
   "source": [
    "counts<-vector()\n",
    "for(i in seq_along(topics)){\n",
    "    counts[i]<- as.numeric(train.df.train %>% filter(grepl(topics[i], Text_Tag)) %>% summarise(n()))\n",
    "    }"
   ]
  },
  {
   "cell_type": "code",
   "execution_count": null,
   "id": "67287a14",
   "metadata": {},
   "outputs": [],
   "source": [
    "topics_counts <- data.frame(topics, counts)"
   ]
  },
  {
   "cell_type": "code",
   "execution_count": null,
   "id": "d322c116",
   "metadata": {},
   "outputs": [],
   "source": [
    "topics_counts %>%\n",
    "    filter(topics != \"\") %>%\n",
    "    arrange(desc(counts)) %>%\n",
    "    head()"
   ]
  },
  {
   "cell_type": "code",
   "execution_count": null,
   "id": "c259ae58",
   "metadata": {},
   "outputs": [],
   "source": [
    "topics_counts %>%\n",
    "    arrange(counts) %>%\n",
    "    head()"
   ]
  }
 ],
 "metadata": {
  "kernelspec": {
   "display_name": "R",
   "language": "R",
   "name": "ir"
  },
  "language_info": {
   "codemirror_mode": "r",
   "file_extension": ".r",
   "mimetype": "text/x-r-source",
   "name": "R",
   "pygments_lexer": "r",
   "version": "4.2.3"
  }
 },
 "nbformat": 4,
 "nbformat_minor": 5
}
