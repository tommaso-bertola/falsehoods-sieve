{
 "cells": [
  {
   "cell_type": "markdown",
   "id": "2846428f",
   "metadata": {},
   "source": [
    "# Naive Classifier for Fake news recognition"
   ]
  },
  {
   "cell_type": "markdown",
   "id": "f09bfabd",
   "metadata": {},
   "source": [
    "## Packages"
   ]
  },
  {
   "cell_type": "code",
   "execution_count": 1,
   "id": "56b9dcde",
   "metadata": {},
   "outputs": [
    {
     "name": "stderr",
     "output_type": "stream",
     "text": [
      "Warning message in system(\"timedatectl\", intern = TRUE):\n",
      "“running command 'timedatectl' had status 1”\n",
      "── \u001b[1mAttaching packages\u001b[22m ─────────────────────────────────────────────────────────────────────────────── tidyverse 1.3.1 ──\n",
      "\n",
      "\u001b[32m✔\u001b[39m \u001b[34mggplot2\u001b[39m 3.4.1     \u001b[32m✔\u001b[39m \u001b[34mpurrr  \u001b[39m 1.0.1\n",
      "\u001b[32m✔\u001b[39m \u001b[34mtibble \u001b[39m 3.2.0     \u001b[32m✔\u001b[39m \u001b[34mdplyr  \u001b[39m 1.1.0\n",
      "\u001b[32m✔\u001b[39m \u001b[34mtidyr  \u001b[39m 1.3.0     \u001b[32m✔\u001b[39m \u001b[34mstringr\u001b[39m 1.5.0\n",
      "\u001b[32m✔\u001b[39m \u001b[34mreadr  \u001b[39m 2.1.4     \u001b[32m✔\u001b[39m \u001b[34mforcats\u001b[39m 1.0.0\n",
      "\n",
      "── \u001b[1mConflicts\u001b[22m ────────────────────────────────────────────────────────────────────────────────── tidyverse_conflicts() ──\n",
      "\u001b[31m✖\u001b[39m \u001b[34mdplyr\u001b[39m::\u001b[32mfilter()\u001b[39m  masks \u001b[34mstats\u001b[39m::filter()\n",
      "\u001b[31m✖\u001b[39m \u001b[34mpurrr\u001b[39m::\u001b[32mflatten()\u001b[39m masks \u001b[34mjsonlite\u001b[39m::flatten()\n",
      "\u001b[31m✖\u001b[39m \u001b[34mdplyr\u001b[39m::\u001b[32mlag()\u001b[39m     masks \u001b[34mstats\u001b[39m::lag()\n",
      "\n",
      "\n",
      "Attaching package: ‘magrittr’\n",
      "\n",
      "\n",
      "The following object is masked from ‘package:purrr’:\n",
      "\n",
      "    set_names\n",
      "\n",
      "\n",
      "The following object is masked from ‘package:tidyr’:\n",
      "\n",
      "    extract\n",
      "\n",
      "\n"
     ]
    }
   ],
   "source": [
    "library(tidyverse)\n",
    "library(ggplot2)\n",
    "library(stopwords)\n",
    "library(tidytext)\n",
    "library(stringr)\n",
    "library(purrr)\n",
    "library(magrittr)"
   ]
  },
  {
   "cell_type": "markdown",
   "id": "5b1142bb",
   "metadata": {},
   "source": [
    "# Reading the data"
   ]
  },
  {
   "cell_type": "code",
   "execution_count": 2,
   "id": "7aa86fc7",
   "metadata": {},
   "outputs": [],
   "source": [
    "train.filename <- 'dataset/archive/train.csv'\n",
    "test.filename <- 'dataset/archive/test.csv'"
   ]
  },
  {
   "cell_type": "code",
   "execution_count": 3,
   "id": "336c93ef",
   "metadata": {},
   "outputs": [],
   "source": [
    "train2.filename <- 'dataset/fake-news/train.csv'\n",
    "test2.filename <- 'dataset/fake-news/test.csv'"
   ]
  },
  {
   "cell_type": "code",
   "execution_count": 4,
   "id": "6a0f137a",
   "metadata": {},
   "outputs": [],
   "source": [
    "train.df <- read.delim(train.filename, sep = ',')\n",
    "test.df <- read.delim(test.filename, sep = ',')"
   ]
  },
  {
   "cell_type": "code",
   "execution_count": 5,
   "id": "372e576a",
   "metadata": {},
   "outputs": [],
   "source": [
    "# train2.df <- read.delim(train2.filename, sep = ',')\n",
    "# test2.df <- read.delim(test2.filename, sep = ',')"
   ]
  },
  {
   "cell_type": "markdown",
   "id": "5b6efc43",
   "metadata": {},
   "source": [
    "# Display the train and test datasets"
   ]
  },
  {
   "cell_type": "code",
   "execution_count": 6,
   "id": "ff4c1a14-f388-4852-8bb1-99b3456712d8",
   "metadata": {},
   "outputs": [],
   "source": [
    "# head(test.df)"
   ]
  },
  {
   "cell_type": "code",
   "execution_count": 7,
   "id": "42ff4e60",
   "metadata": {},
   "outputs": [],
   "source": [
    "# head(train.df)"
   ]
  },
  {
   "cell_type": "code",
   "execution_count": 8,
   "id": "5ffd9fac",
   "metadata": {},
   "outputs": [],
   "source": [
    "# head(train2.df)"
   ]
  },
  {
   "cell_type": "code",
   "execution_count": 9,
   "id": "b099bbc1",
   "metadata": {},
   "outputs": [],
   "source": [
    "# head(test2.df)"
   ]
  },
  {
   "cell_type": "markdown",
   "id": "2dc80813",
   "metadata": {},
   "source": [
    "# Splitting the datasets"
   ]
  },
  {
   "cell_type": "code",
   "execution_count": 10,
   "id": "3e24744e-455b-4d1a-bddf-e4d70d4015b2",
   "metadata": {},
   "outputs": [],
   "source": [
    "# shuffle\n",
    "set.seed(29062023)\n",
    "train.df=train.df[sample(1:nrow(train.df), replace = F),] # shuffle the dataset"
   ]
  },
  {
   "cell_type": "code",
   "execution_count": 11,
   "id": "53de2aa4-33ba-4007-b676-4c9213b4f25b",
   "metadata": {},
   "outputs": [],
   "source": [
    "# set splitting percentages\n",
    "perc_split <- 0.8  # set splitting percentages\n",
    "n_rows <- nrow(train.df)\n",
    "n_rows_train <- floor(n_rows * perc_split)"
   ]
  },
  {
   "cell_type": "code",
   "execution_count": 12,
   "id": "37c87399-c8de-4dda-b79f-18770080e017",
   "metadata": {},
   "outputs": [],
   "source": [
    "# splitting\n",
    "train.df.train <- train.df[1:n_rows_train, ]\n",
    "train.df.validation <- train.df[-c(1:n_rows_train), ]"
   ]
  },
  {
   "cell_type": "code",
   "execution_count": 13,
   "id": "ca9036ee-9c0b-464c-b11a-dfe8f88ebbe4",
   "metadata": {},
   "outputs": [
    {
     "name": "stdout",
     "output_type": "stream",
     "text": [
      "Total rows: 10240 \n",
      "Train rows: 8192 \n",
      "Validation rows 2048"
     ]
    }
   ],
   "source": [
    "cat('Total rows:',nrow(train.df),\n",
    "    '\\nTrain rows:',nrow(train.df.train),\n",
    "    '\\nValidation rows',nrow(train.df.validation))"
   ]
  },
  {
   "cell_type": "markdown",
   "id": "4be1a640",
   "metadata": {},
   "source": [
    "## Analysis of the content"
   ]
  },
  {
   "cell_type": "code",
   "execution_count": 14,
   "id": "66301464",
   "metadata": {},
   "outputs": [
    {
     "data": {
      "image/png": "[encoded data removed]",
      "text/plain": [
       "Plot with title “Histogram of classes”"
      ]
     },
     "metadata": {
      "image/png": {
       "height": 420,
       "width": 420
      }
     },
     "output_type": "display_data"
    }
   ],
   "source": [
    "breaks <- seq(from=-0.5, to=5.5, by=1)\n",
    "labels <- c('Barely True', 'False', 'Half-True', 'Mostly-True', 'Not known', 'True')\n",
    "colors <- c('#FF6666','#FF9966', '#FFCC66', '#99FF99' , '#CCCCCC','#00FF99')\n",
    "\n",
    "class<-hist(x = train.df$Labels, \n",
    "     breaks = breaks, \n",
    "     labels = labels,\n",
    "     main = 'Histogram of classes',\n",
    "     xlab = 'Classes',\n",
    "     ylab = 'Count in training set',\n",
    "     col = colors\n",
    "    )"
   ]
  },
  {
   "cell_type": "code",
   "execution_count": 15,
   "id": "f1ffbec6",
   "metadata": {},
   "outputs": [],
   "source": [
    "prior.classes<-class$density"
   ]
  },
  {
   "cell_type": "markdown",
   "id": "15cd2935",
   "metadata": {},
   "source": [
    "# Analysis of the text"
   ]
  },
  {
   "cell_type": "code",
   "execution_count": 16,
   "id": "6dab2118",
   "metadata": {},
   "outputs": [
    {
     "data": {
      "text/html": [
       "<table class=\"dataframe\">\n",
       "<caption>A data.frame: 6 × 1</caption>\n",
       "<thead>\n",
       "\t<tr><th></th><th scope=col>Text</th></tr>\n",
       "\t<tr><th></th><th scope=col>&lt;chr&gt;</th></tr>\n",
       "</thead>\n",
       "<tbody>\n",
       "\t<tr><th scope=row>1</th><td>Says Rick Perry flip-flopped on gay marriage by first saying it was a states rights issue and then saying he was in favor of a federal constitutional amendment banning gay marriage.</td></tr>\n",
       "\t<tr><th scope=row>2</th><td>The United States death rate is two-and-a-half times higher for those who do not have a high school education.                                                                       </td></tr>\n",
       "\t<tr><th scope=row>3</th><td>The largest category of people coming into the technical schools in Wisconsin are people with four-year degrees.                                                                     </td></tr>\n",
       "\t<tr><th scope=row>4</th><td>A proposed mine in Wisconsin is about two-thirds the size of Lake Winnebago.                                                                                                         </td></tr>\n",
       "\t<tr><th scope=row>5</th><td>The cost of health care is now the single-biggest factor driving down the federal budget deficit.                                                                                    </td></tr>\n",
       "\t<tr><th scope=row>6</th><td>The Libertarian Party is the third-largest political party in the U.S.                                                                                                               </td></tr>\n",
       "</tbody>\n",
       "</table>\n"
      ],
      "text/latex": [
       "A data.frame: 6 × 1\n",
       "\\begin{tabular}{r|l}\n",
       "  & Text\\\\\n",
       "  & <chr>\\\\\n",
       "\\hline\n",
       "\t1 & Says Rick Perry flip-flopped on gay marriage by first saying it was a states rights issue and then saying he was in favor of a federal constitutional amendment banning gay marriage.\\\\\n",
       "\t2 & The United States death rate is two-and-a-half times higher for those who do not have a high school education.                                                                       \\\\\n",
       "\t3 & The largest category of people coming into the technical schools in Wisconsin are people with four-year degrees.                                                                     \\\\\n",
       "\t4 & A proposed mine in Wisconsin is about two-thirds the size of Lake Winnebago.                                                                                                         \\\\\n",
       "\t5 & The cost of health care is now the single-biggest factor driving down the federal budget deficit.                                                                                    \\\\\n",
       "\t6 & The Libertarian Party is the third-largest political party in the U.S.                                                                                                               \\\\\n",
       "\\end{tabular}\n"
      ],
      "text/markdown": [
       "\n",
       "A data.frame: 6 × 1\n",
       "\n",
       "| <!--/--> | Text &lt;chr&gt; |\n",
       "|---|---|\n",
       "| 1 | Says Rick Perry flip-flopped on gay marriage by first saying it was a states rights issue and then saying he was in favor of a federal constitutional amendment banning gay marriage. |\n",
       "| 2 | The United States death rate is two-and-a-half times higher for those who do not have a high school education.                                                                        |\n",
       "| 3 | The largest category of people coming into the technical schools in Wisconsin are people with four-year degrees.                                                                      |\n",
       "| 4 | A proposed mine in Wisconsin is about two-thirds the size of Lake Winnebago.                                                                                                          |\n",
       "| 5 | The cost of health care is now the single-biggest factor driving down the federal budget deficit.                                                                                     |\n",
       "| 6 | The Libertarian Party is the third-largest political party in the U.S.                                                                                                                |\n",
       "\n"
      ],
      "text/plain": [
       "  Text                                                                                                                                                                                 \n",
       "1 Says Rick Perry flip-flopped on gay marriage by first saying it was a states rights issue and then saying he was in favor of a federal constitutional amendment banning gay marriage.\n",
       "2 The United States death rate is two-and-a-half times higher for those who do not have a high school education.                                                                       \n",
       "3 The largest category of people coming into the technical schools in Wisconsin are people with four-year degrees.                                                                     \n",
       "4 A proposed mine in Wisconsin is about two-thirds the size of Lake Winnebago.                                                                                                         \n",
       "5 The cost of health care is now the single-biggest factor driving down the federal budget deficit.                                                                                    \n",
       "6 The Libertarian Party is the third-largest political party in the U.S.                                                                                                               "
      ]
     },
     "metadata": {},
     "output_type": "display_data"
    }
   ],
   "source": [
    "train.df.train %>% select(Text) %>% filter(grepl('[a-z]-[a-z]', Text)) %>% head"
   ]
  },
  {
   "cell_type": "markdown",
   "id": "9d2ac432",
   "metadata": {},
   "source": [
    "# Vocabulary creation"
   ]
  },
  {
   "cell_type": "code",
   "execution_count": 17,
   "id": "2a86a256",
   "metadata": {},
   "outputs": [
    {
     "data": {
      "text/html": [
       "<style>\n",
       ".list-inline {list-style: none; margin:0; padding: 0}\n",
       ".list-inline>li {display: inline-block}\n",
       ".list-inline>li:not(:last-child)::after {content: \"\\00b7\"; padding: 0 .5ex}\n",
       "</style>\n",
       "<ol class=list-inline><li>'i'</li><li>'me'</li><li>'my'</li><li>'myself'</li><li>'we'</li><li>'our'</li><li>'ours'</li><li>'ourselves'</li><li>'you'</li><li>'your'</li><li>'yours'</li><li>'yourself'</li><li>'yourselves'</li><li>'he'</li><li>'him'</li><li>'his'</li><li>'himself'</li><li>'she'</li><li>'her'</li><li>'hers'</li><li>'herself'</li><li>'it'</li><li>'its'</li><li>'itself'</li><li>'they'</li><li>'them'</li><li>'their'</li><li>'theirs'</li><li>'themselves'</li><li>'what'</li><li>'which'</li><li>'who'</li><li>'whom'</li><li>'this'</li><li>'that'</li><li>'these'</li><li>'those'</li><li>'am'</li><li>'is'</li><li>'are'</li><li>'was'</li><li>'were'</li><li>'be'</li><li>'been'</li><li>'being'</li><li>'have'</li><li>'has'</li><li>'had'</li><li>'having'</li><li>'do'</li><li>'does'</li><li>'did'</li><li>'doing'</li><li>'would'</li><li>'should'</li><li>'could'</li><li>'ought'</li><li>'i\\'m'</li><li>'you\\'re'</li><li>'he\\'s'</li><li>'she\\'s'</li><li>'it\\'s'</li><li>'we\\'re'</li><li>'they\\'re'</li><li>'i\\'ve'</li><li>'you\\'ve'</li><li>'we\\'ve'</li><li>'they\\'ve'</li><li>'i\\'d'</li><li>'you\\'d'</li><li>'he\\'d'</li><li>'she\\'d'</li><li>'we\\'d'</li><li>'they\\'d'</li><li>'i\\'ll'</li><li>'you\\'ll'</li><li>'he\\'ll'</li><li>'she\\'ll'</li><li>'we\\'ll'</li><li>'they\\'ll'</li><li>'isn\\'t'</li><li>'aren\\'t'</li><li>'wasn\\'t'</li><li>'weren\\'t'</li><li>'hasn\\'t'</li><li>'haven\\'t'</li><li>'hadn\\'t'</li><li>'doesn\\'t'</li><li>'don\\'t'</li><li>'didn\\'t'</li><li>'won\\'t'</li><li>'wouldn\\'t'</li><li>'shan\\'t'</li><li>'shouldn\\'t'</li><li>'can\\'t'</li><li>'cannot'</li><li>'couldn\\'t'</li><li>'mustn\\'t'</li><li>'let\\'s'</li><li>'that\\'s'</li><li>'who\\'s'</li><li>'what\\'s'</li><li>'here\\'s'</li><li>'there\\'s'</li><li>'when\\'s'</li><li>'where\\'s'</li><li>'why\\'s'</li><li>'how\\'s'</li><li>'a'</li><li>'an'</li><li>'the'</li><li>'and'</li><li>'but'</li><li>'if'</li><li>'or'</li><li>'because'</li><li>'as'</li><li>'until'</li><li>'while'</li><li>'of'</li><li>'at'</li><li>'by'</li><li>'for'</li><li>'with'</li><li>'about'</li><li>'against'</li><li>'between'</li><li>'into'</li><li>'through'</li><li>'during'</li><li>'before'</li><li>'after'</li><li>'above'</li><li>'below'</li><li>'to'</li><li>'from'</li><li>'up'</li><li>'down'</li><li>'in'</li><li>'out'</li><li>'on'</li><li>'off'</li><li>'over'</li><li>'under'</li><li>'again'</li><li>'further'</li><li>'then'</li><li>'once'</li><li>'here'</li><li>'there'</li><li>'when'</li><li>'where'</li><li>'why'</li><li>'how'</li><li>'all'</li><li>'any'</li><li>'both'</li><li>'each'</li><li>'few'</li><li>'more'</li><li>'most'</li><li>'other'</li><li>'some'</li><li>'such'</li><li>'no'</li><li>'nor'</li><li>'not'</li><li>'only'</li><li>'own'</li><li>'same'</li><li>'so'</li><li>'than'</li><li>'too'</li><li>'very'</li><li>'will'</li></ol>\n"
      ],
      "text/latex": [
       "\\begin{enumerate*}\n",
       "\\item 'i'\n",
       "\\item 'me'\n",
       "\\item 'my'\n",
       "\\item 'myself'\n",
       "\\item 'we'\n",
       "\\item 'our'\n",
       "\\item 'ours'\n",
       "\\item 'ourselves'\n",
       "\\item 'you'\n",
       "\\item 'your'\n",
       "\\item 'yours'\n",
       "\\item 'yourself'\n",
       "\\item 'yourselves'\n",
       "\\item 'he'\n",
       "\\item 'him'\n",
       "\\item 'his'\n",
       "\\item 'himself'\n",
       "\\item 'she'\n",
       "\\item 'her'\n",
       "\\item 'hers'\n",
       "\\item 'herself'\n",
       "\\item 'it'\n",
       "\\item 'its'\n",
       "\\item 'itself'\n",
       "\\item 'they'\n",
       "\\item 'them'\n",
       "\\item 'their'\n",
       "\\item 'theirs'\n",
       "\\item 'themselves'\n",
       "\\item 'what'\n",
       "\\item 'which'\n",
       "\\item 'who'\n",
       "\\item 'whom'\n",
       "\\item 'this'\n",
       "\\item 'that'\n",
       "\\item 'these'\n",
       "\\item 'those'\n",
       "\\item 'am'\n",
       "\\item 'is'\n",
       "\\item 'are'\n",
       "\\item 'was'\n",
       "\\item 'were'\n",
       "\\item 'be'\n",
       "\\item 'been'\n",
       "\\item 'being'\n",
       "\\item 'have'\n",
       "\\item 'has'\n",
       "\\item 'had'\n",
       "\\item 'having'\n",
       "\\item 'do'\n",
       "\\item 'does'\n",
       "\\item 'did'\n",
       "\\item 'doing'\n",
       "\\item 'would'\n",
       "\\item 'should'\n",
       "\\item 'could'\n",
       "\\item 'ought'\n",
       "\\item 'i\\textbackslash{}'m'\n",
       "\\item 'you\\textbackslash{}'re'\n",
       "\\item 'he\\textbackslash{}'s'\n",
       "\\item 'she\\textbackslash{}'s'\n",
       "\\item 'it\\textbackslash{}'s'\n",
       "\\item 'we\\textbackslash{}'re'\n",
       "\\item 'they\\textbackslash{}'re'\n",
       "\\item 'i\\textbackslash{}'ve'\n",
       "\\item 'you\\textbackslash{}'ve'\n",
       "\\item 'we\\textbackslash{}'ve'\n",
       "\\item 'they\\textbackslash{}'ve'\n",
       "\\item 'i\\textbackslash{}'d'\n",
       "\\item 'you\\textbackslash{}'d'\n",
       "\\item 'he\\textbackslash{}'d'\n",
       "\\item 'she\\textbackslash{}'d'\n",
       "\\item 'we\\textbackslash{}'d'\n",
       "\\item 'they\\textbackslash{}'d'\n",
       "\\item 'i\\textbackslash{}'ll'\n",
       "\\item 'you\\textbackslash{}'ll'\n",
       "\\item 'he\\textbackslash{}'ll'\n",
       "\\item 'she\\textbackslash{}'ll'\n",
       "\\item 'we\\textbackslash{}'ll'\n",
       "\\item 'they\\textbackslash{}'ll'\n",
       "\\item 'isn\\textbackslash{}'t'\n",
       "\\item 'aren\\textbackslash{}'t'\n",
       "\\item 'wasn\\textbackslash{}'t'\n",
       "\\item 'weren\\textbackslash{}'t'\n",
       "\\item 'hasn\\textbackslash{}'t'\n",
       "\\item 'haven\\textbackslash{}'t'\n",
       "\\item 'hadn\\textbackslash{}'t'\n",
       "\\item 'doesn\\textbackslash{}'t'\n",
       "\\item 'don\\textbackslash{}'t'\n",
       "\\item 'didn\\textbackslash{}'t'\n",
       "\\item 'won\\textbackslash{}'t'\n",
       "\\item 'wouldn\\textbackslash{}'t'\n",
       "\\item 'shan\\textbackslash{}'t'\n",
       "\\item 'shouldn\\textbackslash{}'t'\n",
       "\\item 'can\\textbackslash{}'t'\n",
       "\\item 'cannot'\n",
       "\\item 'couldn\\textbackslash{}'t'\n",
       "\\item 'mustn\\textbackslash{}'t'\n",
       "\\item 'let\\textbackslash{}'s'\n",
       "\\item 'that\\textbackslash{}'s'\n",
       "\\item 'who\\textbackslash{}'s'\n",
       "\\item 'what\\textbackslash{}'s'\n",
       "\\item 'here\\textbackslash{}'s'\n",
       "\\item 'there\\textbackslash{}'s'\n",
       "\\item 'when\\textbackslash{}'s'\n",
       "\\item 'where\\textbackslash{}'s'\n",
       "\\item 'why\\textbackslash{}'s'\n",
       "\\item 'how\\textbackslash{}'s'\n",
       "\\item 'a'\n",
       "\\item 'an'\n",
       "\\item 'the'\n",
       "\\item 'and'\n",
       "\\item 'but'\n",
       "\\item 'if'\n",
       "\\item 'or'\n",
       "\\item 'because'\n",
       "\\item 'as'\n",
       "\\item 'until'\n",
       "\\item 'while'\n",
       "\\item 'of'\n",
       "\\item 'at'\n",
       "\\item 'by'\n",
       "\\item 'for'\n",
       "\\item 'with'\n",
       "\\item 'about'\n",
       "\\item 'against'\n",
       "\\item 'between'\n",
       "\\item 'into'\n",
       "\\item 'through'\n",
       "\\item 'during'\n",
       "\\item 'before'\n",
       "\\item 'after'\n",
       "\\item 'above'\n",
       "\\item 'below'\n",
       "\\item 'to'\n",
       "\\item 'from'\n",
       "\\item 'up'\n",
       "\\item 'down'\n",
       "\\item 'in'\n",
       "\\item 'out'\n",
       "\\item 'on'\n",
       "\\item 'off'\n",
       "\\item 'over'\n",
       "\\item 'under'\n",
       "\\item 'again'\n",
       "\\item 'further'\n",
       "\\item 'then'\n",
       "\\item 'once'\n",
       "\\item 'here'\n",
       "\\item 'there'\n",
       "\\item 'when'\n",
       "\\item 'where'\n",
       "\\item 'why'\n",
       "\\item 'how'\n",
       "\\item 'all'\n",
       "\\item 'any'\n",
       "\\item 'both'\n",
       "\\item 'each'\n",
       "\\item 'few'\n",
       "\\item 'more'\n",
       "\\item 'most'\n",
       "\\item 'other'\n",
       "\\item 'some'\n",
       "\\item 'such'\n",
       "\\item 'no'\n",
       "\\item 'nor'\n",
       "\\item 'not'\n",
       "\\item 'only'\n",
       "\\item 'own'\n",
       "\\item 'same'\n",
       "\\item 'so'\n",
       "\\item 'than'\n",
       "\\item 'too'\n",
       "\\item 'very'\n",
       "\\item 'will'\n",
       "\\end{enumerate*}\n"
      ],
      "text/markdown": [
       "1. 'i'\n",
       "2. 'me'\n",
       "3. 'my'\n",
       "4. 'myself'\n",
       "5. 'we'\n",
       "6. 'our'\n",
       "7. 'ours'\n",
       "8. 'ourselves'\n",
       "9. 'you'\n",
       "10. 'your'\n",
       "11. 'yours'\n",
       "12. 'yourself'\n",
       "13. 'yourselves'\n",
       "14. 'he'\n",
       "15. 'him'\n",
       "16. 'his'\n",
       "17. 'himself'\n",
       "18. 'she'\n",
       "19. 'her'\n",
       "20. 'hers'\n",
       "21. 'herself'\n",
       "22. 'it'\n",
       "23. 'its'\n",
       "24. 'itself'\n",
       "25. 'they'\n",
       "26. 'them'\n",
       "27. 'their'\n",
       "28. 'theirs'\n",
       "29. 'themselves'\n",
       "30. 'what'\n",
       "31. 'which'\n",
       "32. 'who'\n",
       "33. 'whom'\n",
       "34. 'this'\n",
       "35. 'that'\n",
       "36. 'these'\n",
       "37. 'those'\n",
       "38. 'am'\n",
       "39. 'is'\n",
       "40. 'are'\n",
       "41. 'was'\n",
       "42. 'were'\n",
       "43. 'be'\n",
       "44. 'been'\n",
       "45. 'being'\n",
       "46. 'have'\n",
       "47. 'has'\n",
       "48. 'had'\n",
       "49. 'having'\n",
       "50. 'do'\n",
       "51. 'does'\n",
       "52. 'did'\n",
       "53. 'doing'\n",
       "54. 'would'\n",
       "55. 'should'\n",
       "56. 'could'\n",
       "57. 'ought'\n",
       "58. 'i\\'m'\n",
       "59. 'you\\'re'\n",
       "60. 'he\\'s'\n",
       "61. 'she\\'s'\n",
       "62. 'it\\'s'\n",
       "63. 'we\\'re'\n",
       "64. 'they\\'re'\n",
       "65. 'i\\'ve'\n",
       "66. 'you\\'ve'\n",
       "67. 'we\\'ve'\n",
       "68. 'they\\'ve'\n",
       "69. 'i\\'d'\n",
       "70. 'you\\'d'\n",
       "71. 'he\\'d'\n",
       "72. 'she\\'d'\n",
       "73. 'we\\'d'\n",
       "74. 'they\\'d'\n",
       "75. 'i\\'ll'\n",
       "76. 'you\\'ll'\n",
       "77. 'he\\'ll'\n",
       "78. 'she\\'ll'\n",
       "79. 'we\\'ll'\n",
       "80. 'they\\'ll'\n",
       "81. 'isn\\'t'\n",
       "82. 'aren\\'t'\n",
       "83. 'wasn\\'t'\n",
       "84. 'weren\\'t'\n",
       "85. 'hasn\\'t'\n",
       "86. 'haven\\'t'\n",
       "87. 'hadn\\'t'\n",
       "88. 'doesn\\'t'\n",
       "89. 'don\\'t'\n",
       "90. 'didn\\'t'\n",
       "91. 'won\\'t'\n",
       "92. 'wouldn\\'t'\n",
       "93. 'shan\\'t'\n",
       "94. 'shouldn\\'t'\n",
       "95. 'can\\'t'\n",
       "96. 'cannot'\n",
       "97. 'couldn\\'t'\n",
       "98. 'mustn\\'t'\n",
       "99. 'let\\'s'\n",
       "100. 'that\\'s'\n",
       "101. 'who\\'s'\n",
       "102. 'what\\'s'\n",
       "103. 'here\\'s'\n",
       "104. 'there\\'s'\n",
       "105. 'when\\'s'\n",
       "106. 'where\\'s'\n",
       "107. 'why\\'s'\n",
       "108. 'how\\'s'\n",
       "109. 'a'\n",
       "110. 'an'\n",
       "111. 'the'\n",
       "112. 'and'\n",
       "113. 'but'\n",
       "114. 'if'\n",
       "115. 'or'\n",
       "116. 'because'\n",
       "117. 'as'\n",
       "118. 'until'\n",
       "119. 'while'\n",
       "120. 'of'\n",
       "121. 'at'\n",
       "122. 'by'\n",
       "123. 'for'\n",
       "124. 'with'\n",
       "125. 'about'\n",
       "126. 'against'\n",
       "127. 'between'\n",
       "128. 'into'\n",
       "129. 'through'\n",
       "130. 'during'\n",
       "131. 'before'\n",
       "132. 'after'\n",
       "133. 'above'\n",
       "134. 'below'\n",
       "135. 'to'\n",
       "136. 'from'\n",
       "137. 'up'\n",
       "138. 'down'\n",
       "139. 'in'\n",
       "140. 'out'\n",
       "141. 'on'\n",
       "142. 'off'\n",
       "143. 'over'\n",
       "144. 'under'\n",
       "145. 'again'\n",
       "146. 'further'\n",
       "147. 'then'\n",
       "148. 'once'\n",
       "149. 'here'\n",
       "150. 'there'\n",
       "151. 'when'\n",
       "152. 'where'\n",
       "153. 'why'\n",
       "154. 'how'\n",
       "155. 'all'\n",
       "156. 'any'\n",
       "157. 'both'\n",
       "158. 'each'\n",
       "159. 'few'\n",
       "160. 'more'\n",
       "161. 'most'\n",
       "162. 'other'\n",
       "163. 'some'\n",
       "164. 'such'\n",
       "165. 'no'\n",
       "166. 'nor'\n",
       "167. 'not'\n",
       "168. 'only'\n",
       "169. 'own'\n",
       "170. 'same'\n",
       "171. 'so'\n",
       "172. 'than'\n",
       "173. 'too'\n",
       "174. 'very'\n",
       "175. 'will'\n",
       "\n",
       "\n"
      ],
      "text/plain": [
       "  [1] \"i\"          \"me\"         \"my\"         \"myself\"     \"we\"        \n",
       "  [6] \"our\"        \"ours\"       \"ourselves\"  \"you\"        \"your\"      \n",
       " [11] \"yours\"      \"yourself\"   \"yourselves\" \"he\"         \"him\"       \n",
       " [16] \"his\"        \"himself\"    \"she\"        \"her\"        \"hers\"      \n",
       " [21] \"herself\"    \"it\"         \"its\"        \"itself\"     \"they\"      \n",
       " [26] \"them\"       \"their\"      \"theirs\"     \"themselves\" \"what\"      \n",
       " [31] \"which\"      \"who\"        \"whom\"       \"this\"       \"that\"      \n",
       " [36] \"these\"      \"those\"      \"am\"         \"is\"         \"are\"       \n",
       " [41] \"was\"        \"were\"       \"be\"         \"been\"       \"being\"     \n",
       " [46] \"have\"       \"has\"        \"had\"        \"having\"     \"do\"        \n",
       " [51] \"does\"       \"did\"        \"doing\"      \"would\"      \"should\"    \n",
       " [56] \"could\"      \"ought\"      \"i'm\"        \"you're\"     \"he's\"      \n",
       " [61] \"she's\"      \"it's\"       \"we're\"      \"they're\"    \"i've\"      \n",
       " [66] \"you've\"     \"we've\"      \"they've\"    \"i'd\"        \"you'd\"     \n",
       " [71] \"he'd\"       \"she'd\"      \"we'd\"       \"they'd\"     \"i'll\"      \n",
       " [76] \"you'll\"     \"he'll\"      \"she'll\"     \"we'll\"      \"they'll\"   \n",
       " [81] \"isn't\"      \"aren't\"     \"wasn't\"     \"weren't\"    \"hasn't\"    \n",
       " [86] \"haven't\"    \"hadn't\"     \"doesn't\"    \"don't\"      \"didn't\"    \n",
       " [91] \"won't\"      \"wouldn't\"   \"shan't\"     \"shouldn't\"  \"can't\"     \n",
       " [96] \"cannot\"     \"couldn't\"   \"mustn't\"    \"let's\"      \"that's\"    \n",
       "[101] \"who's\"      \"what's\"     \"here's\"     \"there's\"    \"when's\"    \n",
       "[106] \"where's\"    \"why's\"      \"how's\"      \"a\"          \"an\"        \n",
       "[111] \"the\"        \"and\"        \"but\"        \"if\"         \"or\"        \n",
       "[116] \"because\"    \"as\"         \"until\"      \"while\"      \"of\"        \n",
       "[121] \"at\"         \"by\"         \"for\"        \"with\"       \"about\"     \n",
       "[126] \"against\"    \"between\"    \"into\"       \"through\"    \"during\"    \n",
       "[131] \"before\"     \"after\"      \"above\"      \"below\"      \"to\"        \n",
       "[136] \"from\"       \"up\"         \"down\"       \"in\"         \"out\"       \n",
       "[141] \"on\"         \"off\"        \"over\"       \"under\"      \"again\"     \n",
       "[146] \"further\"    \"then\"       \"once\"       \"here\"       \"there\"     \n",
       "[151] \"when\"       \"where\"      \"why\"        \"how\"        \"all\"       \n",
       "[156] \"any\"        \"both\"       \"each\"       \"few\"        \"more\"      \n",
       "[161] \"most\"       \"other\"      \"some\"       \"such\"       \"no\"        \n",
       "[166] \"nor\"        \"not\"        \"only\"       \"own\"        \"same\"      \n",
       "[171] \"so\"         \"than\"       \"too\"        \"very\"       \"will\"      "
      ]
     },
     "metadata": {},
     "output_type": "display_data"
    }
   ],
   "source": [
    "as.list(get_stopwords())$word"
   ]
  },
  {
   "cell_type": "code",
   "execution_count": 18,
   "id": "d6aa4fb0-f46b-40c9-b258-ca401f8afe23",
   "metadata": {},
   "outputs": [],
   "source": [
    "# train.df.train %>%\n",
    "#     select(Text) %>%\n",
    "#     unnest_tokens(word, Text) %>%\n",
    "#     anti_join(get_stopwords(), by = join_by(word)) %>%\n",
    "#     unique %>%\n",
    "#     arrange(word) -> vocabulary.train"
   ]
  },
  {
   "cell_type": "code",
   "execution_count": 19,
   "id": "956816f0",
   "metadata": {},
   "outputs": [],
   "source": [
    "# head(vocabulary.train)"
   ]
  },
  {
   "cell_type": "code",
   "execution_count": 20,
   "id": "6897fada",
   "metadata": {},
   "outputs": [],
   "source": [
    "# nrow(vocabulary.train)"
   ]
  },
  {
   "cell_type": "markdown",
   "id": "19d24368",
   "metadata": {},
   "source": [
    "# Cleaning functions"
   ]
  },
  {
   "cell_type": "raw",
   "id": "dab7e458",
   "metadata": {},
   "source": [
    "remove_last_s <- function(token) {\n",
    "    if (endsWith(token, \"s\")) {\n",
    "        token <- substr(token, 1, nchar(token) - 1)\n",
    "    }\n",
    "    return(token)\n",
    "}"
   ]
  },
  {
   "cell_type": "raw",
   "id": "ee40efc1",
   "metadata": {},
   "source": [
    "remove_saxon_genitive<-function(token){\n",
    "    token<-remove_last_s(token)\n",
    "    if (endsWith(token, \"'\")) {\n",
    "        token <- substr(token, 1, nchar(token) - 1)\n",
    "    }\n",
    "    return(token)\n",
    "}"
   ]
  },
  {
   "cell_type": "raw",
   "id": "a458cd84",
   "metadata": {},
   "source": [
    "classify_as_numbers<-function(token){\n",
    "    if(str_detect(token, \"[0-9]+\")){\n",
    "        token<-'--number--'\n",
    "    }\n",
    "    return(token)\n",
    "}"
   ]
  },
  {
   "cell_type": "code",
   "execution_count": 21,
   "id": "e78f51b1",
   "metadata": {},
   "outputs": [],
   "source": [
    "cleaning_tokens <- function(token.df){\n",
    "    word <- ifelse(endsWith(token.df[,1], \"s\"), substr(token.df[,1], 1, nchar(token.df[,1]) - 1), token.df[,1])\n",
    "    word <- ifelse(endsWith(word, \"'\"), substr(word, 1, nchar(word) - 1), word)\n",
    "    word <- ifelse(str_detect(word, \"[0-9]+\"), '--number--', word)\n",
    "#     word %<>% unique\n",
    "    return(as.data.frame(word))\n",
    "}"
   ]
  },
  {
   "cell_type": "markdown",
   "id": "fa77e980",
   "metadata": {},
   "source": [
    "## Clean the vocabulary"
   ]
  },
  {
   "cell_type": "code",
   "execution_count": 22,
   "id": "8fdbebf8",
   "metadata": {},
   "outputs": [],
   "source": [
    "# vocabulary.train.cleaned <- cleaning_tokens(token.df = vocabulary.train)"
   ]
  },
  {
   "cell_type": "code",
   "execution_count": 23,
   "id": "ca7e5dd6",
   "metadata": {},
   "outputs": [],
   "source": [
    "# vocabulary.train.cleaned %>%\n",
    "#     filter(grepl(\"\\\\.\", word)) %>%\n",
    "#     rename(w = word) %>%\n",
    "#     mutate(len=nchar(w)) %>%\n",
    "#     arrange(desc(len))"
   ]
  },
  {
   "cell_type": "markdown",
   "id": "b6ca812f",
   "metadata": {},
   "source": [
    "# Feature selection"
   ]
  },
  {
   "cell_type": "markdown",
   "id": "5552cbfb",
   "metadata": {},
   "source": [
    "## With frequency mean"
   ]
  },
  {
   "cell_type": "code",
   "execution_count": 24,
   "id": "2a5c5b8a",
   "metadata": {},
   "outputs": [],
   "source": [
    "tags_numbers <- list(tags = c('Barely True', 'False', 'Half-True', 'Mostly-True', 'Not known', 'True'),\n",
    "                     numbers = c(0:5))"
   ]
  },
  {
   "cell_type": "code",
   "execution_count": 25,
   "id": "e01ed0d2",
   "metadata": {},
   "outputs": [],
   "source": [
    "myframes <- list()\n",
    "\n",
    "for (i in 1:length(tags_numbers$tags)) {\n",
    "    tag <- tags_numbers$tags[i]\n",
    "\n",
    "    train.df.train %>%\n",
    "        filter(Labels == tags_numbers$numbers[i]) %>%\n",
    "        select(Text) %>%\n",
    "        unnest_tokens(word, Text) %>%\n",
    "        anti_join(get_stopwords(), by = join_by(word)) %>%\n",
    "        cleaning_tokens %>%\n",
    "        arrange(word) %>%\n",
    "        group_by(word) %>%\n",
    "        reframe(counts = n()) %>%\n",
    "        arrange(desc(counts)) %>%\n",
    "        setNames(c(\"word\", tag)) -> myframes[[i]]\n",
    "}"
   ]
  },
  {
   "cell_type": "code",
   "execution_count": 26,
   "id": "bbe33fc0",
   "metadata": {},
   "outputs": [],
   "source": [
    "counts<-purrr::reduce(myframes, dplyr::full_join, by = 'word')"
   ]
  },
  {
   "cell_type": "code",
   "execution_count": 27,
   "id": "26e59733",
   "metadata": {},
   "outputs": [
    {
     "data": {
      "text/html": [
       "<table class=\"dataframe\">\n",
       "<caption>A tibble: 6 × 7</caption>\n",
       "<thead>\n",
       "\t<tr><th scope=col>word</th><th scope=col>Barely True</th><th scope=col>False</th><th scope=col>Half-True</th><th scope=col>Mostly-True</th><th scope=col>Not known</th><th scope=col>True</th></tr>\n",
       "\t<tr><th scope=col>&lt;chr&gt;</th><th scope=col>&lt;int&gt;</th><th scope=col>&lt;int&gt;</th><th scope=col>&lt;int&gt;</th><th scope=col>&lt;int&gt;</th><th scope=col>&lt;int&gt;</th><th scope=col>&lt;int&gt;</th></tr>\n",
       "</thead>\n",
       "<tbody>\n",
       "\t<tr><td>--number--</td><td>693</td><td>784</td><td>1106</td><td>1157</td><td>259</td><td>872</td></tr>\n",
       "\t<tr><td>say       </td><td>361</td><td>417</td><td> 411</td><td> 334</td><td>192</td><td>268</td></tr>\n",
       "\t<tr><td>state     </td><td>157</td><td>214</td><td> 224</td><td> 237</td><td> 60</td><td>228</td></tr>\n",
       "\t<tr><td>year      </td><td>154</td><td>170</td><td> 217</td><td> 224</td><td> 45</td><td>178</td></tr>\n",
       "\t<tr><td>obama     </td><td>134</td><td>164</td><td> 142</td><td>  84</td><td>105</td><td> 73</td></tr>\n",
       "\t<tr><td>percent   </td><td>121</td><td>129</td><td> 216</td><td> 243</td><td> 34</td><td>191</td></tr>\n",
       "</tbody>\n",
       "</table>\n"
      ],
      "text/latex": [
       "A tibble: 6 × 7\n",
       "\\begin{tabular}{lllllll}\n",
       " word & Barely True & False & Half-True & Mostly-True & Not known & True\\\\\n",
       " <chr> & <int> & <int> & <int> & <int> & <int> & <int>\\\\\n",
       "\\hline\n",
       "\t --number-- & 693 & 784 & 1106 & 1157 & 259 & 872\\\\\n",
       "\t say        & 361 & 417 &  411 &  334 & 192 & 268\\\\\n",
       "\t state      & 157 & 214 &  224 &  237 &  60 & 228\\\\\n",
       "\t year       & 154 & 170 &  217 &  224 &  45 & 178\\\\\n",
       "\t obama      & 134 & 164 &  142 &   84 & 105 &  73\\\\\n",
       "\t percent    & 121 & 129 &  216 &  243 &  34 & 191\\\\\n",
       "\\end{tabular}\n"
      ],
      "text/markdown": [
       "\n",
       "A tibble: 6 × 7\n",
       "\n",
       "| word &lt;chr&gt; | Barely True &lt;int&gt; | False &lt;int&gt; | Half-True &lt;int&gt; | Mostly-True &lt;int&gt; | Not known &lt;int&gt; | True &lt;int&gt; |\n",
       "|---|---|---|---|---|---|---|\n",
       "| --number-- | 693 | 784 | 1106 | 1157 | 259 | 872 |\n",
       "| say        | 361 | 417 |  411 |  334 | 192 | 268 |\n",
       "| state      | 157 | 214 |  224 |  237 |  60 | 228 |\n",
       "| year       | 154 | 170 |  217 |  224 |  45 | 178 |\n",
       "| obama      | 134 | 164 |  142 |   84 | 105 |  73 |\n",
       "| percent    | 121 | 129 |  216 |  243 |  34 | 191 |\n",
       "\n"
      ],
      "text/plain": [
       "  word       Barely True False Half-True Mostly-True Not known True\n",
       "1 --number-- 693         784   1106      1157        259       872 \n",
       "2 say        361         417    411       334        192       268 \n",
       "3 state      157         214    224       237         60       228 \n",
       "4 year       154         170    217       224         45       178 \n",
       "5 obama      134         164    142        84        105        73 \n",
       "6 percent    121         129    216       243         34       191 "
      ]
     },
     "metadata": {},
     "output_type": "display_data"
    }
   ],
   "source": [
    "head(counts)"
   ]
  },
  {
   "cell_type": "code",
   "execution_count": 28,
   "id": "f3061b83",
   "metadata": {},
   "outputs": [],
   "source": [
    "counts %<>% replace(is.na(.),0)"
   ]
  },
  {
   "cell_type": "code",
   "execution_count": 29,
   "id": "fef12449",
   "metadata": {},
   "outputs": [],
   "source": [
    "counts %>%\n",
    "    select(-word) %>%\n",
    "    colSums() -> tot_counts_per_class"
   ]
  },
  {
   "cell_type": "code",
   "execution_count": 30,
   "id": "d52911e5",
   "metadata": {},
   "outputs": [],
   "source": [
    "counts_prob <- cbind(counts[\"word\"], counts[2:7]/tot_counts_per_class)"
   ]
  },
  {
   "cell_type": "code",
   "execution_count": 31,
   "id": "27362d0d",
   "metadata": {},
   "outputs": [],
   "source": [
    "counts_prob[\"mean\"] <- rowMeans(counts_prob[2:7])"
   ]
  },
  {
   "cell_type": "code",
   "execution_count": 32,
   "id": "14d6ed95",
   "metadata": {},
   "outputs": [],
   "source": [
    "counts_prob %>%\n",
    "    arrange(desc(mean)) %>%\n",
    "    top_frac(0.1, mean) -> vocabulary.train.features"
   ]
  },
  {
   "cell_type": "code",
   "execution_count": 33,
   "id": "9edcad11",
   "metadata": {},
   "outputs": [
    {
     "data": {
      "text/html": [
       "<table class=\"dataframe\">\n",
       "<caption>A data.frame: 6 × 8</caption>\n",
       "<thead>\n",
       "\t<tr><th></th><th scope=col>word</th><th scope=col>Barely True</th><th scope=col>False</th><th scope=col>Half-True</th><th scope=col>Mostly-True</th><th scope=col>Not known</th><th scope=col>True</th><th scope=col>mean</th></tr>\n",
       "\t<tr><th></th><th scope=col>&lt;chr&gt;</th><th scope=col>&lt;dbl&gt;</th><th scope=col>&lt;dbl&gt;</th><th scope=col>&lt;dbl&gt;</th><th scope=col>&lt;dbl&gt;</th><th scope=col>&lt;dbl&gt;</th><th scope=col>&lt;dbl&gt;</th><th scope=col>&lt;dbl&gt;</th></tr>\n",
       "</thead>\n",
       "<tbody>\n",
       "\t<tr><th scope=row>1</th><td>--number--</td><td>0.045383104</td><td>0.043625842</td><td>0.072429601</td><td>0.064381504</td><td>0.016961362</td><td>0.04852262</td><td>0.048550672</td></tr>\n",
       "\t<tr><th scope=row>2</th><td>say       </td><td>0.020790141</td><td>0.056146493</td><td>0.023669661</td><td>0.044971052</td><td>0.011057360</td><td>0.03608456</td><td>0.032119877</td></tr>\n",
       "\t<tr><th scope=row>3</th><td>obama     </td><td>0.018042278</td><td>0.009444828</td><td>0.019119429</td><td>0.004837595</td><td>0.014137606</td><td>0.00420410</td><td>0.011630973</td></tr>\n",
       "\t<tr><th scope=row>4</th><td>state     </td><td>0.007935305</td><td>0.014492754</td><td>0.011321708</td><td>0.016050386</td><td>0.003032600</td><td>0.01544088</td><td>0.011378938</td></tr>\n",
       "\t<tr><th scope=row>5</th><td>year      </td><td>0.008569362</td><td>0.011132940</td><td>0.012075010</td><td>0.014669286</td><td>0.002504034</td><td>0.01165684</td><td>0.010101246</td></tr>\n",
       "\t<tr><th scope=row>6</th><td>tax       </td><td>0.005471090</td><td>0.014676181</td><td>0.006450127</td><td>0.014541538</td><td>0.002361207</td><td>0.01050222</td><td>0.009000394</td></tr>\n",
       "</tbody>\n",
       "</table>\n"
      ],
      "text/latex": [
       "A data.frame: 6 × 8\n",
       "\\begin{tabular}{r|llllllll}\n",
       "  & word & Barely True & False & Half-True & Mostly-True & Not known & True & mean\\\\\n",
       "  & <chr> & <dbl> & <dbl> & <dbl> & <dbl> & <dbl> & <dbl> & <dbl>\\\\\n",
       "\\hline\n",
       "\t1 & --number-- & 0.045383104 & 0.043625842 & 0.072429601 & 0.064381504 & 0.016961362 & 0.04852262 & 0.048550672\\\\\n",
       "\t2 & say        & 0.020790141 & 0.056146493 & 0.023669661 & 0.044971052 & 0.011057360 & 0.03608456 & 0.032119877\\\\\n",
       "\t3 & obama      & 0.018042278 & 0.009444828 & 0.019119429 & 0.004837595 & 0.014137606 & 0.00420410 & 0.011630973\\\\\n",
       "\t4 & state      & 0.007935305 & 0.014492754 & 0.011321708 & 0.016050386 & 0.003032600 & 0.01544088 & 0.011378938\\\\\n",
       "\t5 & year       & 0.008569362 & 0.011132940 & 0.012075010 & 0.014669286 & 0.002504034 & 0.01165684 & 0.010101246\\\\\n",
       "\t6 & tax        & 0.005471090 & 0.014676181 & 0.006450127 & 0.014541538 & 0.002361207 & 0.01050222 & 0.009000394\\\\\n",
       "\\end{tabular}\n"
      ],
      "text/markdown": [
       "\n",
       "A data.frame: 6 × 8\n",
       "\n",
       "| <!--/--> | word &lt;chr&gt; | Barely True &lt;dbl&gt; | False &lt;dbl&gt; | Half-True &lt;dbl&gt; | Mostly-True &lt;dbl&gt; | Not known &lt;dbl&gt; | True &lt;dbl&gt; | mean &lt;dbl&gt; |\n",
       "|---|---|---|---|---|---|---|---|---|\n",
       "| 1 | --number-- | 0.045383104 | 0.043625842 | 0.072429601 | 0.064381504 | 0.016961362 | 0.04852262 | 0.048550672 |\n",
       "| 2 | say        | 0.020790141 | 0.056146493 | 0.023669661 | 0.044971052 | 0.011057360 | 0.03608456 | 0.032119877 |\n",
       "| 3 | obama      | 0.018042278 | 0.009444828 | 0.019119429 | 0.004837595 | 0.014137606 | 0.00420410 | 0.011630973 |\n",
       "| 4 | state      | 0.007935305 | 0.014492754 | 0.011321708 | 0.016050386 | 0.003032600 | 0.01544088 | 0.011378938 |\n",
       "| 5 | year       | 0.008569362 | 0.011132940 | 0.012075010 | 0.014669286 | 0.002504034 | 0.01165684 | 0.010101246 |\n",
       "| 6 | tax        | 0.005471090 | 0.014676181 | 0.006450127 | 0.014541538 | 0.002361207 | 0.01050222 | 0.009000394 |\n",
       "\n"
      ],
      "text/plain": [
       "  word       Barely True False       Half-True   Mostly-True Not known  \n",
       "1 --number-- 0.045383104 0.043625842 0.072429601 0.064381504 0.016961362\n",
       "2 say        0.020790141 0.056146493 0.023669661 0.044971052 0.011057360\n",
       "3 obama      0.018042278 0.009444828 0.019119429 0.004837595 0.014137606\n",
       "4 state      0.007935305 0.014492754 0.011321708 0.016050386 0.003032600\n",
       "5 year       0.008569362 0.011132940 0.012075010 0.014669286 0.002504034\n",
       "6 tax        0.005471090 0.014676181 0.006450127 0.014541538 0.002361207\n",
       "  True       mean       \n",
       "1 0.04852262 0.048550672\n",
       "2 0.03608456 0.032119877\n",
       "3 0.00420410 0.011630973\n",
       "4 0.01544088 0.011378938\n",
       "5 0.01165684 0.010101246\n",
       "6 0.01050222 0.009000394"
      ]
     },
     "metadata": {},
     "output_type": "display_data"
    }
   ],
   "source": [
    "head(vocabulary.train.features)"
   ]
  },
  {
   "cell_type": "code",
   "execution_count": 34,
   "id": "8685e459",
   "metadata": {},
   "outputs": [],
   "source": [
    "counts %>%\n",
    "    right_join(vocabulary.train.features[\"word\"], by = join_by(word)) -> naive.bayes.vocabulary"
   ]
  },
  {
   "cell_type": "code",
   "execution_count": 35,
   "id": "c3c680c0",
   "metadata": {},
   "outputs": [
    {
     "data": {
      "text/html": [
       "908"
      ],
      "text/latex": [
       "908"
      ],
      "text/markdown": [
       "908"
      ],
      "text/plain": [
       "[1] 908"
      ]
     },
     "metadata": {},
     "output_type": "display_data"
    }
   ],
   "source": [
    "length(naive.bayes.vocabulary[[1]])"
   ]
  },
  {
   "cell_type": "code",
   "execution_count": 36,
   "id": "7be85d1c",
   "metadata": {},
   "outputs": [],
   "source": [
    "den <- tot_counts_per_class + length(naive.bayes.vocabulary[[1]])"
   ]
  },
  {
   "cell_type": "code",
   "execution_count": 37,
   "id": "dc0ef330",
   "metadata": {},
   "outputs": [
    {
     "data": {
      "text/html": [
       "<style>\n",
       ".dl-inline {width: auto; margin:0; padding: 0}\n",
       ".dl-inline>dt, .dl-inline>dd {float: none; width: auto; display: inline-block}\n",
       ".dl-inline>dt::after {content: \":\\0020\"; padding-right: .5ex}\n",
       ".dl-inline>dt:not(:first-of-type) {padding-left: .5ex}\n",
       "</style><dl class=dl-inline><dt>Barely True</dt><dd>16178</dd><dt>False</dt><dd>18272</dd><dt>Half-True</dt><dd>20693</dd><dt>Mostly-True</dt><dd>18879</dd><dt>Not known</dt><dd>8335</dd><dt>True</dt><dd>15674</dd></dl>\n"
      ],
      "text/latex": [
       "\\begin{description*}\n",
       "\\item[Barely True] 16178\n",
       "\\item[False] 18272\n",
       "\\item[Half-True] 20693\n",
       "\\item[Mostly-True] 18879\n",
       "\\item[Not known] 8335\n",
       "\\item[True] 15674\n",
       "\\end{description*}\n"
      ],
      "text/markdown": [
       "Barely True\n",
       ":   16178False\n",
       ":   18272Half-True\n",
       ":   20693Mostly-True\n",
       ":   18879Not known\n",
       ":   8335True\n",
       ":   15674\n",
       "\n"
      ],
      "text/plain": [
       "Barely True       False   Half-True Mostly-True   Not known        True \n",
       "      16178       18272       20693       18879        8335       15674 "
      ]
     },
     "metadata": {},
     "output_type": "display_data"
    }
   ],
   "source": [
    "den"
   ]
  },
  {
   "cell_type": "code",
   "execution_count": 38,
   "id": "077e918c",
   "metadata": {},
   "outputs": [],
   "source": [
    "likelihood.token <- cbind(naive.bayes.vocabulary[\"word\"], (naive.bayes.vocabulary[2:7] + 1)/den)"
   ]
  },
  {
   "cell_type": "code",
   "execution_count": 39,
   "id": "1b91efcc",
   "metadata": {},
   "outputs": [],
   "source": [
    "# is.na(log(as.numeric(likelihood.token[likelihood.token['word']=='ciao'][2:6])))\n",
    "\n",
    "# is.na(likelihood.token[likelihood.token['word']=='ciao'])"
   ]
  },
  {
   "cell_type": "code",
   "execution_count": 40,
   "id": "eb84e3bf",
   "metadata": {},
   "outputs": [],
   "source": [
    "msg<-c('obama', 'percent', 'tommasomarco')"
   ]
  },
  {
   "cell_type": "code",
   "execution_count": 41,
   "id": "7228d489",
   "metadata": {},
   "outputs": [
    {
     "name": "stdout",
     "output_type": "stream",
     "text": [
      "1.25869e-09 7.737015e-10 7.924553e-10 1.611177e-09 1.233728e-10 3.797736e-10 \n"
     ]
    }
   ],
   "source": [
    "query_out <- log(as.numeric(prior.classes))\n",
    "for (i in 1:length(msg)) {\n",
    "    query <- log(as.numeric(likelihood.token[likelihood.token[\"word\"] == msg[i]][2:7]))\n",
    "    if (is.na(query[1])) {\n",
    "        query <- as.numeric(log(1/den))\n",
    "    }\n",
    "    #### query is log likelihood for each class\n",
    "    query_out <- query_out + query\n",
    "\n",
    "}\n",
    "cat(exp(query_out), \"\\n\")"
   ]
  },
  {
   "cell_type": "markdown",
   "id": "91a66b43",
   "metadata": {},
   "source": [
    "## With absolute counts per class\n",
    "To implement"
   ]
  },
  {
   "cell_type": "code",
   "execution_count": null,
   "id": "545916ed",
   "metadata": {},
   "outputs": [],
   "source": [
    "# train.df.train %>%\n",
    "#     filter(Labels == 5) %>%\n",
    "#     select(Text) %>%\n",
    "#     unnest_tokens(word, Text) %>%\n",
    "#     anti_join(get_stopwords(), by = join_by(word)) %>%\n",
    "#     arrange(word) %>%\n",
    "#     group_by(word) %>%\n",
    "#     reframe(counts=n()) %>%\n",
    "#     arrange(desc(counts)) -> true"
   ]
  },
  {
   "cell_type": "markdown",
   "id": "d3370b82",
   "metadata": {},
   "source": [
    "## Naive Bayes Classifier"
   ]
  },
  {
   "cell_type": "markdown",
   "id": "049a39d8",
   "metadata": {},
   "source": [
    "#### Some suggestion to create equivalence classes"
   ]
  },
  {
   "cell_type": "code",
   "execution_count": null,
   "id": "58fa61b9",
   "metadata": {},
   "outputs": [],
   "source": [
    "vocabulary.train %>%\n",
    "    filter(grepl(\"al\", word)) %>%\n",
    "    head"
   ]
  },
  {
   "cell_type": "code",
   "execution_count": null,
   "id": "42e289d5",
   "metadata": {},
   "outputs": [],
   "source": [
    "vocabulary.train.cleaned %>%\n",
    "    filter(grepl(\"\\\\'s\", word))"
   ]
  },
  {
   "cell_type": "code",
   "execution_count": null,
   "id": "5296b19e-34d3-4eaf-96f5-59b9a5e5c34e",
   "metadata": {},
   "outputs": [],
   "source": [
    "train.df %>%\n",
    "    filter(grepl(\"06\", Text)) %>%\n",
    "    filter(!grepl(\"2006\", Text))  #%>% summarise(n())"
   ]
  },
  {
   "cell_type": "markdown",
   "id": "540c0610",
   "metadata": {},
   "source": [
    "## About the data"
   ]
  },
  {
   "cell_type": "markdown",
   "id": "083226f9",
   "metadata": {},
   "source": [
    "# Count how many topics there are"
   ]
  },
  {
   "cell_type": "code",
   "execution_count": null,
   "id": "7def17b5-1c36-4d62-a4ec-80d96f949878",
   "metadata": {},
   "outputs": [],
   "source": [
    "train.df.train %>%\n",
    "    select(Text_Tag) %>%\n",
    "    unnest_tokens(word, Text_Tag, token = stringr::str_split, pattern = \",\") %>%\n",
    "    unique %>%\n",
    "    arrange(word) -> topics"
   ]
  },
  {
   "cell_type": "code",
   "execution_count": null,
   "id": "526a00dc",
   "metadata": {},
   "outputs": [],
   "source": [
    "train.df.train  %>% filter(Text_Tag=='')"
   ]
  },
  {
   "cell_type": "code",
   "execution_count": null,
   "id": "26be1925",
   "metadata": {},
   "outputs": [],
   "source": [
    "topics<-as.list(topics)$word"
   ]
  },
  {
   "cell_type": "markdown",
   "id": "a5d3389c",
   "metadata": {},
   "source": [
    "#### Number of unique topics"
   ]
  },
  {
   "cell_type": "code",
   "execution_count": null,
   "id": "5508982f",
   "metadata": {},
   "outputs": [],
   "source": [
    "length(topics)"
   ]
  },
  {
   "cell_type": "markdown",
   "id": "b02d9523",
   "metadata": {},
   "source": [
    "#### Most frequent and infrequent topics"
   ]
  },
  {
   "cell_type": "code",
   "execution_count": null,
   "id": "085e9040",
   "metadata": {},
   "outputs": [],
   "source": [
    "counts<-vector()\n",
    "for(i in seq_along(topics)){\n",
    "    counts[i]<- as.numeric(train.df.train %>% filter(grepl(topics[i], Text_Tag)) %>% summarise(n()))\n",
    "    }"
   ]
  },
  {
   "cell_type": "code",
   "execution_count": null,
   "id": "67287a14",
   "metadata": {},
   "outputs": [],
   "source": [
    "topics_counts <- data.frame(topics, counts)"
   ]
  },
  {
   "cell_type": "code",
   "execution_count": null,
   "id": "d322c116",
   "metadata": {},
   "outputs": [],
   "source": [
    "topics_counts %>%\n",
    "    filter(topics != \"\") %>%\n",
    "    arrange(desc(counts)) %>%\n",
    "    head()"
   ]
  },
  {
   "cell_type": "code",
   "execution_count": null,
   "id": "c259ae58",
   "metadata": {},
   "outputs": [],
   "source": [
    "topics_counts %>%\n",
    "    arrange(counts) %>%\n",
    "    head()"
   ]
  }
 ],
 "metadata": {
  "kernelspec": {
   "display_name": "R",
   "language": "R",
   "name": "ir"
  },
  "language_info": {
   "codemirror_mode": "r",
   "file_extension": ".r",
   "mimetype": "text/x-r-source",
   "name": "R",
   "pygments_lexer": "r",
   "version": "4.2.2"
  }
 },
 "nbformat": 4,
 "nbformat_minor": 5
}
